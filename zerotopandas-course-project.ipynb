{
 "cells": [
  {
   "cell_type": "markdown",
   "metadata": {
    "id": "jvFB7xS25hYN"
   },
   "source": [
    "# IPL DATA ANALYSIS (2008 - 2019)\n",
    "\n",
    "Indian Premier League more popularly called as IPL is a Cricket Tournament hoisted by the Cricket Board of India (BCCI). Players from different countries participate in IPL making it an exciting oppurtunity to entertain cricket lovers. IPL was established in 2008 when the first season of IPL was hoisted. Since then every year the IPL game is played and celebrated as a month long cricket festival for Indians and cricket lovers throughout the world. IPL also gives opppurtunities to the young players to showcase their talent and improve their experience by playing with some of the best and experienced players of cricket.\n",
    "\n",
    "In this project I am going to go through two datasets of IPL matches in INDIA ,observe the data, analyze and process it and going to answer few common questions about the dataset that would generally bug you. Go through the notebook carefully and enjoy the different observations made by me .\n",
    "### About the Datasets:\n",
    "\n",
    "The given dataset was taken from the dataset bundle present in Kaggle Datasets, Refer to this link [IPL 2008-2019 Kaggle Dataset](https://www.kaggle.com/nowke9/ipldata) to get more information about the dataset and download it from Kaggle to work with it.\n",
    "\n",
    "With this dataset I am trying to visualize different trends in IPL score of teams and players from 2008 to 2019, As the current season IPL 2020 is ongoing it would be fun and helpful to know the stats of teams and players visually for the last 11 years. Hope you will enjoy the visualization provided by me. \n",
    "\n",
    "The name of the Dataset used for this projects are `matches.csv` and `deliveries.csv`. There are 756 rows in the `matches.csv` file each row containing data about a specific match. The `deliveries.csv` dataset is a huge one with over `1.79 Lakhs` of rows of data and every row represents data from each delivery from each match for the last 11 years. \n",
    "\n",
    "I will be using Python 3 for this analysis, And am doing this project in Jupyter Notebook(Kaggle and Google Collab are also good options to run this notebook and work with it). The Libraries/Packages I will be using in this projects are as followed.\n",
    "* __jovian__ (to upload, save and share the contents of my notebook)\n",
    "* __numpy__ (as np is one of the very famous packages for working with arrays in python)\n",
    "* __pandas__ (Is greatly used in analysis of data and making dataframe)\n",
    "* __matplotlib__ (Lets make our Analyzation fun and interative with the visualization library matplotlib)\n",
    "* __seaborn__ (Adding more colours into matplotlib visualization)\n",
    "* __collections__ (specialized container datatypes providing alternatives to Python's general purpose built-in containers like dict, list etc.)\n",
    "* __opendatasets__ (A great library to fetch data from Kaggle or from its own content)\n",
    "\n",
    "If you want to run this notebook in your machine the steps to do so are given at the end of the Project.# IPL DATA ANALYSIS (2008 - 2019)\n",
    "\n",
    "Indian Premier League more popularly called as IPL is a Cricket Tournament hoisted by the Cricket Board of India(BCCI). Players from different countries participate in IPL making it an exciting oppurtunity to entertain cricket lovers. IPL was established in 2008 when the first season of IPL was hoisted. Since then every year the IPL game is played and celebrated as a month long cricket festival for Indians and cricket lovers throughout the world. IPL also gives opppurtunities to the young players to showcase their talent and improve their experience by playing with some of the best and experienced players of cricket. As the current season of IPL(2020) is ongoing let us all revise and analyze the performance of players in the previous Seasons.\n",
    "\n",
    "In this project I am going to go through two datasets of IPL matches in India, observe the data, analyze and process it and going to answer few common questions about the dataset that would generally bug you. Go through the notebook carefully and enjoy the different observations made by me.\n"
   ]
  },
  {
   "cell_type": "markdown",
   "metadata": {
    "id": "NJlal-8q5hYO"
   },
   "source": [
    "## Table Of Contents\n",
    "\n",
    "* Importing Packages\n",
    "\n",
    "* Fetching The dataset\n",
    "\n",
    "* Data Preparation And Cleaning\n",
    "\n",
    "    * Data Preparation For The Matches Dataframe\n",
    "    * Data Preparation For The Deliveries Dataframe\n",
    "    \n",
    "* Exploratory Analysis and Visualization\n",
    "    \n",
    "    * Matches DF Analysis\n",
    "        \n",
    "       * Toss Decision Visualisation\n",
    "       * Matches Hosted By Each City\n",
    "       * The Top 10 Biggest Victory Margins, Both Through Runs & Wickets\n",
    "       * Total Matches In Each Season\n",
    "       * Matches Played & Won By Each Team\n",
    "       * Matches Won By The Home Team & The Away Team\n",
    "    \n",
    "    * Deliveries DF Analysis\n",
    "    \n",
    "       * Different Kinds Of Batsmen Dismissal\n",
    "       * Most Matches Played By Batsmen & Bowlers\n",
    "       * Most 6s &  4s Hit By Batsmen\n",
    "       * Most Wickets Taking Bowlers\n",
    "       * Bowlers Who Bowled The Most Deliveries\n",
    "       \n",
    "* Asking And Answering Questions\n",
    "    \n",
    "    * Who Won The Most Man Of The Match Awards?\n",
    "    * How Many Matches Were There Where The Toss Winner Also Won The Match?\n",
    "    * How Did The Top Bowlers Dismiss The Batsmen?\n",
    "    * Who Were The Batsmen Who Struggled Against A Particular Bowler?\n",
    "    * Who Were The Top 10 Batsmen Based On Runs Scored & Who Were The Top 10 Batsmen That Were Dismissed The Most?\n",
    "    * Who Were The Top Batsmen Based On Batting Average?\n",
    "    \n",
    "* Inferences And Conclusion\n",
    "\n",
    "* Reference And Future Works\n",
    "\n",
    "* Steps To Run The Notebook"
   ]
  },
  {
   "cell_type": "code",
   "execution_count": 1,
   "metadata": {
    "executionInfo": {
     "elapsed": 10,
     "status": "ok",
     "timestamp": 1628011796949,
     "user": {
      "displayName": "Aseem Bathla",
      "photoUrl": "",
      "userId": "03429090169407160342"
     },
     "user_tz": -330
    },
    "id": "eVNEg5Tc5hYQ"
   },
   "outputs": [],
   "source": [
    "project_name = \"ipl-data-analysis(2008-2019)\" "
   ]
  },
  {
   "cell_type": "code",
   "execution_count": 2,
   "metadata": {
    "executionInfo": {
     "elapsed": 6587,
     "status": "ok",
     "timestamp": 1628011803527,
     "user": {
      "displayName": "Aseem Bathla",
      "photoUrl": "",
      "userId": "03429090169407160342"
     },
     "user_tz": -330
    },
    "id": "AgCcatK_5hYQ"
   },
   "outputs": [],
   "source": [
    "!pip install opendatasets --upgrade -q\n",
    "!pip install jovian --upgrade -q"
   ]
  },
  {
   "cell_type": "code",
   "execution_count": 3,
   "metadata": {
    "colab": {
     "base_uri": "https://localhost:8080/"
    },
    "executionInfo": {
     "elapsed": 29351,
     "status": "ok",
     "timestamp": 1628011832870,
     "user": {
      "displayName": "Aseem Bathla",
      "photoUrl": "",
      "userId": "03429090169407160342"
     },
     "user_tz": -330
    },
    "id": "HVvaY0Zq5hYR",
    "outputId": "9b3183c5-6456-4339-aa54-17839b0230de"
   },
   "outputs": [],
   "source": [
    "#Installing the upgraded version of all libraries.\n",
    "\n",
    "!pip install numpy pandas matplotlib seaborn --upgrade --quiet"
   ]
  },
  {
   "cell_type": "code",
   "execution_count": 4,
   "metadata": {
    "executionInfo": {
     "elapsed": 679,
     "status": "ok",
     "timestamp": 1628011833543,
     "user": {
      "displayName": "Aseem Bathla",
      "photoUrl": "",
      "userId": "03429090169407160342"
     },
     "user_tz": -330
    },
    "id": "AQxu7xd05hYR"
   },
   "outputs": [],
   "source": [
    "# Let us begin with importing all the required packages\n",
    "\n",
    "import pandas as pd\n",
    "import opendatasets as od\n",
    "import numpy as np\n",
    "import matplotlib.pyplot as plt\n",
    "import seaborn as sns\n",
    "import matplotlib\n",
    "from collections import Counter\n",
    "%matplotlib inline"
   ]
  },
  {
   "cell_type": "markdown",
   "metadata": {
    "id": "z1MONRlM5hYR"
   },
   "source": [
    "## Fetching The Dataset"
   ]
  },
  {
   "cell_type": "code",
   "execution_count": 5,
   "metadata": {
    "colab": {
     "base_uri": "https://localhost:8080/"
    },
    "executionInfo": {
     "elapsed": 61484,
     "status": "ok",
     "timestamp": 1628011894999,
     "user": {
      "displayName": "Aseem Bathla",
      "photoUrl": "",
      "userId": "03429090169407160342"
     },
     "user_tz": -330
    },
    "id": "AIYiafOW5hYR",
    "outputId": "8e33af79-a8b1-4d57-bc84-0c3220134263"
   },
   "outputs": [
    {
     "name": "stdout",
     "output_type": "stream",
     "text": [
      "File not present Downloading Files.....\n",
      "Please provide your Kaggle credentials to download this dataset. Learn more: http://bit.ly/kaggle-creds\n",
      "Your Kaggle username: aseembathla\n",
      "Your Kaggle Key: ········\n",
      "Downloading ipldata.zip to ./ipldata\n"
     ]
    },
    {
     "name": "stderr",
     "output_type": "stream",
     "text": [
      "100%|██████████| 1.20M/1.20M [00:00<00:00, 49.4MB/s]"
     ]
    },
    {
     "name": "stdout",
     "output_type": "stream",
     "text": [
      "\n"
     ]
    },
    {
     "name": "stderr",
     "output_type": "stream",
     "text": [
      "\n"
     ]
    }
   ],
   "source": [
    "# Using Opendataset to fetch the data from Kaggle\n",
    "# To prevent the dataset to download everytime you run this code we are using os.path.isfile\n",
    "# to check if the required file is present in the directory or not. \n",
    "import os\n",
    "if not (os.path.isfile('./ipldata/matches.csv') and os.path.isfile('./ipldata/deliveries.csv')):\n",
    "    print(\"File not present Downloading Files.....\")\n",
    "    dataset_url = 'https://www.kaggle.com/nowke9/ipldata'\n",
    "    od.download(dataset_url)\n",
    "else:\n",
    "    print(\"File Present in Directory skipping the download.\")"
   ]
  },
  {
   "cell_type": "code",
   "execution_count": 6,
   "metadata": {
    "executionInfo": {
     "elapsed": 3392,
     "status": "ok",
     "timestamp": 1628011898379,
     "user": {
      "displayName": "Aseem Bathla",
      "photoUrl": "",
      "userId": "03429090169407160342"
     },
     "user_tz": -330
    },
    "id": "d4Tovwz65hYS"
   },
   "outputs": [],
   "source": [
    "!pip install jovian --upgrade -q"
   ]
  },
  {
   "cell_type": "code",
   "execution_count": 7,
   "metadata": {
    "executionInfo": {
     "elapsed": 43,
     "status": "ok",
     "timestamp": 1628011898379,
     "user": {
      "displayName": "Aseem Bathla",
      "photoUrl": "",
      "userId": "03429090169407160342"
     },
     "user_tz": -330
    },
    "id": "J2CQ25Nr5hYT"
   },
   "outputs": [],
   "source": [
    "import jovian"
   ]
  },
  {
   "cell_type": "code",
   "execution_count": 8,
   "metadata": {
    "colab": {
     "base_uri": "https://localhost:8080/",
     "height": 186
    },
    "executionInfo": {
     "elapsed": 20926,
     "status": "ok",
     "timestamp": 1628011919267,
     "user": {
      "displayName": "Aseem Bathla",
      "photoUrl": "",
      "userId": "03429090169407160342"
     },
     "user_tz": -330
    },
    "id": "0qrP2Ang5hYT",
    "outputId": "3b7395fe-e3ce-43ce-f187-6f0905094643"
   },
   "outputs": [
    {
     "data": {
      "application/javascript": [
       "window.require && require([\"base/js/namespace\"],function(Jupyter){Jupyter.notebook.save_checkpoint()})"
      ],
      "text/plain": [
       "<IPython.core.display.Javascript object>"
      ]
     },
     "metadata": {},
     "output_type": "display_data"
    },
    {
     "name": "stdout",
     "output_type": "stream",
     "text": [
      "[jovian] Updating notebook \"aseembathla19/ipl-data-analysis-2008-2019\" on https://jovian.ai\u001b[0m\n",
      "[jovian] Committed successfully! https://jovian.ai/aseembathla19/ipl-data-analysis-2008-2019\u001b[0m\n"
     ]
    },
    {
     "data": {
      "text/plain": [
       "'https://jovian.ai/aseembathla19/ipl-data-analysis-2008-2019'"
      ]
     },
     "execution_count": 8,
     "metadata": {},
     "output_type": "execute_result"
    }
   ],
   "source": [
    "jovian.commit()"
   ]
  },
  {
   "cell_type": "markdown",
   "metadata": {
    "id": "EGIvHa4Y5hYT"
   },
   "source": [
    "## Data Preparation and Cleaning\n",
    "\n",
    "In this section, I explored the data from the surface level and did the required cleaning and preparation for the analysis\n",
    "\n"
   ]
  },
  {
   "cell_type": "markdown",
   "metadata": {
    "id": "YCk3HeZG5hYT"
   },
   "source": [
    "### Matches DF"
   ]
  },
  {
   "cell_type": "code",
   "execution_count": 9,
   "metadata": {
    "executionInfo": {
     "elapsed": 31,
     "status": "ok",
     "timestamp": 1628011919268,
     "user": {
      "displayName": "Aseem Bathla",
      "photoUrl": "",
      "userId": "03429090169407160342"
     },
     "user_tz": -330
    },
    "id": "VHfQJAbz5hYU"
   },
   "outputs": [],
   "source": [
    "# reading the matches dataset.\n",
    "\n",
    "matches = pd.read_csv('ipldata/matches.csv')"
   ]
  },
  {
   "cell_type": "code",
   "execution_count": 10,
   "metadata": {
    "colab": {
     "base_uri": "https://localhost:8080/",
     "height": 606
    },
    "executionInfo": {
     "elapsed": 31,
     "status": "ok",
     "timestamp": 1628011919269,
     "user": {
      "displayName": "Aseem Bathla",
      "photoUrl": "",
      "userId": "03429090169407160342"
     },
     "user_tz": -330
    },
    "id": "tp0h1RAj5hYU",
    "outputId": "92e1ac27-9c20-4ff8-f376-69b1792169f7"
   },
   "outputs": [
    {
     "data": {
      "text/html": [
       "<div>\n",
       "<style scoped>\n",
       "    .dataframe tbody tr th:only-of-type {\n",
       "        vertical-align: middle;\n",
       "    }\n",
       "\n",
       "    .dataframe tbody tr th {\n",
       "        vertical-align: top;\n",
       "    }\n",
       "\n",
       "    .dataframe thead th {\n",
       "        text-align: right;\n",
       "    }\n",
       "</style>\n",
       "<table border=\"1\" class=\"dataframe\">\n",
       "  <thead>\n",
       "    <tr style=\"text-align: right;\">\n",
       "      <th></th>\n",
       "      <th>id</th>\n",
       "      <th>season</th>\n",
       "      <th>city</th>\n",
       "      <th>date</th>\n",
       "      <th>team1</th>\n",
       "      <th>team2</th>\n",
       "      <th>toss_winner</th>\n",
       "      <th>toss_decision</th>\n",
       "      <th>result</th>\n",
       "      <th>dl_applied</th>\n",
       "      <th>winner</th>\n",
       "      <th>win_by_runs</th>\n",
       "      <th>win_by_wickets</th>\n",
       "      <th>player_of_match</th>\n",
       "      <th>venue</th>\n",
       "      <th>umpire1</th>\n",
       "      <th>umpire2</th>\n",
       "      <th>umpire3</th>\n",
       "    </tr>\n",
       "  </thead>\n",
       "  <tbody>\n",
       "    <tr>\n",
       "      <th>0</th>\n",
       "      <td>1</td>\n",
       "      <td>2017</td>\n",
       "      <td>Hyderabad</td>\n",
       "      <td>2017-04-05</td>\n",
       "      <td>Sunrisers Hyderabad</td>\n",
       "      <td>Royal Challengers Bangalore</td>\n",
       "      <td>Royal Challengers Bangalore</td>\n",
       "      <td>field</td>\n",
       "      <td>normal</td>\n",
       "      <td>0</td>\n",
       "      <td>Sunrisers Hyderabad</td>\n",
       "      <td>35</td>\n",
       "      <td>0</td>\n",
       "      <td>Yuvraj Singh</td>\n",
       "      <td>Rajiv Gandhi International Stadium, Uppal</td>\n",
       "      <td>AY Dandekar</td>\n",
       "      <td>NJ Llong</td>\n",
       "      <td>NaN</td>\n",
       "    </tr>\n",
       "    <tr>\n",
       "      <th>1</th>\n",
       "      <td>2</td>\n",
       "      <td>2017</td>\n",
       "      <td>Pune</td>\n",
       "      <td>2017-04-06</td>\n",
       "      <td>Mumbai Indians</td>\n",
       "      <td>Rising Pune Supergiant</td>\n",
       "      <td>Rising Pune Supergiant</td>\n",
       "      <td>field</td>\n",
       "      <td>normal</td>\n",
       "      <td>0</td>\n",
       "      <td>Rising Pune Supergiant</td>\n",
       "      <td>0</td>\n",
       "      <td>7</td>\n",
       "      <td>SPD Smith</td>\n",
       "      <td>Maharashtra Cricket Association Stadium</td>\n",
       "      <td>A Nand Kishore</td>\n",
       "      <td>S Ravi</td>\n",
       "      <td>NaN</td>\n",
       "    </tr>\n",
       "    <tr>\n",
       "      <th>2</th>\n",
       "      <td>3</td>\n",
       "      <td>2017</td>\n",
       "      <td>Rajkot</td>\n",
       "      <td>2017-04-07</td>\n",
       "      <td>Gujarat Lions</td>\n",
       "      <td>Kolkata Knight Riders</td>\n",
       "      <td>Kolkata Knight Riders</td>\n",
       "      <td>field</td>\n",
       "      <td>normal</td>\n",
       "      <td>0</td>\n",
       "      <td>Kolkata Knight Riders</td>\n",
       "      <td>0</td>\n",
       "      <td>10</td>\n",
       "      <td>CA Lynn</td>\n",
       "      <td>Saurashtra Cricket Association Stadium</td>\n",
       "      <td>Nitin Menon</td>\n",
       "      <td>CK Nandan</td>\n",
       "      <td>NaN</td>\n",
       "    </tr>\n",
       "    <tr>\n",
       "      <th>3</th>\n",
       "      <td>4</td>\n",
       "      <td>2017</td>\n",
       "      <td>Indore</td>\n",
       "      <td>2017-04-08</td>\n",
       "      <td>Rising Pune Supergiant</td>\n",
       "      <td>Kings XI Punjab</td>\n",
       "      <td>Kings XI Punjab</td>\n",
       "      <td>field</td>\n",
       "      <td>normal</td>\n",
       "      <td>0</td>\n",
       "      <td>Kings XI Punjab</td>\n",
       "      <td>0</td>\n",
       "      <td>6</td>\n",
       "      <td>GJ Maxwell</td>\n",
       "      <td>Holkar Cricket Stadium</td>\n",
       "      <td>AK Chaudhary</td>\n",
       "      <td>C Shamshuddin</td>\n",
       "      <td>NaN</td>\n",
       "    </tr>\n",
       "    <tr>\n",
       "      <th>4</th>\n",
       "      <td>5</td>\n",
       "      <td>2017</td>\n",
       "      <td>Bangalore</td>\n",
       "      <td>2017-04-08</td>\n",
       "      <td>Royal Challengers Bangalore</td>\n",
       "      <td>Delhi Daredevils</td>\n",
       "      <td>Royal Challengers Bangalore</td>\n",
       "      <td>bat</td>\n",
       "      <td>normal</td>\n",
       "      <td>0</td>\n",
       "      <td>Royal Challengers Bangalore</td>\n",
       "      <td>15</td>\n",
       "      <td>0</td>\n",
       "      <td>KM Jadhav</td>\n",
       "      <td>M Chinnaswamy Stadium</td>\n",
       "      <td>NaN</td>\n",
       "      <td>NaN</td>\n",
       "      <td>NaN</td>\n",
       "    </tr>\n",
       "    <tr>\n",
       "      <th>...</th>\n",
       "      <td>...</td>\n",
       "      <td>...</td>\n",
       "      <td>...</td>\n",
       "      <td>...</td>\n",
       "      <td>...</td>\n",
       "      <td>...</td>\n",
       "      <td>...</td>\n",
       "      <td>...</td>\n",
       "      <td>...</td>\n",
       "      <td>...</td>\n",
       "      <td>...</td>\n",
       "      <td>...</td>\n",
       "      <td>...</td>\n",
       "      <td>...</td>\n",
       "      <td>...</td>\n",
       "      <td>...</td>\n",
       "      <td>...</td>\n",
       "      <td>...</td>\n",
       "    </tr>\n",
       "    <tr>\n",
       "      <th>751</th>\n",
       "      <td>11347</td>\n",
       "      <td>2019</td>\n",
       "      <td>Mumbai</td>\n",
       "      <td>05/05/19</td>\n",
       "      <td>Kolkata Knight Riders</td>\n",
       "      <td>Mumbai Indians</td>\n",
       "      <td>Mumbai Indians</td>\n",
       "      <td>field</td>\n",
       "      <td>normal</td>\n",
       "      <td>0</td>\n",
       "      <td>Mumbai Indians</td>\n",
       "      <td>0</td>\n",
       "      <td>9</td>\n",
       "      <td>HH Pandya</td>\n",
       "      <td>Wankhede Stadium</td>\n",
       "      <td>Nanda Kishore</td>\n",
       "      <td>O Nandan</td>\n",
       "      <td>S Ravi</td>\n",
       "    </tr>\n",
       "    <tr>\n",
       "      <th>752</th>\n",
       "      <td>11412</td>\n",
       "      <td>2019</td>\n",
       "      <td>Chennai</td>\n",
       "      <td>07/05/19</td>\n",
       "      <td>Chennai Super Kings</td>\n",
       "      <td>Mumbai Indians</td>\n",
       "      <td>Chennai Super Kings</td>\n",
       "      <td>bat</td>\n",
       "      <td>normal</td>\n",
       "      <td>0</td>\n",
       "      <td>Mumbai Indians</td>\n",
       "      <td>0</td>\n",
       "      <td>6</td>\n",
       "      <td>AS Yadav</td>\n",
       "      <td>M. A. Chidambaram Stadium</td>\n",
       "      <td>Nigel Llong</td>\n",
       "      <td>Nitin Menon</td>\n",
       "      <td>Ian Gould</td>\n",
       "    </tr>\n",
       "    <tr>\n",
       "      <th>753</th>\n",
       "      <td>11413</td>\n",
       "      <td>2019</td>\n",
       "      <td>Visakhapatnam</td>\n",
       "      <td>08/05/19</td>\n",
       "      <td>Sunrisers Hyderabad</td>\n",
       "      <td>Delhi Capitals</td>\n",
       "      <td>Delhi Capitals</td>\n",
       "      <td>field</td>\n",
       "      <td>normal</td>\n",
       "      <td>0</td>\n",
       "      <td>Delhi Capitals</td>\n",
       "      <td>0</td>\n",
       "      <td>2</td>\n",
       "      <td>RR Pant</td>\n",
       "      <td>ACA-VDCA Stadium</td>\n",
       "      <td>NaN</td>\n",
       "      <td>NaN</td>\n",
       "      <td>NaN</td>\n",
       "    </tr>\n",
       "    <tr>\n",
       "      <th>754</th>\n",
       "      <td>11414</td>\n",
       "      <td>2019</td>\n",
       "      <td>Visakhapatnam</td>\n",
       "      <td>10/05/19</td>\n",
       "      <td>Delhi Capitals</td>\n",
       "      <td>Chennai Super Kings</td>\n",
       "      <td>Chennai Super Kings</td>\n",
       "      <td>field</td>\n",
       "      <td>normal</td>\n",
       "      <td>0</td>\n",
       "      <td>Chennai Super Kings</td>\n",
       "      <td>0</td>\n",
       "      <td>6</td>\n",
       "      <td>F du Plessis</td>\n",
       "      <td>ACA-VDCA Stadium</td>\n",
       "      <td>Sundaram Ravi</td>\n",
       "      <td>Bruce Oxenford</td>\n",
       "      <td>Chettithody Shamshuddin</td>\n",
       "    </tr>\n",
       "    <tr>\n",
       "      <th>755</th>\n",
       "      <td>11415</td>\n",
       "      <td>2019</td>\n",
       "      <td>Hyderabad</td>\n",
       "      <td>12/05/19</td>\n",
       "      <td>Mumbai Indians</td>\n",
       "      <td>Chennai Super Kings</td>\n",
       "      <td>Mumbai Indians</td>\n",
       "      <td>bat</td>\n",
       "      <td>normal</td>\n",
       "      <td>0</td>\n",
       "      <td>Mumbai Indians</td>\n",
       "      <td>1</td>\n",
       "      <td>0</td>\n",
       "      <td>JJ Bumrah</td>\n",
       "      <td>Rajiv Gandhi Intl. Cricket Stadium</td>\n",
       "      <td>Nitin Menon</td>\n",
       "      <td>Ian Gould</td>\n",
       "      <td>Nigel Llong</td>\n",
       "    </tr>\n",
       "  </tbody>\n",
       "</table>\n",
       "<p>756 rows × 18 columns</p>\n",
       "</div>"
      ],
      "text/plain": [
       "        id  season           city        date                        team1  \\\n",
       "0        1    2017      Hyderabad  2017-04-05          Sunrisers Hyderabad   \n",
       "1        2    2017           Pune  2017-04-06               Mumbai Indians   \n",
       "2        3    2017         Rajkot  2017-04-07                Gujarat Lions   \n",
       "3        4    2017         Indore  2017-04-08       Rising Pune Supergiant   \n",
       "4        5    2017      Bangalore  2017-04-08  Royal Challengers Bangalore   \n",
       "..     ...     ...            ...         ...                          ...   \n",
       "751  11347    2019         Mumbai    05/05/19        Kolkata Knight Riders   \n",
       "752  11412    2019        Chennai    07/05/19          Chennai Super Kings   \n",
       "753  11413    2019  Visakhapatnam    08/05/19          Sunrisers Hyderabad   \n",
       "754  11414    2019  Visakhapatnam    10/05/19               Delhi Capitals   \n",
       "755  11415    2019      Hyderabad    12/05/19               Mumbai Indians   \n",
       "\n",
       "                           team2                  toss_winner toss_decision  \\\n",
       "0    Royal Challengers Bangalore  Royal Challengers Bangalore         field   \n",
       "1         Rising Pune Supergiant       Rising Pune Supergiant         field   \n",
       "2          Kolkata Knight Riders        Kolkata Knight Riders         field   \n",
       "3                Kings XI Punjab              Kings XI Punjab         field   \n",
       "4               Delhi Daredevils  Royal Challengers Bangalore           bat   \n",
       "..                           ...                          ...           ...   \n",
       "751               Mumbai Indians               Mumbai Indians         field   \n",
       "752               Mumbai Indians          Chennai Super Kings           bat   \n",
       "753               Delhi Capitals               Delhi Capitals         field   \n",
       "754          Chennai Super Kings          Chennai Super Kings         field   \n",
       "755          Chennai Super Kings               Mumbai Indians           bat   \n",
       "\n",
       "     result  dl_applied                       winner  win_by_runs  \\\n",
       "0    normal           0          Sunrisers Hyderabad           35   \n",
       "1    normal           0       Rising Pune Supergiant            0   \n",
       "2    normal           0        Kolkata Knight Riders            0   \n",
       "3    normal           0              Kings XI Punjab            0   \n",
       "4    normal           0  Royal Challengers Bangalore           15   \n",
       "..      ...         ...                          ...          ...   \n",
       "751  normal           0               Mumbai Indians            0   \n",
       "752  normal           0               Mumbai Indians            0   \n",
       "753  normal           0               Delhi Capitals            0   \n",
       "754  normal           0          Chennai Super Kings            0   \n",
       "755  normal           0               Mumbai Indians            1   \n",
       "\n",
       "     win_by_wickets player_of_match  \\\n",
       "0                 0    Yuvraj Singh   \n",
       "1                 7       SPD Smith   \n",
       "2                10         CA Lynn   \n",
       "3                 6      GJ Maxwell   \n",
       "4                 0       KM Jadhav   \n",
       "..              ...             ...   \n",
       "751               9       HH Pandya   \n",
       "752               6        AS Yadav   \n",
       "753               2         RR Pant   \n",
       "754               6    F du Plessis   \n",
       "755               0       JJ Bumrah   \n",
       "\n",
       "                                         venue         umpire1  \\\n",
       "0    Rajiv Gandhi International Stadium, Uppal     AY Dandekar   \n",
       "1      Maharashtra Cricket Association Stadium  A Nand Kishore   \n",
       "2       Saurashtra Cricket Association Stadium     Nitin Menon   \n",
       "3                       Holkar Cricket Stadium    AK Chaudhary   \n",
       "4                        M Chinnaswamy Stadium             NaN   \n",
       "..                                         ...             ...   \n",
       "751                           Wankhede Stadium   Nanda Kishore   \n",
       "752                  M. A. Chidambaram Stadium     Nigel Llong   \n",
       "753                           ACA-VDCA Stadium             NaN   \n",
       "754                           ACA-VDCA Stadium   Sundaram Ravi   \n",
       "755         Rajiv Gandhi Intl. Cricket Stadium     Nitin Menon   \n",
       "\n",
       "            umpire2                  umpire3  \n",
       "0          NJ Llong                      NaN  \n",
       "1            S Ravi                      NaN  \n",
       "2         CK Nandan                      NaN  \n",
       "3     C Shamshuddin                      NaN  \n",
       "4               NaN                      NaN  \n",
       "..              ...                      ...  \n",
       "751        O Nandan                   S Ravi  \n",
       "752     Nitin Menon                Ian Gould  \n",
       "753             NaN                      NaN  \n",
       "754  Bruce Oxenford  Chettithody Shamshuddin  \n",
       "755       Ian Gould              Nigel Llong  \n",
       "\n",
       "[756 rows x 18 columns]"
      ]
     },
     "execution_count": 10,
     "metadata": {},
     "output_type": "execute_result"
    }
   ],
   "source": [
    "# displaying the data of the dataset.\n",
    "\n",
    "matches"
   ]
  },
  {
   "cell_type": "code",
   "execution_count": 11,
   "metadata": {
    "colab": {
     "base_uri": "https://localhost:8080/"
    },
    "executionInfo": {
     "elapsed": 29,
     "status": "ok",
     "timestamp": 1628011919269,
     "user": {
      "displayName": "Aseem Bathla",
      "photoUrl": "",
      "userId": "03429090169407160342"
     },
     "user_tz": -330
    },
    "id": "iRqFpJ6X5hYU",
    "outputId": "45ece9c1-120d-4f9b-ba2a-b34b6adb9ee7"
   },
   "outputs": [
    {
     "name": "stdout",
     "output_type": "stream",
     "text": [
      "<class 'pandas.core.frame.DataFrame'>\n",
      "RangeIndex: 756 entries, 0 to 755\n",
      "Data columns (total 18 columns):\n",
      " #   Column           Non-Null Count  Dtype \n",
      "---  ------           --------------  ----- \n",
      " 0   id               756 non-null    int64 \n",
      " 1   season           756 non-null    int64 \n",
      " 2   city             749 non-null    object\n",
      " 3   date             756 non-null    object\n",
      " 4   team1            756 non-null    object\n",
      " 5   team2            756 non-null    object\n",
      " 6   toss_winner      756 non-null    object\n",
      " 7   toss_decision    756 non-null    object\n",
      " 8   result           756 non-null    object\n",
      " 9   dl_applied       756 non-null    int64 \n",
      " 10  winner           752 non-null    object\n",
      " 11  win_by_runs      756 non-null    int64 \n",
      " 12  win_by_wickets   756 non-null    int64 \n",
      " 13  player_of_match  752 non-null    object\n",
      " 14  venue            756 non-null    object\n",
      " 15  umpire1          754 non-null    object\n",
      " 16  umpire2          754 non-null    object\n",
      " 17  umpire3          119 non-null    object\n",
      "dtypes: int64(5), object(13)\n",
      "memory usage: 106.4+ KB\n"
     ]
    }
   ],
   "source": [
    "# getting general info about the dataset.\n",
    "\n",
    "matches.info()"
   ]
  },
  {
   "cell_type": "markdown",
   "metadata": {
    "id": "DA6o3PEL5hYU"
   },
   "source": [
    "#### 1. As seen above, there are 756 venues whereas there are 749 cities, implying there are some (7) missing values in the city column.\n",
    "#### 2. There are 754 values in umpire1 and umpire2 column instead of 756. \n",
    "#### 3. There are 752 winner values, this may be due to matches being tied or matches having no result (because of rain)."
   ]
  },
  {
   "cell_type": "code",
   "execution_count": 12,
   "metadata": {
    "colab": {
     "base_uri": "https://localhost:8080/"
    },
    "executionInfo": {
     "elapsed": 27,
     "status": "ok",
     "timestamp": 1628011919270,
     "user": {
      "displayName": "Aseem Bathla",
      "photoUrl": "",
      "userId": "03429090169407160342"
     },
     "user_tz": -330
    },
    "id": "wvIijXbK5hYU",
    "outputId": "5ebe5acf-96c3-47f5-9a2b-741c4fd8bda8"
   },
   "outputs": [
    {
     "data": {
      "text/plain": [
       "461    Dubai International Cricket Stadium\n",
       "462    Dubai International Cricket Stadium\n",
       "466    Dubai International Cricket Stadium\n",
       "468    Dubai International Cricket Stadium\n",
       "469    Dubai International Cricket Stadium\n",
       "474    Dubai International Cricket Stadium\n",
       "476    Dubai International Cricket Stadium\n",
       "Name: venue, dtype: object"
      ]
     },
     "execution_count": 12,
     "metadata": {},
     "output_type": "execute_result"
    }
   ],
   "source": [
    "## Finding the venues where the city value is missing.\n",
    "\n",
    "matches.venue[matches.city.isnull()]"
   ]
  },
  {
   "cell_type": "code",
   "execution_count": 13,
   "metadata": {
    "colab": {
     "base_uri": "https://localhost:8080/",
     "height": 0
    },
    "executionInfo": {
     "elapsed": 25,
     "status": "ok",
     "timestamp": 1628011919271,
     "user": {
      "displayName": "Aseem Bathla",
      "photoUrl": "",
      "userId": "03429090169407160342"
     },
     "user_tz": -330
    },
    "id": "9tch29TR5hYV",
    "outputId": "cdfb5c09-b717-4f81-df75-7d2580962134"
   },
   "outputs": [
    {
     "data": {
      "text/html": [
       "<div>\n",
       "<style scoped>\n",
       "    .dataframe tbody tr th:only-of-type {\n",
       "        vertical-align: middle;\n",
       "    }\n",
       "\n",
       "    .dataframe tbody tr th {\n",
       "        vertical-align: top;\n",
       "    }\n",
       "\n",
       "    .dataframe thead th {\n",
       "        text-align: right;\n",
       "    }\n",
       "</style>\n",
       "<table border=\"1\" class=\"dataframe\">\n",
       "  <thead>\n",
       "    <tr style=\"text-align: right;\">\n",
       "      <th></th>\n",
       "      <th>id</th>\n",
       "      <th>season</th>\n",
       "      <th>city</th>\n",
       "      <th>date</th>\n",
       "      <th>team1</th>\n",
       "      <th>team2</th>\n",
       "      <th>toss_winner</th>\n",
       "      <th>toss_decision</th>\n",
       "      <th>result</th>\n",
       "      <th>dl_applied</th>\n",
       "      <th>winner</th>\n",
       "      <th>win_by_runs</th>\n",
       "      <th>win_by_wickets</th>\n",
       "      <th>player_of_match</th>\n",
       "      <th>venue</th>\n",
       "      <th>umpire1</th>\n",
       "      <th>umpire2</th>\n",
       "      <th>umpire3</th>\n",
       "    </tr>\n",
       "  </thead>\n",
       "  <tbody>\n",
       "    <tr>\n",
       "      <th>461</th>\n",
       "      <td>462</td>\n",
       "      <td>2014</td>\n",
       "      <td>NaN</td>\n",
       "      <td>2014-04-19</td>\n",
       "      <td>Mumbai Indians</td>\n",
       "      <td>Royal Challengers Bangalore</td>\n",
       "      <td>Royal Challengers Bangalore</td>\n",
       "      <td>field</td>\n",
       "      <td>normal</td>\n",
       "      <td>0</td>\n",
       "      <td>Royal Challengers Bangalore</td>\n",
       "      <td>0</td>\n",
       "      <td>7</td>\n",
       "      <td>PA Patel</td>\n",
       "      <td>Dubai International Cricket Stadium</td>\n",
       "      <td>Aleem Dar</td>\n",
       "      <td>AK Chaudhary</td>\n",
       "      <td>NaN</td>\n",
       "    </tr>\n",
       "    <tr>\n",
       "      <th>462</th>\n",
       "      <td>463</td>\n",
       "      <td>2014</td>\n",
       "      <td>NaN</td>\n",
       "      <td>2014-04-19</td>\n",
       "      <td>Kolkata Knight Riders</td>\n",
       "      <td>Delhi Daredevils</td>\n",
       "      <td>Kolkata Knight Riders</td>\n",
       "      <td>bat</td>\n",
       "      <td>normal</td>\n",
       "      <td>0</td>\n",
       "      <td>Delhi Daredevils</td>\n",
       "      <td>0</td>\n",
       "      <td>4</td>\n",
       "      <td>JP Duminy</td>\n",
       "      <td>Dubai International Cricket Stadium</td>\n",
       "      <td>Aleem Dar</td>\n",
       "      <td>VA Kulkarni</td>\n",
       "      <td>NaN</td>\n",
       "    </tr>\n",
       "    <tr>\n",
       "      <th>466</th>\n",
       "      <td>467</td>\n",
       "      <td>2014</td>\n",
       "      <td>NaN</td>\n",
       "      <td>2014-04-23</td>\n",
       "      <td>Chennai Super Kings</td>\n",
       "      <td>Rajasthan Royals</td>\n",
       "      <td>Rajasthan Royals</td>\n",
       "      <td>field</td>\n",
       "      <td>normal</td>\n",
       "      <td>0</td>\n",
       "      <td>Chennai Super Kings</td>\n",
       "      <td>7</td>\n",
       "      <td>0</td>\n",
       "      <td>RA Jadeja</td>\n",
       "      <td>Dubai International Cricket Stadium</td>\n",
       "      <td>HDPK Dharmasena</td>\n",
       "      <td>RK Illingworth</td>\n",
       "      <td>NaN</td>\n",
       "    </tr>\n",
       "    <tr>\n",
       "      <th>468</th>\n",
       "      <td>469</td>\n",
       "      <td>2014</td>\n",
       "      <td>NaN</td>\n",
       "      <td>2014-04-25</td>\n",
       "      <td>Sunrisers Hyderabad</td>\n",
       "      <td>Delhi Daredevils</td>\n",
       "      <td>Sunrisers Hyderabad</td>\n",
       "      <td>bat</td>\n",
       "      <td>normal</td>\n",
       "      <td>0</td>\n",
       "      <td>Sunrisers Hyderabad</td>\n",
       "      <td>4</td>\n",
       "      <td>0</td>\n",
       "      <td>AJ Finch</td>\n",
       "      <td>Dubai International Cricket Stadium</td>\n",
       "      <td>M Erasmus</td>\n",
       "      <td>S Ravi</td>\n",
       "      <td>NaN</td>\n",
       "    </tr>\n",
       "    <tr>\n",
       "      <th>469</th>\n",
       "      <td>470</td>\n",
       "      <td>2014</td>\n",
       "      <td>NaN</td>\n",
       "      <td>2014-04-25</td>\n",
       "      <td>Mumbai Indians</td>\n",
       "      <td>Chennai Super Kings</td>\n",
       "      <td>Mumbai Indians</td>\n",
       "      <td>bat</td>\n",
       "      <td>normal</td>\n",
       "      <td>0</td>\n",
       "      <td>Chennai Super Kings</td>\n",
       "      <td>0</td>\n",
       "      <td>7</td>\n",
       "      <td>MM Sharma</td>\n",
       "      <td>Dubai International Cricket Stadium</td>\n",
       "      <td>BF Bowden</td>\n",
       "      <td>M Erasmus</td>\n",
       "      <td>NaN</td>\n",
       "    </tr>\n",
       "    <tr>\n",
       "      <th>474</th>\n",
       "      <td>475</td>\n",
       "      <td>2014</td>\n",
       "      <td>NaN</td>\n",
       "      <td>2014-04-28</td>\n",
       "      <td>Royal Challengers Bangalore</td>\n",
       "      <td>Kings XI Punjab</td>\n",
       "      <td>Kings XI Punjab</td>\n",
       "      <td>field</td>\n",
       "      <td>normal</td>\n",
       "      <td>0</td>\n",
       "      <td>Kings XI Punjab</td>\n",
       "      <td>0</td>\n",
       "      <td>5</td>\n",
       "      <td>Sandeep Sharma</td>\n",
       "      <td>Dubai International Cricket Stadium</td>\n",
       "      <td>BF Bowden</td>\n",
       "      <td>S Ravi</td>\n",
       "      <td>NaN</td>\n",
       "    </tr>\n",
       "    <tr>\n",
       "      <th>476</th>\n",
       "      <td>477</td>\n",
       "      <td>2014</td>\n",
       "      <td>NaN</td>\n",
       "      <td>2014-04-30</td>\n",
       "      <td>Sunrisers Hyderabad</td>\n",
       "      <td>Mumbai Indians</td>\n",
       "      <td>Mumbai Indians</td>\n",
       "      <td>field</td>\n",
       "      <td>normal</td>\n",
       "      <td>0</td>\n",
       "      <td>Sunrisers Hyderabad</td>\n",
       "      <td>15</td>\n",
       "      <td>0</td>\n",
       "      <td>B Kumar</td>\n",
       "      <td>Dubai International Cricket Stadium</td>\n",
       "      <td>HDPK Dharmasena</td>\n",
       "      <td>M Erasmus</td>\n",
       "      <td>NaN</td>\n",
       "    </tr>\n",
       "  </tbody>\n",
       "</table>\n",
       "</div>"
      ],
      "text/plain": [
       "      id  season city        date                        team1  \\\n",
       "461  462    2014  NaN  2014-04-19               Mumbai Indians   \n",
       "462  463    2014  NaN  2014-04-19        Kolkata Knight Riders   \n",
       "466  467    2014  NaN  2014-04-23          Chennai Super Kings   \n",
       "468  469    2014  NaN  2014-04-25          Sunrisers Hyderabad   \n",
       "469  470    2014  NaN  2014-04-25               Mumbai Indians   \n",
       "474  475    2014  NaN  2014-04-28  Royal Challengers Bangalore   \n",
       "476  477    2014  NaN  2014-04-30          Sunrisers Hyderabad   \n",
       "\n",
       "                           team2                  toss_winner toss_decision  \\\n",
       "461  Royal Challengers Bangalore  Royal Challengers Bangalore         field   \n",
       "462             Delhi Daredevils        Kolkata Knight Riders           bat   \n",
       "466             Rajasthan Royals             Rajasthan Royals         field   \n",
       "468             Delhi Daredevils          Sunrisers Hyderabad           bat   \n",
       "469          Chennai Super Kings               Mumbai Indians           bat   \n",
       "474              Kings XI Punjab              Kings XI Punjab         field   \n",
       "476               Mumbai Indians               Mumbai Indians         field   \n",
       "\n",
       "     result  dl_applied                       winner  win_by_runs  \\\n",
       "461  normal           0  Royal Challengers Bangalore            0   \n",
       "462  normal           0             Delhi Daredevils            0   \n",
       "466  normal           0          Chennai Super Kings            7   \n",
       "468  normal           0          Sunrisers Hyderabad            4   \n",
       "469  normal           0          Chennai Super Kings            0   \n",
       "474  normal           0              Kings XI Punjab            0   \n",
       "476  normal           0          Sunrisers Hyderabad           15   \n",
       "\n",
       "     win_by_wickets player_of_match                                venue  \\\n",
       "461               7        PA Patel  Dubai International Cricket Stadium   \n",
       "462               4       JP Duminy  Dubai International Cricket Stadium   \n",
       "466               0       RA Jadeja  Dubai International Cricket Stadium   \n",
       "468               0        AJ Finch  Dubai International Cricket Stadium   \n",
       "469               7       MM Sharma  Dubai International Cricket Stadium   \n",
       "474               5  Sandeep Sharma  Dubai International Cricket Stadium   \n",
       "476               0         B Kumar  Dubai International Cricket Stadium   \n",
       "\n",
       "             umpire1         umpire2 umpire3  \n",
       "461        Aleem Dar    AK Chaudhary     NaN  \n",
       "462        Aleem Dar     VA Kulkarni     NaN  \n",
       "466  HDPK Dharmasena  RK Illingworth     NaN  \n",
       "468        M Erasmus          S Ravi     NaN  \n",
       "469        BF Bowden       M Erasmus     NaN  \n",
       "474        BF Bowden          S Ravi     NaN  \n",
       "476  HDPK Dharmasena       M Erasmus     NaN  "
      ]
     },
     "execution_count": 13,
     "metadata": {},
     "output_type": "execute_result"
    }
   ],
   "source": [
    "## Checking if ALL the matches played at DUbai International Cricket Stadium have missing city value.\n",
    "\n",
    "matches[matches.venue == 'Dubai International Cricket Stadium']"
   ]
  },
  {
   "cell_type": "code",
   "execution_count": 14,
   "metadata": {
    "executionInfo": {
     "elapsed": 25,
     "status": "ok",
     "timestamp": 1628011919272,
     "user": {
      "displayName": "Aseem Bathla",
      "photoUrl": "",
      "userId": "03429090169407160342"
     },
     "user_tz": -330
    },
    "id": "W1meL5SW5hYX"
   },
   "outputs": [],
   "source": [
    "# Filling up the city column when the matches have venue Dubai International Cricket Stadium with \"Dubai\".\n",
    "\n",
    "matches.loc[matches[matches['venue'] == 'Dubai International Cricket Stadium'].index, \"city\"] = \"Dubai\""
   ]
  },
  {
   "cell_type": "code",
   "execution_count": 15,
   "metadata": {
    "colab": {
     "base_uri": "https://localhost:8080/",
     "height": 0
    },
    "executionInfo": {
     "elapsed": 25,
     "status": "ok",
     "timestamp": 1628011919272,
     "user": {
      "displayName": "Aseem Bathla",
      "photoUrl": "",
      "userId": "03429090169407160342"
     },
     "user_tz": -330
    },
    "id": "HuVIo-TY5hYX",
    "outputId": "15b54f46-c67c-4ea8-bf26-bb12cc77a28a"
   },
   "outputs": [
    {
     "data": {
      "text/html": [
       "<div>\n",
       "<style scoped>\n",
       "    .dataframe tbody tr th:only-of-type {\n",
       "        vertical-align: middle;\n",
       "    }\n",
       "\n",
       "    .dataframe tbody tr th {\n",
       "        vertical-align: top;\n",
       "    }\n",
       "\n",
       "    .dataframe thead th {\n",
       "        text-align: right;\n",
       "    }\n",
       "</style>\n",
       "<table border=\"1\" class=\"dataframe\">\n",
       "  <thead>\n",
       "    <tr style=\"text-align: right;\">\n",
       "      <th></th>\n",
       "      <th>id</th>\n",
       "      <th>season</th>\n",
       "      <th>city</th>\n",
       "      <th>date</th>\n",
       "      <th>team1</th>\n",
       "      <th>team2</th>\n",
       "      <th>toss_winner</th>\n",
       "      <th>toss_decision</th>\n",
       "      <th>result</th>\n",
       "      <th>dl_applied</th>\n",
       "      <th>winner</th>\n",
       "      <th>win_by_runs</th>\n",
       "      <th>win_by_wickets</th>\n",
       "      <th>player_of_match</th>\n",
       "      <th>venue</th>\n",
       "      <th>umpire1</th>\n",
       "      <th>umpire2</th>\n",
       "      <th>umpire3</th>\n",
       "    </tr>\n",
       "  </thead>\n",
       "  <tbody>\n",
       "    <tr>\n",
       "      <th>4</th>\n",
       "      <td>5</td>\n",
       "      <td>2017</td>\n",
       "      <td>Bangalore</td>\n",
       "      <td>2017-04-08</td>\n",
       "      <td>Royal Challengers Bangalore</td>\n",
       "      <td>Delhi Daredevils</td>\n",
       "      <td>Royal Challengers Bangalore</td>\n",
       "      <td>bat</td>\n",
       "      <td>normal</td>\n",
       "      <td>0</td>\n",
       "      <td>Royal Challengers Bangalore</td>\n",
       "      <td>15</td>\n",
       "      <td>0</td>\n",
       "      <td>KM Jadhav</td>\n",
       "      <td>M Chinnaswamy Stadium</td>\n",
       "      <td>NaN</td>\n",
       "      <td>NaN</td>\n",
       "      <td>NaN</td>\n",
       "    </tr>\n",
       "    <tr>\n",
       "      <th>753</th>\n",
       "      <td>11413</td>\n",
       "      <td>2019</td>\n",
       "      <td>Visakhapatnam</td>\n",
       "      <td>08/05/19</td>\n",
       "      <td>Sunrisers Hyderabad</td>\n",
       "      <td>Delhi Capitals</td>\n",
       "      <td>Delhi Capitals</td>\n",
       "      <td>field</td>\n",
       "      <td>normal</td>\n",
       "      <td>0</td>\n",
       "      <td>Delhi Capitals</td>\n",
       "      <td>0</td>\n",
       "      <td>2</td>\n",
       "      <td>RR Pant</td>\n",
       "      <td>ACA-VDCA Stadium</td>\n",
       "      <td>NaN</td>\n",
       "      <td>NaN</td>\n",
       "      <td>NaN</td>\n",
       "    </tr>\n",
       "  </tbody>\n",
       "</table>\n",
       "</div>"
      ],
      "text/plain": [
       "        id  season           city        date                        team1  \\\n",
       "4        5    2017      Bangalore  2017-04-08  Royal Challengers Bangalore   \n",
       "753  11413    2019  Visakhapatnam    08/05/19          Sunrisers Hyderabad   \n",
       "\n",
       "                team2                  toss_winner toss_decision  result  \\\n",
       "4    Delhi Daredevils  Royal Challengers Bangalore           bat  normal   \n",
       "753    Delhi Capitals               Delhi Capitals         field  normal   \n",
       "\n",
       "     dl_applied                       winner  win_by_runs  win_by_wickets  \\\n",
       "4             0  Royal Challengers Bangalore           15               0   \n",
       "753           0               Delhi Capitals            0               2   \n",
       "\n",
       "    player_of_match                  venue umpire1 umpire2 umpire3  \n",
       "4         KM Jadhav  M Chinnaswamy Stadium     NaN     NaN     NaN  \n",
       "753         RR Pant       ACA-VDCA Stadium     NaN     NaN     NaN  "
      ]
     },
     "execution_count": 15,
     "metadata": {},
     "output_type": "execute_result"
    }
   ],
   "source": [
    "# Finding out the two rows where the values of umpire1 column are missing.\n",
    "\n",
    "matches[matches.umpire1.isnull()]"
   ]
  },
  {
   "cell_type": "code",
   "execution_count": 16,
   "metadata": {
    "executionInfo": {
     "elapsed": 24,
     "status": "ok",
     "timestamp": 1628011919273,
     "user": {
      "displayName": "Aseem Bathla",
      "photoUrl": "",
      "userId": "03429090169407160342"
     },
     "user_tz": -330
    },
    "id": "I40986yN5hYX"
   },
   "outputs": [],
   "source": [
    "# Filling those values (of umpire2 too) using a quick google search.\n",
    "\n",
    "matches.loc[4, 'umpire1'] = 'C Shamshuddin'\n",
    "matches.loc[4, 'umpire2'] = 'CK Nandan'\n",
    "\n",
    "matches.loc[753, 'umpire1'] = 'Bruce Oxenford'\n",
    "matches.loc[753, 'umpire2'] = 'Sundaram Ravi'"
   ]
  },
  {
   "cell_type": "code",
   "execution_count": 17,
   "metadata": {
    "colab": {
     "base_uri": "https://localhost:8080/"
    },
    "executionInfo": {
     "elapsed": 25,
     "status": "ok",
     "timestamp": 1628011919274,
     "user": {
      "displayName": "Aseem Bathla",
      "photoUrl": "",
      "userId": "03429090169407160342"
     },
     "user_tz": -330
    },
    "id": "4MGynukv5hYX",
    "outputId": "a7ecf781-dad5-42d0-c435-0fcef582b4e2"
   },
   "outputs": [
    {
     "data": {
      "text/plain": [
       "0      2017-04-05\n",
       "1      2017-04-06\n",
       "2      2017-04-07\n",
       "3      2017-04-08\n",
       "4      2017-04-08\n",
       "          ...    \n",
       "751      05/05/19\n",
       "752      07/05/19\n",
       "753      08/05/19\n",
       "754      10/05/19\n",
       "755      12/05/19\n",
       "Name: date, Length: 756, dtype: object"
      ]
     },
     "execution_count": 17,
     "metadata": {},
     "output_type": "execute_result"
    }
   ],
   "source": [
    "# Checking data type of Date column.\n",
    "\n",
    "matches['date']"
   ]
  },
  {
   "cell_type": "code",
   "execution_count": 18,
   "metadata": {
    "executionInfo": {
     "elapsed": 25,
     "status": "ok",
     "timestamp": 1628011919275,
     "user": {
      "displayName": "Aseem Bathla",
      "photoUrl": "",
      "userId": "03429090169407160342"
     },
     "user_tz": -330
    },
    "id": "O12Au1g_5hYY"
   },
   "outputs": [],
   "source": [
    "# Converting the date column's data type into datetime data time of python (which would standardise the column).\n",
    "\n",
    "matches['date'] = pd.to_datetime(matches.date)"
   ]
  },
  {
   "cell_type": "code",
   "execution_count": 19,
   "metadata": {
    "colab": {
     "base_uri": "https://localhost:8080/"
    },
    "executionInfo": {
     "elapsed": 25,
     "status": "ok",
     "timestamp": 1628011919275,
     "user": {
      "displayName": "Aseem Bathla",
      "photoUrl": "",
      "userId": "03429090169407160342"
     },
     "user_tz": -330
    },
    "id": "Nso3EzSQ5hYY",
    "outputId": "2c402880-3e65-4e8b-a9f8-ee320ae9df8c"
   },
   "outputs": [
    {
     "data": {
      "text/plain": [
       "0     2017-04-05\n",
       "1     2017-04-06\n",
       "2     2017-04-07\n",
       "3     2017-04-08\n",
       "4     2017-04-08\n",
       "         ...    \n",
       "751   2019-05-05\n",
       "752   2019-07-05\n",
       "753   2019-08-05\n",
       "754   2019-10-05\n",
       "755   2019-12-05\n",
       "Name: date, Length: 756, dtype: datetime64[ns]"
      ]
     },
     "execution_count": 19,
     "metadata": {},
     "output_type": "execute_result"
    }
   ],
   "source": [
    "matches['date']"
   ]
  },
  {
   "cell_type": "code",
   "execution_count": 20,
   "metadata": {
    "colab": {
     "base_uri": "https://localhost:8080/"
    },
    "executionInfo": {
     "elapsed": 25,
     "status": "ok",
     "timestamp": 1628011919276,
     "user": {
      "displayName": "Aseem Bathla",
      "photoUrl": "",
      "userId": "03429090169407160342"
     },
     "user_tz": -330
    },
    "id": "vd5745nx5hYY",
    "outputId": "e4479e9d-d320-48e1-99e8-942198ab9665"
   },
   "outputs": [
    {
     "data": {
      "text/plain": [
       "array(['Sunrisers Hyderabad', 'Mumbai Indians', 'Gujarat Lions',\n",
       "       'Rising Pune Supergiant', 'Royal Challengers Bangalore',\n",
       "       'Kolkata Knight Riders', 'Delhi Daredevils', 'Kings XI Punjab',\n",
       "       'Chennai Super Kings', 'Rajasthan Royals', 'Deccan Chargers',\n",
       "       'Kochi Tuskers Kerala', 'Pune Warriors', 'Rising Pune Supergiants',\n",
       "       'Delhi Capitals'], dtype=object)"
      ]
     },
     "execution_count": 20,
     "metadata": {},
     "output_type": "execute_result"
    }
   ],
   "source": [
    "# Finding all the names of the teams that compete in the IPL.\n",
    "\n",
    "matches.team1.unique()"
   ]
  },
  {
   "cell_type": "markdown",
   "metadata": {
    "id": "LNAk9r3y5hYY"
   },
   "source": [
    "#### 1. As seen above, there are multiple names for the same team, i.e,  `Rising Pune Supergiants` and  `Rising Pune Supergiant`. This is because of the omission of `s`, we shall fix that.\n",
    "#### 2. `Delhi Capitals`  and `Delhi Daredevils` are the names of the same team. The team representing Delhi, which was Delhi Daredevils changed its name to Delhi Capitals in 2018. So, for simplification, we will change the values where Delhi Daredevils is used to Delhi Capitals.\n",
    "\n",
    "These will be the columns that would require fixing:\n",
    "1. team1\n",
    "2. team2\n",
    "3. winner"
   ]
  },
  {
   "cell_type": "code",
   "execution_count": 21,
   "metadata": {
    "executionInfo": {
     "elapsed": 5,
     "status": "ok",
     "timestamp": 1628011954685,
     "user": {
      "displayName": "Aseem Bathla",
      "photoUrl": "",
      "userId": "03429090169407160342"
     },
     "user_tz": -330
    },
    "id": "Bdyp2IUn5hYZ"
   },
   "outputs": [],
   "source": [
    "#Using replace method in pandas library to fix the team name errors.\n",
    "\n",
    "matches.team1.replace({'Rising Pune Supergiants' : 'Rising Pune Supergiant', 'Delhi Daredevils':'Delhi Capitals'},inplace=True)\n",
    "matches.team2.replace({'Rising Pune Supergiants' : 'Rising Pune Supergiant', 'Delhi Daredevils':'Delhi Capitals'},inplace=True)\n",
    "matches.winner.replace({'Rising Pune Supergiants' : 'Rising Pune Supergiant', 'Delhi Daredevils':'Delhi Capitals'},inplace=True)"
   ]
  },
  {
   "cell_type": "code",
   "execution_count": 22,
   "metadata": {
    "colab": {
     "base_uri": "https://localhost:8080/"
    },
    "executionInfo": {
     "elapsed": 5,
     "status": "ok",
     "timestamp": 1628011954685,
     "user": {
      "displayName": "Aseem Bathla",
      "photoUrl": "",
      "userId": "03429090169407160342"
     },
     "user_tz": -330
    },
    "id": "ECoX7Som5hYZ",
    "outputId": "68d44c0e-3b61-49da-b61f-1c566d7cad94"
   },
   "outputs": [
    {
     "data": {
      "text/plain": [
       "array(['Sunrisers Hyderabad', 'Mumbai Indians', 'Gujarat Lions',\n",
       "       'Rising Pune Supergiant', 'Royal Challengers Bangalore',\n",
       "       'Kolkata Knight Riders', 'Delhi Capitals', 'Kings XI Punjab',\n",
       "       'Chennai Super Kings', 'Rajasthan Royals', 'Deccan Chargers',\n",
       "       'Kochi Tuskers Kerala', 'Pune Warriors'], dtype=object)"
      ]
     },
     "execution_count": 22,
     "metadata": {},
     "output_type": "execute_result"
    }
   ],
   "source": [
    "# Checking all the names of the teams that compete in the IPL again for confirmation of the fix.\n",
    "\n",
    "matches.team1.unique()"
   ]
  },
  {
   "cell_type": "code",
   "execution_count": 23,
   "metadata": {
    "colab": {
     "base_uri": "https://localhost:8080/",
     "height": 0
    },
    "executionInfo": {
     "elapsed": 5,
     "status": "ok",
     "timestamp": 1628011954686,
     "user": {
      "displayName": "Aseem Bathla",
      "photoUrl": "",
      "userId": "03429090169407160342"
     },
     "user_tz": -330
    },
    "id": "CHYpNXUn5hYZ",
    "outputId": "6217ce7a-5653-4c8f-9c72-86627afe8450"
   },
   "outputs": [
    {
     "data": {
      "text/html": [
       "<div>\n",
       "<style scoped>\n",
       "    .dataframe tbody tr th:only-of-type {\n",
       "        vertical-align: middle;\n",
       "    }\n",
       "\n",
       "    .dataframe tbody tr th {\n",
       "        vertical-align: top;\n",
       "    }\n",
       "\n",
       "    .dataframe thead th {\n",
       "        text-align: right;\n",
       "    }\n",
       "</style>\n",
       "<table border=\"1\" class=\"dataframe\">\n",
       "  <thead>\n",
       "    <tr style=\"text-align: right;\">\n",
       "      <th></th>\n",
       "      <th>id</th>\n",
       "      <th>season</th>\n",
       "      <th>city</th>\n",
       "      <th>date</th>\n",
       "      <th>team1</th>\n",
       "      <th>team2</th>\n",
       "      <th>toss_winner</th>\n",
       "      <th>toss_decision</th>\n",
       "      <th>result</th>\n",
       "      <th>dl_applied</th>\n",
       "      <th>winner</th>\n",
       "      <th>win_by_runs</th>\n",
       "      <th>win_by_wickets</th>\n",
       "      <th>player_of_match</th>\n",
       "      <th>venue</th>\n",
       "      <th>umpire1</th>\n",
       "      <th>umpire2</th>\n",
       "      <th>umpire3</th>\n",
       "    </tr>\n",
       "  </thead>\n",
       "  <tbody>\n",
       "    <tr>\n",
       "      <th>300</th>\n",
       "      <td>301</td>\n",
       "      <td>2011</td>\n",
       "      <td>Delhi</td>\n",
       "      <td>2011-05-21</td>\n",
       "      <td>Delhi Capitals</td>\n",
       "      <td>Pune Warriors</td>\n",
       "      <td>Delhi Daredevils</td>\n",
       "      <td>bat</td>\n",
       "      <td>no result</td>\n",
       "      <td>0</td>\n",
       "      <td>NaN</td>\n",
       "      <td>0</td>\n",
       "      <td>0</td>\n",
       "      <td>NaN</td>\n",
       "      <td>Feroz Shah Kotla</td>\n",
       "      <td>SS Hazare</td>\n",
       "      <td>RJ Tucker</td>\n",
       "      <td>NaN</td>\n",
       "    </tr>\n",
       "    <tr>\n",
       "      <th>545</th>\n",
       "      <td>546</td>\n",
       "      <td>2015</td>\n",
       "      <td>Bangalore</td>\n",
       "      <td>2015-04-29</td>\n",
       "      <td>Royal Challengers Bangalore</td>\n",
       "      <td>Rajasthan Royals</td>\n",
       "      <td>Rajasthan Royals</td>\n",
       "      <td>field</td>\n",
       "      <td>no result</td>\n",
       "      <td>0</td>\n",
       "      <td>NaN</td>\n",
       "      <td>0</td>\n",
       "      <td>0</td>\n",
       "      <td>NaN</td>\n",
       "      <td>M Chinnaswamy Stadium</td>\n",
       "      <td>JD Cloete</td>\n",
       "      <td>PG Pathak</td>\n",
       "      <td>NaN</td>\n",
       "    </tr>\n",
       "    <tr>\n",
       "      <th>570</th>\n",
       "      <td>571</td>\n",
       "      <td>2015</td>\n",
       "      <td>Bangalore</td>\n",
       "      <td>2015-05-17</td>\n",
       "      <td>Delhi Capitals</td>\n",
       "      <td>Royal Challengers Bangalore</td>\n",
       "      <td>Royal Challengers Bangalore</td>\n",
       "      <td>field</td>\n",
       "      <td>no result</td>\n",
       "      <td>0</td>\n",
       "      <td>NaN</td>\n",
       "      <td>0</td>\n",
       "      <td>0</td>\n",
       "      <td>NaN</td>\n",
       "      <td>M Chinnaswamy Stadium</td>\n",
       "      <td>HDPK Dharmasena</td>\n",
       "      <td>K Srinivasan</td>\n",
       "      <td>NaN</td>\n",
       "    </tr>\n",
       "    <tr>\n",
       "      <th>744</th>\n",
       "      <td>11340</td>\n",
       "      <td>2019</td>\n",
       "      <td>Bengaluru</td>\n",
       "      <td>2019-04-30</td>\n",
       "      <td>Royal Challengers Bangalore</td>\n",
       "      <td>Rajasthan Royals</td>\n",
       "      <td>Rajasthan Royals</td>\n",
       "      <td>field</td>\n",
       "      <td>no result</td>\n",
       "      <td>0</td>\n",
       "      <td>NaN</td>\n",
       "      <td>0</td>\n",
       "      <td>0</td>\n",
       "      <td>NaN</td>\n",
       "      <td>M. Chinnaswamy Stadium</td>\n",
       "      <td>Nigel Llong</td>\n",
       "      <td>Ulhas Gandhe</td>\n",
       "      <td>Anil Chaudhary</td>\n",
       "    </tr>\n",
       "  </tbody>\n",
       "</table>\n",
       "</div>"
      ],
      "text/plain": [
       "        id  season       city       date                        team1  \\\n",
       "300    301    2011      Delhi 2011-05-21               Delhi Capitals   \n",
       "545    546    2015  Bangalore 2015-04-29  Royal Challengers Bangalore   \n",
       "570    571    2015  Bangalore 2015-05-17               Delhi Capitals   \n",
       "744  11340    2019  Bengaluru 2019-04-30  Royal Challengers Bangalore   \n",
       "\n",
       "                           team2                  toss_winner toss_decision  \\\n",
       "300                Pune Warriors             Delhi Daredevils           bat   \n",
       "545             Rajasthan Royals             Rajasthan Royals         field   \n",
       "570  Royal Challengers Bangalore  Royal Challengers Bangalore         field   \n",
       "744             Rajasthan Royals             Rajasthan Royals         field   \n",
       "\n",
       "        result  dl_applied winner  win_by_runs  win_by_wickets  \\\n",
       "300  no result           0    NaN            0               0   \n",
       "545  no result           0    NaN            0               0   \n",
       "570  no result           0    NaN            0               0   \n",
       "744  no result           0    NaN            0               0   \n",
       "\n",
       "    player_of_match                   venue          umpire1       umpire2  \\\n",
       "300             NaN        Feroz Shah Kotla        SS Hazare     RJ Tucker   \n",
       "545             NaN   M Chinnaswamy Stadium        JD Cloete     PG Pathak   \n",
       "570             NaN   M Chinnaswamy Stadium  HDPK Dharmasena  K Srinivasan   \n",
       "744             NaN  M. Chinnaswamy Stadium      Nigel Llong  Ulhas Gandhe   \n",
       "\n",
       "            umpire3  \n",
       "300             NaN  \n",
       "545             NaN  \n",
       "570             NaN  \n",
       "744  Anil Chaudhary  "
      ]
     },
     "execution_count": 23,
     "metadata": {},
     "output_type": "execute_result"
    }
   ],
   "source": [
    "# Finding out matches where there was no result.\n",
    "\n",
    "matches[matches.result == 'no result']"
   ]
  },
  {
   "cell_type": "markdown",
   "metadata": {
    "id": "p9CGx2Yp5hYZ"
   },
   "source": [
    "#### As seen above, there might be multiple names for the same city, just like in the case of `Bangalore` and `Bengaluru`."
   ]
  },
  {
   "cell_type": "code",
   "execution_count": 24,
   "metadata": {
    "colab": {
     "base_uri": "https://localhost:8080/"
    },
    "executionInfo": {
     "elapsed": 18,
     "status": "ok",
     "timestamp": 1628011919947,
     "user": {
      "displayName": "Aseem Bathla",
      "photoUrl": "",
      "userId": "03429090169407160342"
     },
     "user_tz": -330
    },
    "id": "DWezCzma5hYZ",
    "outputId": "e0947651-57fd-4f8f-d0af-cdeb77f93965"
   },
   "outputs": [
    {
     "data": {
      "text/plain": [
       "array(['Hyderabad', 'Pune', 'Rajkot', 'Indore', 'Bangalore', 'Mumbai',\n",
       "       'Kolkata', 'Delhi', 'Chandigarh', 'Kanpur', 'Jaipur', 'Chennai',\n",
       "       'Cape Town', 'Port Elizabeth', 'Durban', 'Centurion',\n",
       "       'East London', 'Johannesburg', 'Kimberley', 'Bloemfontein',\n",
       "       'Ahmedabad', 'Cuttack', 'Nagpur', 'Dharamsala', 'Kochi',\n",
       "       'Visakhapatnam', 'Raipur', 'Ranchi', 'Abu Dhabi', 'Sharjah',\n",
       "       'Dubai', 'Mohali', 'Bengaluru'], dtype=object)"
      ]
     },
     "execution_count": 24,
     "metadata": {},
     "output_type": "execute_result"
    }
   ],
   "source": [
    "# Finding all the unique values in the city column\n",
    "\n",
    "matches.city.unique()"
   ]
  },
  {
   "cell_type": "code",
   "execution_count": 25,
   "metadata": {
    "executionInfo": {
     "elapsed": 16,
     "status": "ok",
     "timestamp": 1628011919948,
     "user": {
      "displayName": "Aseem Bathla",
      "photoUrl": "",
      "userId": "03429090169407160342"
     },
     "user_tz": -330
    },
    "id": "gzuIX03R5hYa"
   },
   "outputs": [],
   "source": [
    "# Fixing the Bangalore and Bengaluru error.\n",
    "\n",
    "matches.city.replace({'Bangalore' : 'Bengaluru'},inplace=True)"
   ]
  },
  {
   "cell_type": "code",
   "execution_count": 26,
   "metadata": {
    "colab": {
     "base_uri": "https://localhost:8080/",
     "height": 0
    },
    "executionInfo": {
     "elapsed": 1532,
     "status": "ok",
     "timestamp": 1628011921465,
     "user": {
      "displayName": "Aseem Bathla",
      "photoUrl": "",
      "userId": "03429090169407160342"
     },
     "user_tz": -330
    },
    "id": "O6fMGIaf5hYa",
    "outputId": "d16c93e9-d69b-4cf8-ccc9-da636b070a8f"
   },
   "outputs": [
    {
     "data": {
      "application/javascript": [
       "window.require && require([\"base/js/namespace\"],function(Jupyter){Jupyter.notebook.save_checkpoint()})"
      ],
      "text/plain": [
       "<IPython.core.display.Javascript object>"
      ]
     },
     "metadata": {},
     "output_type": "display_data"
    },
    {
     "name": "stdout",
     "output_type": "stream",
     "text": [
      "[jovian] Updating notebook \"aseembathla19/ipl-data-analysis-2008-2019\" on https://jovian.ai\u001b[0m\n",
      "[jovian] Committed successfully! https://jovian.ai/aseembathla19/ipl-data-analysis-2008-2019\u001b[0m\n"
     ]
    },
    {
     "data": {
      "text/plain": [
       "'https://jovian.ai/aseembathla19/ipl-data-analysis-2008-2019'"
      ]
     },
     "execution_count": 26,
     "metadata": {},
     "output_type": "execute_result"
    }
   ],
   "source": [
    "jovian.commit()"
   ]
  },
  {
   "cell_type": "markdown",
   "metadata": {
    "id": "PaVZWW2X5hYa"
   },
   "source": [
    "### Deliveries DF"
   ]
  },
  {
   "cell_type": "code",
   "execution_count": 27,
   "metadata": {
    "executionInfo": {
     "elapsed": 390,
     "status": "ok",
     "timestamp": 1628011921851,
     "user": {
      "displayName": "Aseem Bathla",
      "photoUrl": "",
      "userId": "03429090169407160342"
     },
     "user_tz": -330
    },
    "id": "YrSAynlh5hYa"
   },
   "outputs": [],
   "source": [
    "# Loading the Deliveries Dataframe which would be used later for some Ball by Ball Analysis.\n",
    "\n",
    "deliveries_df = pd.read_csv('ipldata/deliveries.csv')"
   ]
  },
  {
   "cell_type": "code",
   "execution_count": 28,
   "metadata": {
    "colab": {
     "base_uri": "https://localhost:8080/",
     "height": 0
    },
    "executionInfo": {
     "elapsed": 9,
     "status": "ok",
     "timestamp": 1628011921852,
     "user": {
      "displayName": "Aseem Bathla",
      "photoUrl": "",
      "userId": "03429090169407160342"
     },
     "user_tz": -330
    },
    "id": "dv-ZJ7on5hYa",
    "outputId": "51821693-accd-4af8-9be3-6ea2ed191526"
   },
   "outputs": [
    {
     "data": {
      "text/html": [
       "<div>\n",
       "<style scoped>\n",
       "    .dataframe tbody tr th:only-of-type {\n",
       "        vertical-align: middle;\n",
       "    }\n",
       "\n",
       "    .dataframe tbody tr th {\n",
       "        vertical-align: top;\n",
       "    }\n",
       "\n",
       "    .dataframe thead th {\n",
       "        text-align: right;\n",
       "    }\n",
       "</style>\n",
       "<table border=\"1\" class=\"dataframe\">\n",
       "  <thead>\n",
       "    <tr style=\"text-align: right;\">\n",
       "      <th></th>\n",
       "      <th>match_id</th>\n",
       "      <th>inning</th>\n",
       "      <th>batting_team</th>\n",
       "      <th>bowling_team</th>\n",
       "      <th>over</th>\n",
       "      <th>ball</th>\n",
       "      <th>batsman</th>\n",
       "      <th>non_striker</th>\n",
       "      <th>bowler</th>\n",
       "      <th>is_super_over</th>\n",
       "      <th>...</th>\n",
       "      <th>bye_runs</th>\n",
       "      <th>legbye_runs</th>\n",
       "      <th>noball_runs</th>\n",
       "      <th>penalty_runs</th>\n",
       "      <th>batsman_runs</th>\n",
       "      <th>extra_runs</th>\n",
       "      <th>total_runs</th>\n",
       "      <th>player_dismissed</th>\n",
       "      <th>dismissal_kind</th>\n",
       "      <th>fielder</th>\n",
       "    </tr>\n",
       "  </thead>\n",
       "  <tbody>\n",
       "    <tr>\n",
       "      <th>0</th>\n",
       "      <td>1</td>\n",
       "      <td>1</td>\n",
       "      <td>Sunrisers Hyderabad</td>\n",
       "      <td>Royal Challengers Bangalore</td>\n",
       "      <td>1</td>\n",
       "      <td>1</td>\n",
       "      <td>DA Warner</td>\n",
       "      <td>S Dhawan</td>\n",
       "      <td>TS Mills</td>\n",
       "      <td>0</td>\n",
       "      <td>...</td>\n",
       "      <td>0</td>\n",
       "      <td>0</td>\n",
       "      <td>0</td>\n",
       "      <td>0</td>\n",
       "      <td>0</td>\n",
       "      <td>0</td>\n",
       "      <td>0</td>\n",
       "      <td>NaN</td>\n",
       "      <td>NaN</td>\n",
       "      <td>NaN</td>\n",
       "    </tr>\n",
       "    <tr>\n",
       "      <th>1</th>\n",
       "      <td>1</td>\n",
       "      <td>1</td>\n",
       "      <td>Sunrisers Hyderabad</td>\n",
       "      <td>Royal Challengers Bangalore</td>\n",
       "      <td>1</td>\n",
       "      <td>2</td>\n",
       "      <td>DA Warner</td>\n",
       "      <td>S Dhawan</td>\n",
       "      <td>TS Mills</td>\n",
       "      <td>0</td>\n",
       "      <td>...</td>\n",
       "      <td>0</td>\n",
       "      <td>0</td>\n",
       "      <td>0</td>\n",
       "      <td>0</td>\n",
       "      <td>0</td>\n",
       "      <td>0</td>\n",
       "      <td>0</td>\n",
       "      <td>NaN</td>\n",
       "      <td>NaN</td>\n",
       "      <td>NaN</td>\n",
       "    </tr>\n",
       "    <tr>\n",
       "      <th>2</th>\n",
       "      <td>1</td>\n",
       "      <td>1</td>\n",
       "      <td>Sunrisers Hyderabad</td>\n",
       "      <td>Royal Challengers Bangalore</td>\n",
       "      <td>1</td>\n",
       "      <td>3</td>\n",
       "      <td>DA Warner</td>\n",
       "      <td>S Dhawan</td>\n",
       "      <td>TS Mills</td>\n",
       "      <td>0</td>\n",
       "      <td>...</td>\n",
       "      <td>0</td>\n",
       "      <td>0</td>\n",
       "      <td>0</td>\n",
       "      <td>0</td>\n",
       "      <td>4</td>\n",
       "      <td>0</td>\n",
       "      <td>4</td>\n",
       "      <td>NaN</td>\n",
       "      <td>NaN</td>\n",
       "      <td>NaN</td>\n",
       "    </tr>\n",
       "    <tr>\n",
       "      <th>3</th>\n",
       "      <td>1</td>\n",
       "      <td>1</td>\n",
       "      <td>Sunrisers Hyderabad</td>\n",
       "      <td>Royal Challengers Bangalore</td>\n",
       "      <td>1</td>\n",
       "      <td>4</td>\n",
       "      <td>DA Warner</td>\n",
       "      <td>S Dhawan</td>\n",
       "      <td>TS Mills</td>\n",
       "      <td>0</td>\n",
       "      <td>...</td>\n",
       "      <td>0</td>\n",
       "      <td>0</td>\n",
       "      <td>0</td>\n",
       "      <td>0</td>\n",
       "      <td>0</td>\n",
       "      <td>0</td>\n",
       "      <td>0</td>\n",
       "      <td>NaN</td>\n",
       "      <td>NaN</td>\n",
       "      <td>NaN</td>\n",
       "    </tr>\n",
       "    <tr>\n",
       "      <th>4</th>\n",
       "      <td>1</td>\n",
       "      <td>1</td>\n",
       "      <td>Sunrisers Hyderabad</td>\n",
       "      <td>Royal Challengers Bangalore</td>\n",
       "      <td>1</td>\n",
       "      <td>5</td>\n",
       "      <td>DA Warner</td>\n",
       "      <td>S Dhawan</td>\n",
       "      <td>TS Mills</td>\n",
       "      <td>0</td>\n",
       "      <td>...</td>\n",
       "      <td>0</td>\n",
       "      <td>0</td>\n",
       "      <td>0</td>\n",
       "      <td>0</td>\n",
       "      <td>0</td>\n",
       "      <td>2</td>\n",
       "      <td>2</td>\n",
       "      <td>NaN</td>\n",
       "      <td>NaN</td>\n",
       "      <td>NaN</td>\n",
       "    </tr>\n",
       "    <tr>\n",
       "      <th>...</th>\n",
       "      <td>...</td>\n",
       "      <td>...</td>\n",
       "      <td>...</td>\n",
       "      <td>...</td>\n",
       "      <td>...</td>\n",
       "      <td>...</td>\n",
       "      <td>...</td>\n",
       "      <td>...</td>\n",
       "      <td>...</td>\n",
       "      <td>...</td>\n",
       "      <td>...</td>\n",
       "      <td>...</td>\n",
       "      <td>...</td>\n",
       "      <td>...</td>\n",
       "      <td>...</td>\n",
       "      <td>...</td>\n",
       "      <td>...</td>\n",
       "      <td>...</td>\n",
       "      <td>...</td>\n",
       "      <td>...</td>\n",
       "      <td>...</td>\n",
       "    </tr>\n",
       "    <tr>\n",
       "      <th>179073</th>\n",
       "      <td>11415</td>\n",
       "      <td>2</td>\n",
       "      <td>Chennai Super Kings</td>\n",
       "      <td>Mumbai Indians</td>\n",
       "      <td>20</td>\n",
       "      <td>2</td>\n",
       "      <td>RA Jadeja</td>\n",
       "      <td>SR Watson</td>\n",
       "      <td>SL Malinga</td>\n",
       "      <td>0</td>\n",
       "      <td>...</td>\n",
       "      <td>0</td>\n",
       "      <td>0</td>\n",
       "      <td>0</td>\n",
       "      <td>0</td>\n",
       "      <td>1</td>\n",
       "      <td>0</td>\n",
       "      <td>1</td>\n",
       "      <td>NaN</td>\n",
       "      <td>NaN</td>\n",
       "      <td>NaN</td>\n",
       "    </tr>\n",
       "    <tr>\n",
       "      <th>179074</th>\n",
       "      <td>11415</td>\n",
       "      <td>2</td>\n",
       "      <td>Chennai Super Kings</td>\n",
       "      <td>Mumbai Indians</td>\n",
       "      <td>20</td>\n",
       "      <td>3</td>\n",
       "      <td>SR Watson</td>\n",
       "      <td>RA Jadeja</td>\n",
       "      <td>SL Malinga</td>\n",
       "      <td>0</td>\n",
       "      <td>...</td>\n",
       "      <td>0</td>\n",
       "      <td>0</td>\n",
       "      <td>0</td>\n",
       "      <td>0</td>\n",
       "      <td>2</td>\n",
       "      <td>0</td>\n",
       "      <td>2</td>\n",
       "      <td>NaN</td>\n",
       "      <td>NaN</td>\n",
       "      <td>NaN</td>\n",
       "    </tr>\n",
       "    <tr>\n",
       "      <th>179075</th>\n",
       "      <td>11415</td>\n",
       "      <td>2</td>\n",
       "      <td>Chennai Super Kings</td>\n",
       "      <td>Mumbai Indians</td>\n",
       "      <td>20</td>\n",
       "      <td>4</td>\n",
       "      <td>SR Watson</td>\n",
       "      <td>RA Jadeja</td>\n",
       "      <td>SL Malinga</td>\n",
       "      <td>0</td>\n",
       "      <td>...</td>\n",
       "      <td>0</td>\n",
       "      <td>0</td>\n",
       "      <td>0</td>\n",
       "      <td>0</td>\n",
       "      <td>1</td>\n",
       "      <td>0</td>\n",
       "      <td>1</td>\n",
       "      <td>SR Watson</td>\n",
       "      <td>run out</td>\n",
       "      <td>KH Pandya</td>\n",
       "    </tr>\n",
       "    <tr>\n",
       "      <th>179076</th>\n",
       "      <td>11415</td>\n",
       "      <td>2</td>\n",
       "      <td>Chennai Super Kings</td>\n",
       "      <td>Mumbai Indians</td>\n",
       "      <td>20</td>\n",
       "      <td>5</td>\n",
       "      <td>SN Thakur</td>\n",
       "      <td>RA Jadeja</td>\n",
       "      <td>SL Malinga</td>\n",
       "      <td>0</td>\n",
       "      <td>...</td>\n",
       "      <td>0</td>\n",
       "      <td>0</td>\n",
       "      <td>0</td>\n",
       "      <td>0</td>\n",
       "      <td>2</td>\n",
       "      <td>0</td>\n",
       "      <td>2</td>\n",
       "      <td>NaN</td>\n",
       "      <td>NaN</td>\n",
       "      <td>NaN</td>\n",
       "    </tr>\n",
       "    <tr>\n",
       "      <th>179077</th>\n",
       "      <td>11415</td>\n",
       "      <td>2</td>\n",
       "      <td>Chennai Super Kings</td>\n",
       "      <td>Mumbai Indians</td>\n",
       "      <td>20</td>\n",
       "      <td>6</td>\n",
       "      <td>SN Thakur</td>\n",
       "      <td>RA Jadeja</td>\n",
       "      <td>SL Malinga</td>\n",
       "      <td>0</td>\n",
       "      <td>...</td>\n",
       "      <td>0</td>\n",
       "      <td>0</td>\n",
       "      <td>0</td>\n",
       "      <td>0</td>\n",
       "      <td>0</td>\n",
       "      <td>0</td>\n",
       "      <td>0</td>\n",
       "      <td>SN Thakur</td>\n",
       "      <td>lbw</td>\n",
       "      <td>NaN</td>\n",
       "    </tr>\n",
       "  </tbody>\n",
       "</table>\n",
       "<p>179078 rows × 21 columns</p>\n",
       "</div>"
      ],
      "text/plain": [
       "        match_id  inning         batting_team                 bowling_team  \\\n",
       "0              1       1  Sunrisers Hyderabad  Royal Challengers Bangalore   \n",
       "1              1       1  Sunrisers Hyderabad  Royal Challengers Bangalore   \n",
       "2              1       1  Sunrisers Hyderabad  Royal Challengers Bangalore   \n",
       "3              1       1  Sunrisers Hyderabad  Royal Challengers Bangalore   \n",
       "4              1       1  Sunrisers Hyderabad  Royal Challengers Bangalore   \n",
       "...          ...     ...                  ...                          ...   \n",
       "179073     11415       2  Chennai Super Kings               Mumbai Indians   \n",
       "179074     11415       2  Chennai Super Kings               Mumbai Indians   \n",
       "179075     11415       2  Chennai Super Kings               Mumbai Indians   \n",
       "179076     11415       2  Chennai Super Kings               Mumbai Indians   \n",
       "179077     11415       2  Chennai Super Kings               Mumbai Indians   \n",
       "\n",
       "        over  ball    batsman non_striker      bowler  is_super_over  ...  \\\n",
       "0          1     1  DA Warner    S Dhawan    TS Mills              0  ...   \n",
       "1          1     2  DA Warner    S Dhawan    TS Mills              0  ...   \n",
       "2          1     3  DA Warner    S Dhawan    TS Mills              0  ...   \n",
       "3          1     4  DA Warner    S Dhawan    TS Mills              0  ...   \n",
       "4          1     5  DA Warner    S Dhawan    TS Mills              0  ...   \n",
       "...      ...   ...        ...         ...         ...            ...  ...   \n",
       "179073    20     2  RA Jadeja   SR Watson  SL Malinga              0  ...   \n",
       "179074    20     3  SR Watson   RA Jadeja  SL Malinga              0  ...   \n",
       "179075    20     4  SR Watson   RA Jadeja  SL Malinga              0  ...   \n",
       "179076    20     5  SN Thakur   RA Jadeja  SL Malinga              0  ...   \n",
       "179077    20     6  SN Thakur   RA Jadeja  SL Malinga              0  ...   \n",
       "\n",
       "        bye_runs  legbye_runs  noball_runs  penalty_runs  batsman_runs  \\\n",
       "0              0            0            0             0             0   \n",
       "1              0            0            0             0             0   \n",
       "2              0            0            0             0             4   \n",
       "3              0            0            0             0             0   \n",
       "4              0            0            0             0             0   \n",
       "...          ...          ...          ...           ...           ...   \n",
       "179073         0            0            0             0             1   \n",
       "179074         0            0            0             0             2   \n",
       "179075         0            0            0             0             1   \n",
       "179076         0            0            0             0             2   \n",
       "179077         0            0            0             0             0   \n",
       "\n",
       "        extra_runs  total_runs  player_dismissed dismissal_kind    fielder  \n",
       "0                0           0               NaN            NaN        NaN  \n",
       "1                0           0               NaN            NaN        NaN  \n",
       "2                0           4               NaN            NaN        NaN  \n",
       "3                0           0               NaN            NaN        NaN  \n",
       "4                2           2               NaN            NaN        NaN  \n",
       "...            ...         ...               ...            ...        ...  \n",
       "179073           0           1               NaN            NaN        NaN  \n",
       "179074           0           2               NaN            NaN        NaN  \n",
       "179075           0           1         SR Watson        run out  KH Pandya  \n",
       "179076           0           2               NaN            NaN        NaN  \n",
       "179077           0           0         SN Thakur            lbw        NaN  \n",
       "\n",
       "[179078 rows x 21 columns]"
      ]
     },
     "execution_count": 28,
     "metadata": {},
     "output_type": "execute_result"
    }
   ],
   "source": [
    "# Displaying the data.\n",
    "\n",
    "deliveries_df"
   ]
  },
  {
   "cell_type": "code",
   "execution_count": 29,
   "metadata": {
    "colab": {
     "base_uri": "https://localhost:8080/"
    },
    "executionInfo": {
     "elapsed": 7,
     "status": "ok",
     "timestamp": 1628011921852,
     "user": {
      "displayName": "Aseem Bathla",
      "photoUrl": "",
      "userId": "03429090169407160342"
     },
     "user_tz": -330
    },
    "id": "mvMdcXUr5hYb",
    "outputId": "d707b324-31b9-4f9f-d2c2-c29683e9fa1a"
   },
   "outputs": [
    {
     "data": {
      "text/plain": [
       "array(['Sunrisers Hyderabad', 'Royal Challengers Bangalore',\n",
       "       'Mumbai Indians', 'Rising Pune Supergiant', 'Gujarat Lions',\n",
       "       'Kolkata Knight Riders', 'Kings XI Punjab', 'Delhi Daredevils',\n",
       "       'Chennai Super Kings', 'Rajasthan Royals', 'Deccan Chargers',\n",
       "       'Kochi Tuskers Kerala', 'Pune Warriors', 'Rising Pune Supergiants',\n",
       "       'Delhi Capitals'], dtype=object)"
      ]
     },
     "execution_count": 29,
     "metadata": {},
     "output_type": "execute_result"
    }
   ],
   "source": [
    "# Finding out the all the team names.\n",
    "\n",
    "deliveries_df.batting_team.unique()"
   ]
  },
  {
   "cell_type": "markdown",
   "metadata": {
    "id": "cJsK9zOx5hYb"
   },
   "source": [
    "#### As seen above, Deliveries dataframe has the same errors as Matches dataframe (Rising Pune Supergiants and Delhi Daredevils).\n",
    "\n",
    "The following columns would require the fixing:\n",
    "1. batting_team\n",
    "2. bowling_team"
   ]
  },
  {
   "cell_type": "code",
   "execution_count": 30,
   "metadata": {
    "executionInfo": {
     "elapsed": 5,
     "status": "ok",
     "timestamp": 1628011922232,
     "user": {
      "displayName": "Aseem Bathla",
      "photoUrl": "",
      "userId": "03429090169407160342"
     },
     "user_tz": -330
    },
    "id": "UWEFgXEC5hYb"
   },
   "outputs": [],
   "source": [
    "# Fixing the errors using the replace function.\n",
    "\n",
    "deliveries_df.batting_team.replace({'Rising Pune Supergiants' : 'Rising Pune Supergiant', 'Delhi Daredevils':'Delhi Capitals'},inplace=True)\n",
    "deliveries_df.bowling_team.replace({'Rising Pune Supergiants' : 'Rising Pune Supergiant', 'Delhi Daredevils':'Delhi Capitals'},inplace=True)"
   ]
  },
  {
   "cell_type": "code",
   "execution_count": 31,
   "metadata": {
    "colab": {
     "base_uri": "https://localhost:8080/"
    },
    "executionInfo": {
     "elapsed": 5,
     "status": "ok",
     "timestamp": 1628011922233,
     "user": {
      "displayName": "Aseem Bathla",
      "photoUrl": "",
      "userId": "03429090169407160342"
     },
     "user_tz": -330
    },
    "id": "akv_SJnA5hYb",
    "outputId": "e6f8619b-a730-407d-e7f0-283ff1c39208"
   },
   "outputs": [
    {
     "data": {
      "text/plain": [
       "array(['Sunrisers Hyderabad', 'Royal Challengers Bangalore',\n",
       "       'Mumbai Indians', 'Rising Pune Supergiant', 'Gujarat Lions',\n",
       "       'Kolkata Knight Riders', 'Kings XI Punjab', 'Delhi Capitals',\n",
       "       'Chennai Super Kings', 'Rajasthan Royals', 'Deccan Chargers',\n",
       "       'Kochi Tuskers Kerala', 'Pune Warriors'], dtype=object)"
      ]
     },
     "execution_count": 31,
     "metadata": {},
     "output_type": "execute_result"
    }
   ],
   "source": [
    "# Checking all the names of the teams that compete in the IPL again for confirmation of the fix.\n",
    "\n",
    "deliveries_df.batting_team.unique()"
   ]
  },
  {
   "cell_type": "code",
   "execution_count": 32,
   "metadata": {
    "colab": {
     "base_uri": "https://localhost:8080/",
     "height": 0
    },
    "executionInfo": {
     "elapsed": 2322,
     "status": "ok",
     "timestamp": 1628011924551,
     "user": {
      "displayName": "Aseem Bathla",
      "photoUrl": "",
      "userId": "03429090169407160342"
     },
     "user_tz": -330
    },
    "id": "nFFeZLyM5hYc",
    "outputId": "be31a240-bef6-4bf2-fef0-a64a51bbf929"
   },
   "outputs": [
    {
     "data": {
      "application/javascript": [
       "window.require && require([\"base/js/namespace\"],function(Jupyter){Jupyter.notebook.save_checkpoint()})"
      ],
      "text/plain": [
       "<IPython.core.display.Javascript object>"
      ]
     },
     "metadata": {},
     "output_type": "display_data"
    },
    {
     "name": "stdout",
     "output_type": "stream",
     "text": [
      "[jovian] Updating notebook \"aseembathla19/ipl-data-analysis-2008-2019\" on https://jovian.ai\u001b[0m\n",
      "[jovian] Committed successfully! https://jovian.ai/aseembathla19/ipl-data-analysis-2008-2019\u001b[0m\n"
     ]
    },
    {
     "data": {
      "text/plain": [
       "'https://jovian.ai/aseembathla19/ipl-data-analysis-2008-2019'"
      ]
     },
     "execution_count": 32,
     "metadata": {},
     "output_type": "execute_result"
    }
   ],
   "source": [
    "jovian.commit()"
   ]
  },
  {
   "cell_type": "markdown",
   "metadata": {
    "id": "UVxW7ygT5hYc"
   },
   "source": [
    "## Exploratory Analysis and Visualization\n",
    "\n",
    "#### This section contains general analysis of both the matches and the deliveries dataframe in the form of tables and graphs.\n",
    "\n"
   ]
  },
  {
   "cell_type": "markdown",
   "metadata": {
    "id": "aWatQ7c45hYc"
   },
   "source": [
    "Let's begin by importing`matplotlib.pyplot` and `seaborn`."
   ]
  },
  {
   "cell_type": "code",
   "execution_count": 33,
   "metadata": {
    "executionInfo": {
     "elapsed": 17,
     "status": "ok",
     "timestamp": 1628011924552,
     "user": {
      "displayName": "Aseem Bathla",
      "photoUrl": "",
      "userId": "03429090169407160342"
     },
     "user_tz": -330
    },
    "id": "Xt6httrL5hYc"
   },
   "outputs": [],
   "source": [
    "import seaborn as sns\n",
    "import matplotlib\n",
    "import matplotlib.pyplot as plt\n",
    "%matplotlib inline\n",
    "\n",
    "sns.set_style('darkgrid')\n",
    "matplotlib.rcParams['font.size'] = 12\n",
    "matplotlib.rcParams['figure.figsize'] = (12, 6)\n",
    "matplotlib.rcParams['figure.facecolor'] = '#00000000'"
   ]
  },
  {
   "cell_type": "markdown",
   "metadata": {
    "id": "V8_vFbDg5hYd"
   },
   "source": [
    "## Matches Dataframe"
   ]
  },
  {
   "cell_type": "markdown",
   "metadata": {
    "id": "laVU6S_85hYd"
   },
   "source": [
    "### Toss Decisions Visualisation"
   ]
  },
  {
   "cell_type": "code",
   "execution_count": 34,
   "metadata": {
    "colab": {
     "base_uri": "https://localhost:8080/"
    },
    "executionInfo": {
     "elapsed": 14,
     "status": "ok",
     "timestamp": 1628011924552,
     "user": {
      "displayName": "Aseem Bathla",
      "photoUrl": "",
      "userId": "03429090169407160342"
     },
     "user_tz": -330
    },
    "id": "q5zAOuou5hYd",
    "outputId": "f6e08677-4156-41ff-a791-620e7d7cc54c"
   },
   "outputs": [
    {
     "data": {
      "text/plain": [
       "field    463\n",
       "bat      293\n",
       "Name: toss_decision, dtype: int64"
      ]
     },
     "execution_count": 34,
     "metadata": {},
     "output_type": "execute_result"
    }
   ],
   "source": [
    "# How many times teams decided to bat or bowl.\n",
    "\n",
    "toss_decision = matches.toss_decision.value_counts()\n",
    "toss_decision"
   ]
  },
  {
   "cell_type": "code",
   "execution_count": 35,
   "metadata": {
    "colab": {
     "base_uri": "https://localhost:8080/",
     "height": 0
    },
    "executionInfo": {
     "elapsed": 11,
     "status": "ok",
     "timestamp": 1628011924553,
     "user": {
      "displayName": "Aseem Bathla",
      "photoUrl": "",
      "userId": "03429090169407160342"
     },
     "user_tz": -330
    },
    "id": "lRlhXqOp5hYd",
    "outputId": "32c0376a-9db6-4ac0-a421-356356487678"
   },
   "outputs": [
    {
     "data": {
      "image/png": "[encoded data removed]",
      "text/plain": [
       "<Figure size 864x432 with 1 Axes>"
      ]
     },
     "metadata": {},
     "output_type": "display_data"
    }
   ],
   "source": [
    "# Visualising the toss decisions.\n",
    "\n",
    "fielding = toss_decision[0]\n",
    "batting = toss_decision[1]\n",
    "toss_decisions = [fielding, batting]\n",
    "labels = [\"Fielding\", 'Batting']\n",
    "colors = ['Black', \"Grey\"]\n",
    "plt.title(\"Toss Decisions\", fontweight='bold', fontsize = 20)\n",
    "patches, texts, pcts = plt.pie(toss_decisions, colors = colors, labels = labels, autopct = \"%.2f%%\", startangle = 80, counterclock = False, \n",
    "                               wedgeprops = {'linewidth': 3.0, 'edgecolor': 'white'}, textprops= {'fontsize': 15, 'fontweight' : 'bold'})\n",
    "plt.axis('equal');\n",
    "\n",
    "plt.setp(pcts, color='lightcoral', fontweight='bold', fontsize = 15);"
   ]
  },
  {
   "cell_type": "markdown",
   "metadata": {
    "id": "VF54gNdv5hYd"
   },
   "source": [
    "As seen from the above visualisation, `teams` tend to `field first` in the Indian Premier League."
   ]
  },
  {
   "cell_type": "markdown",
   "metadata": {
    "id": "JXeA6S5T5hYd"
   },
   "source": [
    "### Matches Hosted By Each City"
   ]
  },
  {
   "cell_type": "code",
   "execution_count": 36,
   "metadata": {
    "executionInfo": {
     "elapsed": 9,
     "status": "ok",
     "timestamp": 1628011924553,
     "user": {
      "displayName": "Aseem Bathla",
      "photoUrl": "",
      "userId": "03429090169407160342"
     },
     "user_tz": -330
    },
    "id": "nWwdac425hYe"
   },
   "outputs": [],
   "source": [
    "# Using the groupby functionality of pandas, here we first group by the data using city and then count the matches that \n",
    "# happened in each city by aggregating the ID column using count().\n",
    "\n",
    "matches_per_city_df = matches.groupby('city')[['id']].count()\n",
    "matches_per_city_df = matches_per_city_df.sort_values('id', ascending = False).reset_index()"
   ]
  },
  {
   "cell_type": "code",
   "execution_count": 37,
   "metadata": {
    "colab": {
     "base_uri": "https://localhost:8080/",
     "height": 0
    },
    "executionInfo": {
     "elapsed": 10,
     "status": "ok",
     "timestamp": 1628011924554,
     "user": {
      "displayName": "Aseem Bathla",
      "photoUrl": "",
      "userId": "03429090169407160342"
     },
     "user_tz": -330
    },
    "id": "Yh7RU6i55hYe",
    "outputId": "2671685e-1ec0-4261-b2a8-fe3b8a5b11b3"
   },
   "outputs": [
    {
     "data": {
      "text/html": [
       "<div>\n",
       "<style scoped>\n",
       "    .dataframe tbody tr th:only-of-type {\n",
       "        vertical-align: middle;\n",
       "    }\n",
       "\n",
       "    .dataframe tbody tr th {\n",
       "        vertical-align: top;\n",
       "    }\n",
       "\n",
       "    .dataframe thead th {\n",
       "        text-align: right;\n",
       "    }\n",
       "</style>\n",
       "<table border=\"1\" class=\"dataframe\">\n",
       "  <thead>\n",
       "    <tr style=\"text-align: right;\">\n",
       "      <th></th>\n",
       "      <th>city</th>\n",
       "      <th>matches</th>\n",
       "    </tr>\n",
       "  </thead>\n",
       "  <tbody>\n",
       "    <tr>\n",
       "      <th>0</th>\n",
       "      <td>Mumbai</td>\n",
       "      <td>101</td>\n",
       "    </tr>\n",
       "    <tr>\n",
       "      <th>1</th>\n",
       "      <td>Bengaluru</td>\n",
       "      <td>80</td>\n",
       "    </tr>\n",
       "    <tr>\n",
       "      <th>2</th>\n",
       "      <td>Kolkata</td>\n",
       "      <td>77</td>\n",
       "    </tr>\n",
       "    <tr>\n",
       "      <th>3</th>\n",
       "      <td>Delhi</td>\n",
       "      <td>74</td>\n",
       "    </tr>\n",
       "    <tr>\n",
       "      <th>4</th>\n",
       "      <td>Hyderabad</td>\n",
       "      <td>64</td>\n",
       "    </tr>\n",
       "    <tr>\n",
       "      <th>5</th>\n",
       "      <td>Chennai</td>\n",
       "      <td>57</td>\n",
       "    </tr>\n",
       "    <tr>\n",
       "      <th>6</th>\n",
       "      <td>Jaipur</td>\n",
       "      <td>47</td>\n",
       "    </tr>\n",
       "    <tr>\n",
       "      <th>7</th>\n",
       "      <td>Chandigarh</td>\n",
       "      <td>46</td>\n",
       "    </tr>\n",
       "    <tr>\n",
       "      <th>8</th>\n",
       "      <td>Pune</td>\n",
       "      <td>38</td>\n",
       "    </tr>\n",
       "    <tr>\n",
       "      <th>9</th>\n",
       "      <td>Durban</td>\n",
       "      <td>15</td>\n",
       "    </tr>\n",
       "    <tr>\n",
       "      <th>10</th>\n",
       "      <td>Visakhapatnam</td>\n",
       "      <td>13</td>\n",
       "    </tr>\n",
       "    <tr>\n",
       "      <th>11</th>\n",
       "      <td>Centurion</td>\n",
       "      <td>12</td>\n",
       "    </tr>\n",
       "    <tr>\n",
       "      <th>12</th>\n",
       "      <td>Ahmedabad</td>\n",
       "      <td>12</td>\n",
       "    </tr>\n",
       "    <tr>\n",
       "      <th>13</th>\n",
       "      <td>Rajkot</td>\n",
       "      <td>10</td>\n",
       "    </tr>\n",
       "    <tr>\n",
       "      <th>14</th>\n",
       "      <td>Mohali</td>\n",
       "      <td>10</td>\n",
       "    </tr>\n",
       "    <tr>\n",
       "      <th>15</th>\n",
       "      <td>Dharamsala</td>\n",
       "      <td>9</td>\n",
       "    </tr>\n",
       "    <tr>\n",
       "      <th>16</th>\n",
       "      <td>Indore</td>\n",
       "      <td>9</td>\n",
       "    </tr>\n",
       "    <tr>\n",
       "      <th>17</th>\n",
       "      <td>Johannesburg</td>\n",
       "      <td>8</td>\n",
       "    </tr>\n",
       "    <tr>\n",
       "      <th>18</th>\n",
       "      <td>Ranchi</td>\n",
       "      <td>7</td>\n",
       "    </tr>\n",
       "    <tr>\n",
       "      <th>19</th>\n",
       "      <td>Port Elizabeth</td>\n",
       "      <td>7</td>\n",
       "    </tr>\n",
       "    <tr>\n",
       "      <th>20</th>\n",
       "      <td>Cape Town</td>\n",
       "      <td>7</td>\n",
       "    </tr>\n",
       "    <tr>\n",
       "      <th>21</th>\n",
       "      <td>Dubai</td>\n",
       "      <td>7</td>\n",
       "    </tr>\n",
       "    <tr>\n",
       "      <th>22</th>\n",
       "      <td>Cuttack</td>\n",
       "      <td>7</td>\n",
       "    </tr>\n",
       "    <tr>\n",
       "      <th>23</th>\n",
       "      <td>Abu Dhabi</td>\n",
       "      <td>7</td>\n",
       "    </tr>\n",
       "    <tr>\n",
       "      <th>24</th>\n",
       "      <td>Raipur</td>\n",
       "      <td>6</td>\n",
       "    </tr>\n",
       "    <tr>\n",
       "      <th>25</th>\n",
       "      <td>Sharjah</td>\n",
       "      <td>6</td>\n",
       "    </tr>\n",
       "    <tr>\n",
       "      <th>26</th>\n",
       "      <td>Kochi</td>\n",
       "      <td>5</td>\n",
       "    </tr>\n",
       "    <tr>\n",
       "      <th>27</th>\n",
       "      <td>Kanpur</td>\n",
       "      <td>4</td>\n",
       "    </tr>\n",
       "    <tr>\n",
       "      <th>28</th>\n",
       "      <td>Kimberley</td>\n",
       "      <td>3</td>\n",
       "    </tr>\n",
       "    <tr>\n",
       "      <th>29</th>\n",
       "      <td>Nagpur</td>\n",
       "      <td>3</td>\n",
       "    </tr>\n",
       "    <tr>\n",
       "      <th>30</th>\n",
       "      <td>East London</td>\n",
       "      <td>3</td>\n",
       "    </tr>\n",
       "    <tr>\n",
       "      <th>31</th>\n",
       "      <td>Bloemfontein</td>\n",
       "      <td>2</td>\n",
       "    </tr>\n",
       "  </tbody>\n",
       "</table>\n",
       "</div>"
      ],
      "text/plain": [
       "              city  matches\n",
       "0           Mumbai      101\n",
       "1        Bengaluru       80\n",
       "2          Kolkata       77\n",
       "3            Delhi       74\n",
       "4        Hyderabad       64\n",
       "5          Chennai       57\n",
       "6           Jaipur       47\n",
       "7       Chandigarh       46\n",
       "8             Pune       38\n",
       "9           Durban       15\n",
       "10   Visakhapatnam       13\n",
       "11       Centurion       12\n",
       "12       Ahmedabad       12\n",
       "13          Rajkot       10\n",
       "14          Mohali       10\n",
       "15      Dharamsala        9\n",
       "16          Indore        9\n",
       "17    Johannesburg        8\n",
       "18          Ranchi        7\n",
       "19  Port Elizabeth        7\n",
       "20       Cape Town        7\n",
       "21           Dubai        7\n",
       "22         Cuttack        7\n",
       "23       Abu Dhabi        7\n",
       "24          Raipur        6\n",
       "25         Sharjah        6\n",
       "26           Kochi        5\n",
       "27          Kanpur        4\n",
       "28       Kimberley        3\n",
       "29          Nagpur        3\n",
       "30     East London        3\n",
       "31    Bloemfontein        2"
      ]
     },
     "execution_count": 37,
     "metadata": {},
     "output_type": "execute_result"
    }
   ],
   "source": [
    "# Renaming the columns.\n",
    "\n",
    "matches_per_city_df.rename(columns = {'id' : 'matches'}, inplace = True)\n",
    "matches_per_city_df"
   ]
  },
  {
   "cell_type": "code",
   "execution_count": 38,
   "metadata": {
    "colab": {
     "base_uri": "https://localhost:8080/",
     "height": 0
    },
    "executionInfo": {
     "elapsed": 808,
     "status": "ok",
     "timestamp": 1628011925353,
     "user": {
      "displayName": "Aseem Bathla",
      "photoUrl": "",
      "userId": "03429090169407160342"
     },
     "user_tz": -330
    },
    "id": "SbSzl0aM5hYe",
    "outputId": "b8383760-7e77-4e0d-f12b-09c1bc2883ee"
   },
   "outputs": [
    {
     "data": {
      "image/png": "[encoded data removed]",
      "text/plain": [
       "<Figure size 864x432 with 1 Axes>"
      ]
     },
     "metadata": {
      "needs_background": "light"
     },
     "output_type": "display_data"
    }
   ],
   "source": [
    "# Plotting the visualisation for the top 20 cities who hosted the most matches.\n",
    "\n",
    "plt.bar(matches_per_city_df['city'][:20], matches_per_city_df['matches'][:20], alpha = 0.8, \n",
    "        color = 'blueviolet', edgecolor = 'black')\n",
    "plt.title('Total Matches Hosted By Different Cities', pad = 20, fontweight='bold', fontsize = 20)\n",
    "plt.ylabel('Number Of Matches', labelpad = 10, fontweight='bold', fontsize = 15)\n",
    "plt.xlabel('Cities', labelpad = 20, fontweight='bold', fontsize = 15)\n",
    "plt.xticks(rotation=60);\n"
   ]
  },
  {
   "cell_type": "markdown",
   "metadata": {
    "id": "REUnO-J-5hYe"
   },
   "source": [
    "####  Why have some cities hosted less than twenty games?\n",
    "1. The 2009 Indian Premier League season, abbreviated as IPL 2 or the 2009 IPL, was the second season of the Indian Premier League. The tournament was hosted by South Africa and was played between 18 April and 24 May 2009.'\n",
    "2. The tournament was held in 8 cities: Cape Town, Johannesburg, Durban, Centurion(Pretoria), East London, Kimberly, Bloemfontein and Port Elizabeth.\n",
    "3. Mohali having hosted less matches has multiple reasons, one of them being renovation in 2011 and another one of them being, the home tem (Kings XI Punjab) losing many matches there which attracts less crowd, hence, less revenue, so some of the home matches of Kings XI Punjab were played at Dharamsala & Indore.\n",
    "4. Some of the cities like Ahemdabad were introduced later on as a venue, and having no team representing the state, less matches were conducted there.\n",
    "5. Similarly, Rajkot has hosted less number of matches because the team representing the state (Gujarat Lions) played only two seasons of IPL (2016 & 2017) as it was one of the two replacement teams"
   ]
  },
  {
   "cell_type": "markdown",
   "metadata": {
    "id": "M8nntG7a5hYe"
   },
   "source": [
    "### The Top 10 Biggest Victory Margins, Both Through Runs & Wickets."
   ]
  },
  {
   "cell_type": "code",
   "execution_count": 39,
   "metadata": {
    "code_folding": [],
    "executionInfo": {
     "elapsed": 37,
     "status": "ok",
     "timestamp": 1628011925353,
     "user": {
      "displayName": "Aseem Bathla",
      "photoUrl": "",
      "userId": "03429090169407160342"
     },
     "user_tz": -330
    },
    "id": "4Ct7aoNN5hYf"
   },
   "outputs": [],
   "source": [
    "# Creating a loser column in the dataframe.\n",
    "\n",
    "loser = []\n",
    "for i in range(756):\n",
    "    if matches['winner'][i] == matches['team1'][i]:\n",
    "        loser.append(matches['team2'][i])\n",
    "    elif matches['winner'][i] == matches['team2'][i]:\n",
    "        loser.append(matches['team1'][i])\n",
    "    else:\n",
    "        loser.append(matches['winner'][i])\n",
    "\n",
    "matches['loser'] = loser"
   ]
  },
  {
   "cell_type": "code",
   "execution_count": 40,
   "metadata": {
    "colab": {
     "base_uri": "https://localhost:8080/",
     "height": 0
    },
    "executionInfo": {
     "elapsed": 36,
     "status": "ok",
     "timestamp": 1628011925353,
     "user": {
      "displayName": "Aseem Bathla",
      "photoUrl": "",
      "userId": "03429090169407160342"
     },
     "user_tz": -330
    },
    "id": "3LKhU0n45hYf",
    "outputId": "24eefb35-234b-46a1-f87d-7a9f9fb67f60"
   },
   "outputs": [
    {
     "data": {
      "text/html": [
       "<div>\n",
       "<style scoped>\n",
       "    .dataframe tbody tr th:only-of-type {\n",
       "        vertical-align: middle;\n",
       "    }\n",
       "\n",
       "    .dataframe tbody tr th {\n",
       "        vertical-align: top;\n",
       "    }\n",
       "\n",
       "    .dataframe thead th {\n",
       "        text-align: right;\n",
       "    }\n",
       "</style>\n",
       "<table border=\"1\" class=\"dataframe\">\n",
       "  <thead>\n",
       "    <tr style=\"text-align: right;\">\n",
       "      <th></th>\n",
       "      <th>index</th>\n",
       "      <th>date</th>\n",
       "      <th>winner</th>\n",
       "      <th>loser</th>\n",
       "      <th>win_by_runs</th>\n",
       "    </tr>\n",
       "  </thead>\n",
       "  <tbody>\n",
       "    <tr>\n",
       "      <th>0</th>\n",
       "      <td>43</td>\n",
       "      <td>2017-05-06</td>\n",
       "      <td>Mumbai Indians</td>\n",
       "      <td>Delhi Capitals</td>\n",
       "      <td>146</td>\n",
       "    </tr>\n",
       "    <tr>\n",
       "      <th>1</th>\n",
       "      <td>619</td>\n",
       "      <td>2016-05-14</td>\n",
       "      <td>Royal Challengers Bangalore</td>\n",
       "      <td>Gujarat Lions</td>\n",
       "      <td>144</td>\n",
       "    </tr>\n",
       "    <tr>\n",
       "      <th>2</th>\n",
       "      <td>59</td>\n",
       "      <td>2008-04-18</td>\n",
       "      <td>Kolkata Knight Riders</td>\n",
       "      <td>Royal Challengers Bangalore</td>\n",
       "      <td>140</td>\n",
       "    </tr>\n",
       "    <tr>\n",
       "      <th>3</th>\n",
       "      <td>556</td>\n",
       "      <td>2015-05-06</td>\n",
       "      <td>Royal Challengers Bangalore</td>\n",
       "      <td>Kings XI Punjab</td>\n",
       "      <td>138</td>\n",
       "    </tr>\n",
       "    <tr>\n",
       "      <th>4</th>\n",
       "      <td>410</td>\n",
       "      <td>2013-04-23</td>\n",
       "      <td>Royal Challengers Bangalore</td>\n",
       "      <td>Pune Warriors</td>\n",
       "      <td>130</td>\n",
       "    </tr>\n",
       "    <tr>\n",
       "      <th>5</th>\n",
       "      <td>706</td>\n",
       "      <td>2019-03-31</td>\n",
       "      <td>Sunrisers Hyderabad</td>\n",
       "      <td>Royal Challengers Bangalore</td>\n",
       "      <td>118</td>\n",
       "    </tr>\n",
       "    <tr>\n",
       "      <th>6</th>\n",
       "      <td>295</td>\n",
       "      <td>2011-05-17</td>\n",
       "      <td>Kings XI Punjab</td>\n",
       "      <td>Royal Challengers Bangalore</td>\n",
       "      <td>111</td>\n",
       "    </tr>\n",
       "    <tr>\n",
       "      <th>7</th>\n",
       "      <td>114</td>\n",
       "      <td>2008-05-30</td>\n",
       "      <td>Rajasthan Royals</td>\n",
       "      <td>Delhi Capitals</td>\n",
       "      <td>105</td>\n",
       "    </tr>\n",
       "    <tr>\n",
       "      <th>8</th>\n",
       "      <td>676</td>\n",
       "      <td>2018-09-05</td>\n",
       "      <td>Mumbai Indians</td>\n",
       "      <td>Kolkata Knight Riders</td>\n",
       "      <td>102</td>\n",
       "    </tr>\n",
       "    <tr>\n",
       "      <th>9</th>\n",
       "      <td>182</td>\n",
       "      <td>2010-03-17</td>\n",
       "      <td>Mumbai Indians</td>\n",
       "      <td>Delhi Capitals</td>\n",
       "      <td>98</td>\n",
       "    </tr>\n",
       "  </tbody>\n",
       "</table>\n",
       "</div>"
      ],
      "text/plain": [
       "   index       date                       winner                        loser  \\\n",
       "0     43 2017-05-06               Mumbai Indians               Delhi Capitals   \n",
       "1    619 2016-05-14  Royal Challengers Bangalore                Gujarat Lions   \n",
       "2     59 2008-04-18        Kolkata Knight Riders  Royal Challengers Bangalore   \n",
       "3    556 2015-05-06  Royal Challengers Bangalore              Kings XI Punjab   \n",
       "4    410 2013-04-23  Royal Challengers Bangalore                Pune Warriors   \n",
       "5    706 2019-03-31          Sunrisers Hyderabad  Royal Challengers Bangalore   \n",
       "6    295 2011-05-17              Kings XI Punjab  Royal Challengers Bangalore   \n",
       "7    114 2008-05-30             Rajasthan Royals               Delhi Capitals   \n",
       "8    676 2018-09-05               Mumbai Indians        Kolkata Knight Riders   \n",
       "9    182 2010-03-17               Mumbai Indians               Delhi Capitals   \n",
       "\n",
       "   win_by_runs  \n",
       "0          146  \n",
       "1          144  \n",
       "2          140  \n",
       "3          138  \n",
       "4          130  \n",
       "5          118  \n",
       "6          111  \n",
       "7          105  \n",
       "8          102  \n",
       "9           98  "
      ]
     },
     "execution_count": 40,
     "metadata": {},
     "output_type": "execute_result"
    }
   ],
   "source": [
    "# Finding out the top 10 biggest margin of victories by runs\n",
    "\n",
    "largest_runs_wins = matches.win_by_runs.sort_values(ascending = False)[0:10]\n",
    "matches.loc[largest_runs_wins.index][['date', 'winner','loser', 'win_by_runs']].reset_index()"
   ]
  },
  {
   "cell_type": "code",
   "execution_count": 41,
   "metadata": {
    "colab": {
     "base_uri": "https://localhost:8080/",
     "height": 0
    },
    "executionInfo": {
     "elapsed": 36,
     "status": "ok",
     "timestamp": 1628011925354,
     "user": {
      "displayName": "Aseem Bathla",
      "photoUrl": "",
      "userId": "03429090169407160342"
     },
     "user_tz": -330
    },
    "id": "yNe5lHZG5hYf",
    "outputId": "10c4638c-8100-4270-f62b-d5b44d3306fe"
   },
   "outputs": [
    {
     "data": {
      "text/html": [
       "<div>\n",
       "<style scoped>\n",
       "    .dataframe tbody tr th:only-of-type {\n",
       "        vertical-align: middle;\n",
       "    }\n",
       "\n",
       "    .dataframe tbody tr th {\n",
       "        vertical-align: top;\n",
       "    }\n",
       "\n",
       "    .dataframe thead th {\n",
       "        text-align: right;\n",
       "    }\n",
       "</style>\n",
       "<table border=\"1\" class=\"dataframe\">\n",
       "  <thead>\n",
       "    <tr style=\"text-align: right;\">\n",
       "      <th></th>\n",
       "      <th>index</th>\n",
       "      <th>date</th>\n",
       "      <th>winner</th>\n",
       "      <th>loser</th>\n",
       "      <th>win_by_wickets</th>\n",
       "    </tr>\n",
       "  </thead>\n",
       "  <tbody>\n",
       "    <tr>\n",
       "      <th>0</th>\n",
       "      <td>119</td>\n",
       "      <td>2009-04-19</td>\n",
       "      <td>Delhi Capitals</td>\n",
       "      <td>Kings XI Punjab</td>\n",
       "      <td>10</td>\n",
       "    </tr>\n",
       "    <tr>\n",
       "      <th>1</th>\n",
       "      <td>390</td>\n",
       "      <td>2013-04-10</td>\n",
       "      <td>Chennai Super Kings</td>\n",
       "      <td>Kings XI Punjab</td>\n",
       "      <td>10</td>\n",
       "    </tr>\n",
       "    <tr>\n",
       "      <th>2</th>\n",
       "      <td>34</td>\n",
       "      <td>2017-04-30</td>\n",
       "      <td>Kings XI Punjab</td>\n",
       "      <td>Delhi Capitals</td>\n",
       "      <td>10</td>\n",
       "    </tr>\n",
       "    <tr>\n",
       "      <th>3</th>\n",
       "      <td>590</td>\n",
       "      <td>2016-04-21</td>\n",
       "      <td>Sunrisers Hyderabad</td>\n",
       "      <td>Gujarat Lions</td>\n",
       "      <td>10</td>\n",
       "    </tr>\n",
       "    <tr>\n",
       "      <th>4</th>\n",
       "      <td>71</td>\n",
       "      <td>2008-04-27</td>\n",
       "      <td>Deccan Chargers</td>\n",
       "      <td>Mumbai Indians</td>\n",
       "      <td>10</td>\n",
       "    </tr>\n",
       "    <tr>\n",
       "      <th>5</th>\n",
       "      <td>683</td>\n",
       "      <td>2018-05-14</td>\n",
       "      <td>Royal Challengers Bangalore</td>\n",
       "      <td>Kings XI Punjab</td>\n",
       "      <td>10</td>\n",
       "    </tr>\n",
       "    <tr>\n",
       "      <th>6</th>\n",
       "      <td>298</td>\n",
       "      <td>2011-05-20</td>\n",
       "      <td>Rajasthan Royals</td>\n",
       "      <td>Mumbai Indians</td>\n",
       "      <td>10</td>\n",
       "    </tr>\n",
       "    <tr>\n",
       "      <th>7</th>\n",
       "      <td>376</td>\n",
       "      <td>2012-05-20</td>\n",
       "      <td>Mumbai Indians</td>\n",
       "      <td>Rajasthan Royals</td>\n",
       "      <td>10</td>\n",
       "    </tr>\n",
       "    <tr>\n",
       "      <th>8</th>\n",
       "      <td>542</td>\n",
       "      <td>2015-04-26</td>\n",
       "      <td>Royal Challengers Bangalore</td>\n",
       "      <td>Delhi Capitals</td>\n",
       "      <td>10</td>\n",
       "    </tr>\n",
       "    <tr>\n",
       "      <th>9</th>\n",
       "      <td>183</td>\n",
       "      <td>2010-03-18</td>\n",
       "      <td>Royal Challengers Bangalore</td>\n",
       "      <td>Rajasthan Royals</td>\n",
       "      <td>10</td>\n",
       "    </tr>\n",
       "  </tbody>\n",
       "</table>\n",
       "</div>"
      ],
      "text/plain": [
       "   index       date                       winner             loser  \\\n",
       "0    119 2009-04-19               Delhi Capitals   Kings XI Punjab   \n",
       "1    390 2013-04-10          Chennai Super Kings   Kings XI Punjab   \n",
       "2     34 2017-04-30              Kings XI Punjab    Delhi Capitals   \n",
       "3    590 2016-04-21          Sunrisers Hyderabad     Gujarat Lions   \n",
       "4     71 2008-04-27              Deccan Chargers    Mumbai Indians   \n",
       "5    683 2018-05-14  Royal Challengers Bangalore   Kings XI Punjab   \n",
       "6    298 2011-05-20             Rajasthan Royals    Mumbai Indians   \n",
       "7    376 2012-05-20               Mumbai Indians  Rajasthan Royals   \n",
       "8    542 2015-04-26  Royal Challengers Bangalore    Delhi Capitals   \n",
       "9    183 2010-03-18  Royal Challengers Bangalore  Rajasthan Royals   \n",
       "\n",
       "   win_by_wickets  \n",
       "0              10  \n",
       "1              10  \n",
       "2              10  \n",
       "3              10  \n",
       "4              10  \n",
       "5              10  \n",
       "6              10  \n",
       "7              10  \n",
       "8              10  \n",
       "9              10  "
      ]
     },
     "execution_count": 41,
     "metadata": {},
     "output_type": "execute_result"
    }
   ],
   "source": [
    "# Finding out the top 10 biggest margin of victories by wickets\n",
    "\n",
    "largest_wickets_wins = matches.win_by_wickets.sort_values(ascending = False)[0:10]\n",
    "matches.loc[largest_wickets_wins.index][['date', 'winner','loser', 'win_by_wickets']].reset_index()"
   ]
  },
  {
   "cell_type": "markdown",
   "metadata": {
    "id": "fosv_PIK5hYf"
   },
   "source": [
    "### Total Matches In Each Season."
   ]
  },
  {
   "cell_type": "code",
   "execution_count": 42,
   "metadata": {
    "colab": {
     "base_uri": "https://localhost:8080/",
     "height": 0
    },
    "executionInfo": {
     "elapsed": 35,
     "status": "ok",
     "timestamp": 1628011925354,
     "user": {
      "displayName": "Aseem Bathla",
      "photoUrl": "",
      "userId": "03429090169407160342"
     },
     "user_tz": -330
    },
    "id": "-4HUQ9GK5hYf",
    "outputId": "717ad3c3-b268-4f13-e728-c538216c58da"
   },
   "outputs": [
    {
     "data": {
      "text/html": [
       "<div>\n",
       "<style scoped>\n",
       "    .dataframe tbody tr th:only-of-type {\n",
       "        vertical-align: middle;\n",
       "    }\n",
       "\n",
       "    .dataframe tbody tr th {\n",
       "        vertical-align: top;\n",
       "    }\n",
       "\n",
       "    .dataframe thead th {\n",
       "        text-align: right;\n",
       "    }\n",
       "</style>\n",
       "<table border=\"1\" class=\"dataframe\">\n",
       "  <thead>\n",
       "    <tr style=\"text-align: right;\">\n",
       "      <th></th>\n",
       "      <th>id</th>\n",
       "    </tr>\n",
       "    <tr>\n",
       "      <th>season</th>\n",
       "      <th></th>\n",
       "    </tr>\n",
       "  </thead>\n",
       "  <tbody>\n",
       "    <tr>\n",
       "      <th>2008</th>\n",
       "      <td>58</td>\n",
       "    </tr>\n",
       "    <tr>\n",
       "      <th>2009</th>\n",
       "      <td>57</td>\n",
       "    </tr>\n",
       "    <tr>\n",
       "      <th>2010</th>\n",
       "      <td>60</td>\n",
       "    </tr>\n",
       "    <tr>\n",
       "      <th>2011</th>\n",
       "      <td>73</td>\n",
       "    </tr>\n",
       "    <tr>\n",
       "      <th>2012</th>\n",
       "      <td>74</td>\n",
       "    </tr>\n",
       "    <tr>\n",
       "      <th>2013</th>\n",
       "      <td>76</td>\n",
       "    </tr>\n",
       "    <tr>\n",
       "      <th>2014</th>\n",
       "      <td>60</td>\n",
       "    </tr>\n",
       "    <tr>\n",
       "      <th>2015</th>\n",
       "      <td>59</td>\n",
       "    </tr>\n",
       "    <tr>\n",
       "      <th>2016</th>\n",
       "      <td>60</td>\n",
       "    </tr>\n",
       "    <tr>\n",
       "      <th>2017</th>\n",
       "      <td>59</td>\n",
       "    </tr>\n",
       "    <tr>\n",
       "      <th>2018</th>\n",
       "      <td>60</td>\n",
       "    </tr>\n",
       "    <tr>\n",
       "      <th>2019</th>\n",
       "      <td>60</td>\n",
       "    </tr>\n",
       "  </tbody>\n",
       "</table>\n",
       "</div>"
      ],
      "text/plain": [
       "        id\n",
       "season    \n",
       "2008    58\n",
       "2009    57\n",
       "2010    60\n",
       "2011    73\n",
       "2012    74\n",
       "2013    76\n",
       "2014    60\n",
       "2015    59\n",
       "2016    60\n",
       "2017    59\n",
       "2018    60\n",
       "2019    60"
      ]
     },
     "execution_count": 42,
     "metadata": {},
     "output_type": "execute_result"
    }
   ],
   "source": [
    "# Using the group by functionality of pandas, grouping based on the season and id columns and aggregating using count.\n",
    "\n",
    "total_matches_per_year = matches.groupby('season')[['id']].count()\n",
    "total_matches_per_year"
   ]
  },
  {
   "cell_type": "code",
   "execution_count": 43,
   "metadata": {
    "colab": {
     "base_uri": "https://localhost:8080/",
     "height": 0
    },
    "executionInfo": {
     "elapsed": 34,
     "status": "ok",
     "timestamp": 1628011925355,
     "user": {
      "displayName": "Aseem Bathla",
      "photoUrl": "",
      "userId": "03429090169407160342"
     },
     "user_tz": -330
    },
    "id": "2Gi5tY_b5hYg",
    "outputId": "36c8d3ef-a003-4b04-f483-a75b01f163ec",
    "scrolled": false
   },
   "outputs": [
    {
     "data": {
      "image/png": "[encoded data removed]",
      "text/plain": [
       "<Figure size 864x432 with 1 Axes>"
      ]
     },
     "metadata": {
      "needs_background": "light"
     },
     "output_type": "display_data"
    }
   ],
   "source": [
    "# Visualising the number of matches in a season using a line chart.\n",
    "\n",
    "plt.title('Number Of Matches In Each Season', pad = 20, fontweight='bold', fontsize = 20)\n",
    "plt.xlabel(\"Seasons\", labelpad = 20, fontweight='bold', fontsize = 15)\n",
    "plt.ylabel(\"Number Of Matches\", labelpad = 20, fontweight='bold', fontsize = 15)\n",
    "plt.xticks(total_matches_per_year.index)\n",
    "x = total_matches_per_year.index\n",
    "y = total_matches_per_year.id\n",
    "plt.plot(x, y, marker = 'o', markeredgecolor = 'black', linewidth = 3, markersize = 10, linestyle = \"-\", color = 'hotpink');\n",
    "plt.ylim(40, 80);\n"
   ]
  },
  {
   "cell_type": "markdown",
   "metadata": {
    "id": "tYObIwUa5hYg"
   },
   "source": [
    "#### Why there were are more matches in 2011, 2012 and 2013?\n",
    "1. In 2011, two new teams were introduced in the IPL, Kochi Tuskers Kerala & Pune Warriors India. This meant that the IPL now had 10 teams instead of 8 teams which can explain the increase in number of matches.\n",
    "2. In 2011 end, Kochi Tuskers Kerala was terminated because they failed to pay the 10% bank guarantee they had agreed to pay the IPL committee despite several reminders from the BCCI. They were removed from the IPL in October 2011. By December, they were gone. So, for the 2012 season, they had to form a new format for 9 teams now instead of 10, hence, the increase in matches again (though, only slight increase).\n",
    "3. In 2013, just like Kochi Tuskers Kerala, Pune Warriors India were terminated for failing to furnish a bank guarantee worth Rs 170 crore for the next season.\n",
    "4. Hence, since 2014, there have bn a similar number of matches being played in the IPL amongst 8 teams."
   ]
  },
  {
   "cell_type": "markdown",
   "metadata": {
    "id": "vBflfF7L5hYg"
   },
   "source": [
    "### Matches Played & Won By Each Team"
   ]
  },
  {
   "cell_type": "code",
   "execution_count": 44,
   "metadata": {
    "colab": {
     "base_uri": "https://localhost:8080/",
     "height": 606
    },
    "executionInfo": {
     "elapsed": 33,
     "status": "ok",
     "timestamp": 1628011925355,
     "user": {
      "displayName": "Aseem Bathla",
      "photoUrl": "",
      "userId": "03429090169407160342"
     },
     "user_tz": -330
    },
    "id": "PakZb0sE5hYg",
    "outputId": "2589920e-f80b-43ed-9c3d-9f5aa833bc69"
   },
   "outputs": [
    {
     "data": {
      "text/html": [
       "<div>\n",
       "<style scoped>\n",
       "    .dataframe tbody tr th:only-of-type {\n",
       "        vertical-align: middle;\n",
       "    }\n",
       "\n",
       "    .dataframe tbody tr th {\n",
       "        vertical-align: top;\n",
       "    }\n",
       "\n",
       "    .dataframe thead th {\n",
       "        text-align: right;\n",
       "    }\n",
       "</style>\n",
       "<table border=\"1\" class=\"dataframe\">\n",
       "  <thead>\n",
       "    <tr style=\"text-align: right;\">\n",
       "      <th></th>\n",
       "      <th>Teams</th>\n",
       "      <th>Total Matches</th>\n",
       "    </tr>\n",
       "  </thead>\n",
       "  <tbody>\n",
       "    <tr>\n",
       "      <th>0</th>\n",
       "      <td>Mumbai Indians</td>\n",
       "      <td>187</td>\n",
       "    </tr>\n",
       "    <tr>\n",
       "      <th>1</th>\n",
       "      <td>Royal Challengers Bangalore</td>\n",
       "      <td>180</td>\n",
       "    </tr>\n",
       "    <tr>\n",
       "      <th>2</th>\n",
       "      <td>Kolkata Knight Riders</td>\n",
       "      <td>178</td>\n",
       "    </tr>\n",
       "    <tr>\n",
       "      <th>3</th>\n",
       "      <td>Delhi Capitals</td>\n",
       "      <td>177</td>\n",
       "    </tr>\n",
       "    <tr>\n",
       "      <th>4</th>\n",
       "      <td>Kings XI Punjab</td>\n",
       "      <td>176</td>\n",
       "    </tr>\n",
       "    <tr>\n",
       "      <th>5</th>\n",
       "      <td>Chennai Super Kings</td>\n",
       "      <td>164</td>\n",
       "    </tr>\n",
       "    <tr>\n",
       "      <th>6</th>\n",
       "      <td>Rajasthan Royals</td>\n",
       "      <td>147</td>\n",
       "    </tr>\n",
       "    <tr>\n",
       "      <th>7</th>\n",
       "      <td>Sunrisers Hyderabad</td>\n",
       "      <td>108</td>\n",
       "    </tr>\n",
       "    <tr>\n",
       "      <th>8</th>\n",
       "      <td>Deccan Chargers</td>\n",
       "      <td>75</td>\n",
       "    </tr>\n",
       "    <tr>\n",
       "      <th>9</th>\n",
       "      <td>Pune Warriors</td>\n",
       "      <td>46</td>\n",
       "    </tr>\n",
       "    <tr>\n",
       "      <th>10</th>\n",
       "      <td>Gujarat Lions</td>\n",
       "      <td>30</td>\n",
       "    </tr>\n",
       "    <tr>\n",
       "      <th>11</th>\n",
       "      <td>Rising Pune Supergiant</td>\n",
       "      <td>30</td>\n",
       "    </tr>\n",
       "    <tr>\n",
       "      <th>12</th>\n",
       "      <td>Kochi Tuskers Kerala</td>\n",
       "      <td>14</td>\n",
       "    </tr>\n",
       "  </tbody>\n",
       "</table>\n",
       "</div>"
      ],
      "text/plain": [
       "                          Teams  Total Matches\n",
       "0                Mumbai Indians            187\n",
       "1   Royal Challengers Bangalore            180\n",
       "2         Kolkata Knight Riders            178\n",
       "3                Delhi Capitals            177\n",
       "4               Kings XI Punjab            176\n",
       "5           Chennai Super Kings            164\n",
       "6              Rajasthan Royals            147\n",
       "7           Sunrisers Hyderabad            108\n",
       "8               Deccan Chargers             75\n",
       "9                 Pune Warriors             46\n",
       "10                Gujarat Lions             30\n",
       "11       Rising Pune Supergiant             30\n",
       "12         Kochi Tuskers Kerala             14"
      ]
     },
     "execution_count": 44,
     "metadata": {},
     "output_type": "execute_result"
    }
   ],
   "source": [
    "# Concatenating (joining on axis = 0) the two teams (team1 and team 2) columns and then using value_count() to determine the number of matches\n",
    "# played by each team.\n",
    "\n",
    "total_matches = pd.concat([matches['team1'], matches['team2']])\n",
    "total_matches_per_team = total_matches.value_counts().reset_index()\n",
    "total_matches_per_team.columns = ['Teams', 'Total Matches']\n",
    "total_matches_per_team"
   ]
  },
  {
   "cell_type": "code",
   "execution_count": 45,
   "metadata": {
    "colab": {
     "base_uri": "https://localhost:8080/",
     "height": 606
    },
    "executionInfo": {
     "elapsed": 33,
     "status": "ok",
     "timestamp": 1628011925356,
     "user": {
      "displayName": "Aseem Bathla",
      "photoUrl": "",
      "userId": "03429090169407160342"
     },
     "user_tz": -330
    },
    "id": "Wk9f0hQz5hYg",
    "outputId": "0462baa5-5e20-4962-8799-efe8439d2410"
   },
   "outputs": [
    {
     "data": {
      "text/html": [
       "<div>\n",
       "<style scoped>\n",
       "    .dataframe tbody tr th:only-of-type {\n",
       "        vertical-align: middle;\n",
       "    }\n",
       "\n",
       "    .dataframe tbody tr th {\n",
       "        vertical-align: top;\n",
       "    }\n",
       "\n",
       "    .dataframe thead th {\n",
       "        text-align: right;\n",
       "    }\n",
       "</style>\n",
       "<table border=\"1\" class=\"dataframe\">\n",
       "  <thead>\n",
       "    <tr style=\"text-align: right;\">\n",
       "      <th></th>\n",
       "      <th>Teams</th>\n",
       "      <th>Wins</th>\n",
       "    </tr>\n",
       "  </thead>\n",
       "  <tbody>\n",
       "    <tr>\n",
       "      <th>0</th>\n",
       "      <td>Mumbai Indians</td>\n",
       "      <td>109</td>\n",
       "    </tr>\n",
       "    <tr>\n",
       "      <th>1</th>\n",
       "      <td>Chennai Super Kings</td>\n",
       "      <td>100</td>\n",
       "    </tr>\n",
       "    <tr>\n",
       "      <th>2</th>\n",
       "      <td>Kolkata Knight Riders</td>\n",
       "      <td>92</td>\n",
       "    </tr>\n",
       "    <tr>\n",
       "      <th>3</th>\n",
       "      <td>Royal Challengers Bangalore</td>\n",
       "      <td>84</td>\n",
       "    </tr>\n",
       "    <tr>\n",
       "      <th>4</th>\n",
       "      <td>Kings XI Punjab</td>\n",
       "      <td>82</td>\n",
       "    </tr>\n",
       "    <tr>\n",
       "      <th>5</th>\n",
       "      <td>Delhi Capitals</td>\n",
       "      <td>77</td>\n",
       "    </tr>\n",
       "    <tr>\n",
       "      <th>6</th>\n",
       "      <td>Rajasthan Royals</td>\n",
       "      <td>75</td>\n",
       "    </tr>\n",
       "    <tr>\n",
       "      <th>7</th>\n",
       "      <td>Sunrisers Hyderabad</td>\n",
       "      <td>58</td>\n",
       "    </tr>\n",
       "    <tr>\n",
       "      <th>8</th>\n",
       "      <td>Deccan Chargers</td>\n",
       "      <td>29</td>\n",
       "    </tr>\n",
       "    <tr>\n",
       "      <th>9</th>\n",
       "      <td>Rising Pune Supergiant</td>\n",
       "      <td>15</td>\n",
       "    </tr>\n",
       "    <tr>\n",
       "      <th>10</th>\n",
       "      <td>Gujarat Lions</td>\n",
       "      <td>13</td>\n",
       "    </tr>\n",
       "    <tr>\n",
       "      <th>11</th>\n",
       "      <td>Pune Warriors</td>\n",
       "      <td>12</td>\n",
       "    </tr>\n",
       "    <tr>\n",
       "      <th>12</th>\n",
       "      <td>Kochi Tuskers Kerala</td>\n",
       "      <td>6</td>\n",
       "    </tr>\n",
       "  </tbody>\n",
       "</table>\n",
       "</div>"
      ],
      "text/plain": [
       "                          Teams  Wins\n",
       "0                Mumbai Indians   109\n",
       "1           Chennai Super Kings   100\n",
       "2         Kolkata Knight Riders    92\n",
       "3   Royal Challengers Bangalore    84\n",
       "4               Kings XI Punjab    82\n",
       "5                Delhi Capitals    77\n",
       "6              Rajasthan Royals    75\n",
       "7           Sunrisers Hyderabad    58\n",
       "8               Deccan Chargers    29\n",
       "9        Rising Pune Supergiant    15\n",
       "10                Gujarat Lions    13\n",
       "11                Pune Warriors    12\n",
       "12         Kochi Tuskers Kerala     6"
      ]
     },
     "execution_count": 45,
     "metadata": {},
     "output_type": "execute_result"
    }
   ],
   "source": [
    "# Using the groupby functionality of pandas, creating a df of wins by each team by grouping on winner column and counting the\n",
    "# id using count aggregate function.\n",
    "\n",
    "wins = matches.groupby('winner')[['id']].count()\n",
    "wins_per_each_team = wins.sort_values(by = 'id', ascending = False).reset_index()\n",
    "wins_per_each_team.columns = [\"Teams\", \"Wins\"]\n",
    "wins_per_each_team"
   ]
  },
  {
   "cell_type": "code",
   "execution_count": 46,
   "metadata": {
    "colab": {
     "base_uri": "https://localhost:8080/",
     "height": 354
    },
    "executionInfo": {
     "elapsed": 439,
     "status": "error",
     "timestamp": 1628011925763,
     "user": {
      "displayName": "Aseem Bathla",
      "photoUrl": "",
      "userId": "03429090169407160342"
     },
     "user_tz": -330
    },
    "id": "x18tp9Qn5hYh",
    "outputId": "56456b92-d718-4f32-fff2-3a135381d63c"
   },
   "outputs": [
    {
     "data": {
      "text/html": [
       "<div>\n",
       "<style scoped>\n",
       "    .dataframe tbody tr th:only-of-type {\n",
       "        vertical-align: middle;\n",
       "    }\n",
       "\n",
       "    .dataframe tbody tr th {\n",
       "        vertical-align: top;\n",
       "    }\n",
       "\n",
       "    .dataframe thead th {\n",
       "        text-align: right;\n",
       "    }\n",
       "</style>\n",
       "<table border=\"1\" class=\"dataframe\">\n",
       "  <thead>\n",
       "    <tr style=\"text-align: right;\">\n",
       "      <th></th>\n",
       "      <th>Teams</th>\n",
       "      <th>Total Matches</th>\n",
       "      <th>Wins</th>\n",
       "      <th>Winning Percentage</th>\n",
       "    </tr>\n",
       "  </thead>\n",
       "  <tbody>\n",
       "    <tr>\n",
       "      <th>0</th>\n",
       "      <td>Mumbai Indians</td>\n",
       "      <td>187</td>\n",
       "      <td>109</td>\n",
       "      <td>58.29</td>\n",
       "    </tr>\n",
       "    <tr>\n",
       "      <th>1</th>\n",
       "      <td>Royal Challengers Bangalore</td>\n",
       "      <td>180</td>\n",
       "      <td>84</td>\n",
       "      <td>46.67</td>\n",
       "    </tr>\n",
       "    <tr>\n",
       "      <th>2</th>\n",
       "      <td>Kolkata Knight Riders</td>\n",
       "      <td>178</td>\n",
       "      <td>92</td>\n",
       "      <td>51.69</td>\n",
       "    </tr>\n",
       "    <tr>\n",
       "      <th>3</th>\n",
       "      <td>Delhi Capitals</td>\n",
       "      <td>177</td>\n",
       "      <td>77</td>\n",
       "      <td>43.50</td>\n",
       "    </tr>\n",
       "    <tr>\n",
       "      <th>4</th>\n",
       "      <td>Kings XI Punjab</td>\n",
       "      <td>176</td>\n",
       "      <td>82</td>\n",
       "      <td>46.59</td>\n",
       "    </tr>\n",
       "    <tr>\n",
       "      <th>5</th>\n",
       "      <td>Chennai Super Kings</td>\n",
       "      <td>164</td>\n",
       "      <td>100</td>\n",
       "      <td>60.98</td>\n",
       "    </tr>\n",
       "    <tr>\n",
       "      <th>6</th>\n",
       "      <td>Rajasthan Royals</td>\n",
       "      <td>147</td>\n",
       "      <td>75</td>\n",
       "      <td>51.02</td>\n",
       "    </tr>\n",
       "    <tr>\n",
       "      <th>7</th>\n",
       "      <td>Sunrisers Hyderabad</td>\n",
       "      <td>108</td>\n",
       "      <td>58</td>\n",
       "      <td>53.70</td>\n",
       "    </tr>\n",
       "    <tr>\n",
       "      <th>8</th>\n",
       "      <td>Deccan Chargers</td>\n",
       "      <td>75</td>\n",
       "      <td>29</td>\n",
       "      <td>38.67</td>\n",
       "    </tr>\n",
       "    <tr>\n",
       "      <th>9</th>\n",
       "      <td>Pune Warriors</td>\n",
       "      <td>46</td>\n",
       "      <td>12</td>\n",
       "      <td>26.09</td>\n",
       "    </tr>\n",
       "    <tr>\n",
       "      <th>10</th>\n",
       "      <td>Gujarat Lions</td>\n",
       "      <td>30</td>\n",
       "      <td>13</td>\n",
       "      <td>43.33</td>\n",
       "    </tr>\n",
       "    <tr>\n",
       "      <th>11</th>\n",
       "      <td>Rising Pune Supergiant</td>\n",
       "      <td>30</td>\n",
       "      <td>15</td>\n",
       "      <td>50.00</td>\n",
       "    </tr>\n",
       "    <tr>\n",
       "      <th>12</th>\n",
       "      <td>Kochi Tuskers Kerala</td>\n",
       "      <td>14</td>\n",
       "      <td>6</td>\n",
       "      <td>42.86</td>\n",
       "    </tr>\n",
       "  </tbody>\n",
       "</table>\n",
       "</div>"
      ],
      "text/plain": [
       "                          Teams  Total Matches  Wins  Winning Percentage\n",
       "0                Mumbai Indians            187   109               58.29\n",
       "1   Royal Challengers Bangalore            180    84               46.67\n",
       "2         Kolkata Knight Riders            178    92               51.69\n",
       "3                Delhi Capitals            177    77               43.50\n",
       "4               Kings XI Punjab            176    82               46.59\n",
       "5           Chennai Super Kings            164   100               60.98\n",
       "6              Rajasthan Royals            147    75               51.02\n",
       "7           Sunrisers Hyderabad            108    58               53.70\n",
       "8               Deccan Chargers             75    29               38.67\n",
       "9                 Pune Warriors             46    12               26.09\n",
       "10                Gujarat Lions             30    13               43.33\n",
       "11       Rising Pune Supergiant             30    15               50.00\n",
       "12         Kochi Tuskers Kerala             14     6               42.86"
      ]
     },
     "execution_count": 46,
     "metadata": {},
     "output_type": "execute_result"
    }
   ],
   "source": [
    "# Merging the total matches and total wins datasets and calculating the winning percentage.\n",
    "\n",
    "matches_and_wins = total_matches_per_team.merge(wins_per_each_team, on = 'Teams')\n",
    "matches_and_wins['Winning Percentage'] = round((matches_and_wins['Wins']/matches_and_wins['Total Matches']) * 100, 2)\n",
    "matches_and_wins"
   ]
  },
  {
   "cell_type": "code",
   "execution_count": 47,
   "metadata": {
    "executionInfo": {
     "elapsed": 32,
     "status": "aborted",
     "timestamp": 1628011925356,
     "user": {
      "displayName": "Aseem Bathla",
      "photoUrl": "",
      "userId": "03429090169407160342"
     },
     "user_tz": -330
    },
    "id": "-3_YbpL75hYh"
   },
   "outputs": [
    {
     "data": {
      "image/png": "[encoded data removed]",
      "text/plain": [
       "<Figure size 864x432 with 1 Axes>"
      ]
     },
     "metadata": {
      "needs_background": "light"
     },
     "output_type": "display_data"
    }
   ],
   "source": [
    "# Visualising tha bove dataframe.\n",
    "\n",
    "plt.xticks(rotation=90)\n",
    "plt.bar(matches_and_wins['Teams'], matches_and_wins['Total Matches'], alpha = 0.8, color = 'white', edgecolor = 'black')\n",
    "plt.bar(matches_and_wins['Teams'], matches_and_wins['Wins'], alpha = 0.8, color = 'cyan', edgecolor = 'black')\n",
    "plt.plot(matches_and_wins.Teams, matches_and_wins['Winning Percentage'], color = 'black', marker = 'o', linewidth = 2, markersize = 8, linestyle = '--')\n",
    "plt.legend(['Winning Percentage','Matches Played','Matches Won']);\n",
    "plt.title('Number Of Matches Played VS Number Of Matches Won',fontweight = 'bold', pad = 15, fontsize = 20)\n",
    "plt.xlabel('Teams', labelpad = -25, fontweight='bold', fontsize = 15)\n",
    "plt.ylabel('Matches Played, Won & Winning %age', labelpad = 20, fontweight='bold', fontsize = 15);"
   ]
  },
  {
   "cell_type": "markdown",
   "metadata": {
    "id": "MzKQE4wf5hYh"
   },
   "source": [
    "`Mumbai Indians` have the best winning percentage which is `58.29%`."
   ]
  },
  {
   "cell_type": "markdown",
   "metadata": {
    "id": "93ZumSrb5hYh"
   },
   "source": [
    "### Matches Won By The Home Team & The Away Team"
   ]
  },
  {
   "cell_type": "markdown",
   "metadata": {
    "id": "BZD-5t1x5hYi"
   },
   "source": [
    "Home team is a team which plays the match in its own city and away team is the team it plays against."
   ]
  },
  {
   "cell_type": "code",
   "execution_count": 48,
   "metadata": {
    "executionInfo": {
     "elapsed": 32,
     "status": "aborted",
     "timestamp": 1628011925357,
     "user": {
      "displayName": "Aseem Bathla",
      "photoUrl": "",
      "userId": "03429090169407160342"
     },
     "user_tz": -330
    },
    "id": "BFyR0jf95hYi"
   },
   "outputs": [],
   "source": [
    "# Creating an empty dictionary, the idea is to map each team with its city.\n",
    "\n",
    "dictionary = {}"
   ]
  },
  {
   "cell_type": "code",
   "execution_count": 49,
   "metadata": {
    "executionInfo": {
     "elapsed": 32,
     "status": "aborted",
     "timestamp": 1628011925357,
     "user": {
      "displayName": "Aseem Bathla",
      "photoUrl": "",
      "userId": "03429090169407160342"
     },
     "user_tz": -330
    },
    "id": "j6N5NFbc5hYi"
   },
   "outputs": [],
   "source": [
    "# Putting Teams as keys in the dictionary and None as values.\n",
    "\n",
    "for i in matches_and_wins.Teams:\n",
    "    if i in dictionary:\n",
    "        pass\n",
    "    else:\n",
    "        dictionary[i] = None"
   ]
  },
  {
   "cell_type": "code",
   "execution_count": 50,
   "metadata": {
    "executionInfo": {
     "elapsed": 33,
     "status": "aborted",
     "timestamp": 1628011925358,
     "user": {
      "displayName": "Aseem Bathla",
      "photoUrl": "",
      "userId": "03429090169407160342"
     },
     "user_tz": -330
    },
    "id": "bI1G9nnq5hYi"
   },
   "outputs": [
    {
     "data": {
      "text/plain": [
       "{'Mumbai Indians': None,\n",
       " 'Royal Challengers Bangalore': None,\n",
       " 'Kolkata Knight Riders': None,\n",
       " 'Delhi Capitals': None,\n",
       " 'Kings XI Punjab': None,\n",
       " 'Chennai Super Kings': None,\n",
       " 'Rajasthan Royals': None,\n",
       " 'Sunrisers Hyderabad': None,\n",
       " 'Deccan Chargers': None,\n",
       " 'Pune Warriors': None,\n",
       " 'Gujarat Lions': None,\n",
       " 'Rising Pune Supergiant': None,\n",
       " 'Kochi Tuskers Kerala': None}"
      ]
     },
     "execution_count": 50,
     "metadata": {},
     "output_type": "execute_result"
    }
   ],
   "source": [
    "dictionary"
   ]
  },
  {
   "cell_type": "code",
   "execution_count": 51,
   "metadata": {
    "executionInfo": {
     "elapsed": 33,
     "status": "aborted",
     "timestamp": 1628011925358,
     "user": {
      "displayName": "Aseem Bathla",
      "photoUrl": "",
      "userId": "03429090169407160342"
     },
     "user_tz": -330
    },
    "id": "iDiFgOnn5hYi"
   },
   "outputs": [],
   "source": [
    "# Creating a list of (home) cities in the order of the keys of dictionary.\n",
    "\n",
    "cities = ['Mumbai', 'Bengaluru', 'Kolkata', 'Delhi', 'Mohali', 'Chennai', 'Jaipur', 'Hyderabad', 'Hyderabad', 'Pune', 'Rajkot', 'Pune', 'Kochi']"
   ]
  },
  {
   "cell_type": "code",
   "execution_count": 52,
   "metadata": {
    "code_folding": [],
    "executionInfo": {
     "elapsed": 33,
     "status": "aborted",
     "timestamp": 1628011925358,
     "user": {
      "displayName": "Aseem Bathla",
      "photoUrl": "",
      "userId": "03429090169407160342"
     },
     "user_tz": -330
    },
    "id": "5813805f5hYj"
   },
   "outputs": [],
   "source": [
    "# Making cities as the values of the keys in the dictionary.\n",
    "\n",
    "j = 0\n",
    "for i in dictionary:\n",
    "    dictionary[i] = cities[j]\n",
    "    j += 1"
   ]
  },
  {
   "cell_type": "code",
   "execution_count": 53,
   "metadata": {
    "executionInfo": {
     "elapsed": 34,
     "status": "aborted",
     "timestamp": 1628011925359,
     "user": {
      "displayName": "Aseem Bathla",
      "photoUrl": "",
      "userId": "03429090169407160342"
     },
     "user_tz": -330
    },
    "id": "AcX5OG_l5hYj"
   },
   "outputs": [
    {
     "data": {
      "text/plain": [
       "{'Mumbai Indians': 'Mumbai',\n",
       " 'Royal Challengers Bangalore': 'Bengaluru',\n",
       " 'Kolkata Knight Riders': 'Kolkata',\n",
       " 'Delhi Capitals': 'Delhi',\n",
       " 'Kings XI Punjab': 'Mohali',\n",
       " 'Chennai Super Kings': 'Chennai',\n",
       " 'Rajasthan Royals': 'Jaipur',\n",
       " 'Sunrisers Hyderabad': 'Hyderabad',\n",
       " 'Deccan Chargers': 'Hyderabad',\n",
       " 'Pune Warriors': 'Pune',\n",
       " 'Gujarat Lions': 'Rajkot',\n",
       " 'Rising Pune Supergiant': 'Pune',\n",
       " 'Kochi Tuskers Kerala': 'Kochi'}"
      ]
     },
     "execution_count": 53,
     "metadata": {},
     "output_type": "execute_result"
    }
   ],
   "source": [
    "# Dictionary with teams as keys and their home cities as values.\n",
    "\n",
    "dictionary"
   ]
  },
  {
   "cell_type": "code",
   "execution_count": 54,
   "metadata": {
    "executionInfo": {
     "elapsed": 33,
     "status": "aborted",
     "timestamp": 1628011925359,
     "user": {
      "displayName": "Aseem Bathla",
      "photoUrl": "",
      "userId": "03429090169407160342"
     },
     "user_tz": -330
    },
    "id": "5idRAhbX5hYj"
   },
   "outputs": [],
   "source": [
    "# Creating a df containing only city, team1 and team2 columns.\n",
    "\n",
    "city_teams_df = matches[['city', 'team1', 'team2']]"
   ]
  },
  {
   "cell_type": "code",
   "execution_count": 55,
   "metadata": {
    "executionInfo": {
     "elapsed": 33,
     "status": "aborted",
     "timestamp": 1628011925359,
     "user": {
      "displayName": "Aseem Bathla",
      "photoUrl": "",
      "userId": "03429090169407160342"
     },
     "user_tz": -330
    },
    "id": "XZcMr7MK5hYj"
   },
   "outputs": [],
   "source": [
    "# Creating a list of home teams, the idea is to create a list consisting of home team in each match and then using it\n",
    "# as a column.\n",
    "\n",
    "home_team = []"
   ]
  },
  {
   "cell_type": "code",
   "execution_count": 56,
   "metadata": {
    "executionInfo": {
     "elapsed": 34,
     "status": "aborted",
     "timestamp": 1628011925360,
     "user": {
      "displayName": "Aseem Bathla",
      "photoUrl": "",
      "userId": "03429090169407160342"
     },
     "user_tz": -330
    },
    "id": "Mm06f9wY5hYj"
   },
   "outputs": [],
   "source": [
    "# Seeing the city in which the match took place, and appending the home team list using keys and values of the dictionary.\n",
    "# If both teams' cities do not match, then it is a neutral venue.\n",
    "\n",
    "for i in range(756):\n",
    "    if dictionary[city_teams_df.team1[i]] == city_teams_df.city[i]:\n",
    "        home_team.append(city_teams_df.team1[i])\n",
    "    elif dictionary[city_teams_df.team2[i]] == city_teams_df.city[i]:\n",
    "         home_team.append(city_teams_df.team2[i])\n",
    "    else:\n",
    "         home_team.append(\"Neutral\")"
   ]
  },
  {
   "cell_type": "code",
   "execution_count": 57,
   "metadata": {
    "executionInfo": {
     "elapsed": 34,
     "status": "aborted",
     "timestamp": 1628011925360,
     "user": {
      "displayName": "Aseem Bathla",
      "photoUrl": "",
      "userId": "03429090169407160342"
     },
     "user_tz": -330
    },
    "id": "0Pqe2dcO5hYk"
   },
   "outputs": [],
   "source": [
    "# Making the home team list as a column of the dataset.\n",
    "\n",
    "matches['home_team'] = home_team"
   ]
  },
  {
   "cell_type": "code",
   "execution_count": 58,
   "metadata": {
    "executionInfo": {
     "elapsed": 35,
     "status": "aborted",
     "timestamp": 1628011925360,
     "user": {
      "displayName": "Aseem Bathla",
      "photoUrl": "",
      "userId": "03429090169407160342"
     },
     "user_tz": -330
    },
    "id": "J7fGcpw75hYk"
   },
   "outputs": [],
   "source": [
    "# Creating a list of away teams, the idea is to create a list consisting of away team in each match and then using it\n",
    "# as a column.\n",
    "\n",
    "\n",
    "away_team = []\n",
    "\n",
    "# Seeing the city in which the match took place, and appending the away team list using keys and values of the dictionary. \n",
    "# If both teams' cities do not match, then it is a neutral venue.\n",
    "\n",
    "for i in range(756):\n",
    "    if matches.home_team[i] == matches.team1[i]:\n",
    "        away_team.append(matches.team2[i])\n",
    "    elif matches.home_team[i] == matches.team2[i]:\n",
    "        away_team.append(matches.team1[i])\n",
    "    else:\n",
    "        away_team.append(matches.home_team[i])"
   ]
  },
  {
   "cell_type": "code",
   "execution_count": 59,
   "metadata": {
    "executionInfo": {
     "elapsed": 35,
     "status": "aborted",
     "timestamp": 1628011925361,
     "user": {
      "displayName": "Aseem Bathla",
      "photoUrl": "",
      "userId": "03429090169407160342"
     },
     "user_tz": -330
    },
    "id": "roBml0Fr5hYk"
   },
   "outputs": [
    {
     "data": {
      "text/plain": [
       "237"
      ]
     },
     "execution_count": 59,
     "metadata": {},
     "output_type": "execute_result"
    }
   ],
   "source": [
    "# Checking total neutral matches\n",
    "\n",
    "len(matches[matches.home_team == 'Neutral'])"
   ]
  },
  {
   "cell_type": "code",
   "execution_count": 60,
   "metadata": {
    "executionInfo": {
     "elapsed": 35,
     "status": "aborted",
     "timestamp": 1628011925361,
     "user": {
      "displayName": "Aseem Bathla",
      "photoUrl": "",
      "userId": "03429090169407160342"
     },
     "user_tz": -330
    },
    "id": "hh0xgHUO5hYk"
   },
   "outputs": [],
   "source": [
    "# Making the away team list as a column of the dataset.\n",
    "\n",
    "matches['away_team'] = away_team"
   ]
  },
  {
   "cell_type": "code",
   "execution_count": 61,
   "metadata": {
    "executionInfo": {
     "elapsed": 35,
     "status": "aborted",
     "timestamp": 1628011925362,
     "user": {
      "displayName": "Aseem Bathla",
      "photoUrl": "",
      "userId": "03429090169407160342"
     },
     "user_tz": -330
    },
    "id": "KyYAo1Rx5hYk"
   },
   "outputs": [
    {
     "data": {
      "text/html": [
       "<div>\n",
       "<style scoped>\n",
       "    .dataframe tbody tr th:only-of-type {\n",
       "        vertical-align: middle;\n",
       "    }\n",
       "\n",
       "    .dataframe tbody tr th {\n",
       "        vertical-align: top;\n",
       "    }\n",
       "\n",
       "    .dataframe thead th {\n",
       "        text-align: right;\n",
       "    }\n",
       "</style>\n",
       "<table border=\"1\" class=\"dataframe\">\n",
       "  <thead>\n",
       "    <tr style=\"text-align: right;\">\n",
       "      <th></th>\n",
       "      <th>id</th>\n",
       "      <th>season</th>\n",
       "      <th>city</th>\n",
       "      <th>date</th>\n",
       "      <th>team1</th>\n",
       "      <th>team2</th>\n",
       "      <th>toss_winner</th>\n",
       "      <th>toss_decision</th>\n",
       "      <th>result</th>\n",
       "      <th>dl_applied</th>\n",
       "      <th>...</th>\n",
       "      <th>win_by_runs</th>\n",
       "      <th>win_by_wickets</th>\n",
       "      <th>player_of_match</th>\n",
       "      <th>venue</th>\n",
       "      <th>umpire1</th>\n",
       "      <th>umpire2</th>\n",
       "      <th>umpire3</th>\n",
       "      <th>loser</th>\n",
       "      <th>home_team</th>\n",
       "      <th>away_team</th>\n",
       "    </tr>\n",
       "  </thead>\n",
       "  <tbody>\n",
       "    <tr>\n",
       "      <th>300</th>\n",
       "      <td>301</td>\n",
       "      <td>2011</td>\n",
       "      <td>Delhi</td>\n",
       "      <td>2011-05-21</td>\n",
       "      <td>Delhi Capitals</td>\n",
       "      <td>Pune Warriors</td>\n",
       "      <td>Delhi Daredevils</td>\n",
       "      <td>bat</td>\n",
       "      <td>no result</td>\n",
       "      <td>0</td>\n",
       "      <td>...</td>\n",
       "      <td>0</td>\n",
       "      <td>0</td>\n",
       "      <td>NaN</td>\n",
       "      <td>Feroz Shah Kotla</td>\n",
       "      <td>SS Hazare</td>\n",
       "      <td>RJ Tucker</td>\n",
       "      <td>NaN</td>\n",
       "      <td>NaN</td>\n",
       "      <td>Delhi Capitals</td>\n",
       "      <td>Pune Warriors</td>\n",
       "    </tr>\n",
       "    <tr>\n",
       "      <th>545</th>\n",
       "      <td>546</td>\n",
       "      <td>2015</td>\n",
       "      <td>Bengaluru</td>\n",
       "      <td>2015-04-29</td>\n",
       "      <td>Royal Challengers Bangalore</td>\n",
       "      <td>Rajasthan Royals</td>\n",
       "      <td>Rajasthan Royals</td>\n",
       "      <td>field</td>\n",
       "      <td>no result</td>\n",
       "      <td>0</td>\n",
       "      <td>...</td>\n",
       "      <td>0</td>\n",
       "      <td>0</td>\n",
       "      <td>NaN</td>\n",
       "      <td>M Chinnaswamy Stadium</td>\n",
       "      <td>JD Cloete</td>\n",
       "      <td>PG Pathak</td>\n",
       "      <td>NaN</td>\n",
       "      <td>NaN</td>\n",
       "      <td>Royal Challengers Bangalore</td>\n",
       "      <td>Rajasthan Royals</td>\n",
       "    </tr>\n",
       "    <tr>\n",
       "      <th>570</th>\n",
       "      <td>571</td>\n",
       "      <td>2015</td>\n",
       "      <td>Bengaluru</td>\n",
       "      <td>2015-05-17</td>\n",
       "      <td>Delhi Capitals</td>\n",
       "      <td>Royal Challengers Bangalore</td>\n",
       "      <td>Royal Challengers Bangalore</td>\n",
       "      <td>field</td>\n",
       "      <td>no result</td>\n",
       "      <td>0</td>\n",
       "      <td>...</td>\n",
       "      <td>0</td>\n",
       "      <td>0</td>\n",
       "      <td>NaN</td>\n",
       "      <td>M Chinnaswamy Stadium</td>\n",
       "      <td>HDPK Dharmasena</td>\n",
       "      <td>K Srinivasan</td>\n",
       "      <td>NaN</td>\n",
       "      <td>NaN</td>\n",
       "      <td>Royal Challengers Bangalore</td>\n",
       "      <td>Delhi Capitals</td>\n",
       "    </tr>\n",
       "    <tr>\n",
       "      <th>744</th>\n",
       "      <td>11340</td>\n",
       "      <td>2019</td>\n",
       "      <td>Bengaluru</td>\n",
       "      <td>2019-04-30</td>\n",
       "      <td>Royal Challengers Bangalore</td>\n",
       "      <td>Rajasthan Royals</td>\n",
       "      <td>Rajasthan Royals</td>\n",
       "      <td>field</td>\n",
       "      <td>no result</td>\n",
       "      <td>0</td>\n",
       "      <td>...</td>\n",
       "      <td>0</td>\n",
       "      <td>0</td>\n",
       "      <td>NaN</td>\n",
       "      <td>M. Chinnaswamy Stadium</td>\n",
       "      <td>Nigel Llong</td>\n",
       "      <td>Ulhas Gandhe</td>\n",
       "      <td>Anil Chaudhary</td>\n",
       "      <td>NaN</td>\n",
       "      <td>Royal Challengers Bangalore</td>\n",
       "      <td>Rajasthan Royals</td>\n",
       "    </tr>\n",
       "  </tbody>\n",
       "</table>\n",
       "<p>4 rows × 21 columns</p>\n",
       "</div>"
      ],
      "text/plain": [
       "        id  season       city       date                        team1  \\\n",
       "300    301    2011      Delhi 2011-05-21               Delhi Capitals   \n",
       "545    546    2015  Bengaluru 2015-04-29  Royal Challengers Bangalore   \n",
       "570    571    2015  Bengaluru 2015-05-17               Delhi Capitals   \n",
       "744  11340    2019  Bengaluru 2019-04-30  Royal Challengers Bangalore   \n",
       "\n",
       "                           team2                  toss_winner toss_decision  \\\n",
       "300                Pune Warriors             Delhi Daredevils           bat   \n",
       "545             Rajasthan Royals             Rajasthan Royals         field   \n",
       "570  Royal Challengers Bangalore  Royal Challengers Bangalore         field   \n",
       "744             Rajasthan Royals             Rajasthan Royals         field   \n",
       "\n",
       "        result  dl_applied  ... win_by_runs  win_by_wickets  player_of_match  \\\n",
       "300  no result           0  ...           0               0              NaN   \n",
       "545  no result           0  ...           0               0              NaN   \n",
       "570  no result           0  ...           0               0              NaN   \n",
       "744  no result           0  ...           0               0              NaN   \n",
       "\n",
       "                      venue          umpire1       umpire2         umpire3  \\\n",
       "300        Feroz Shah Kotla        SS Hazare     RJ Tucker             NaN   \n",
       "545   M Chinnaswamy Stadium        JD Cloete     PG Pathak             NaN   \n",
       "570   M Chinnaswamy Stadium  HDPK Dharmasena  K Srinivasan             NaN   \n",
       "744  M. Chinnaswamy Stadium      Nigel Llong  Ulhas Gandhe  Anil Chaudhary   \n",
       "\n",
       "    loser                    home_team         away_team  \n",
       "300   NaN               Delhi Capitals     Pune Warriors  \n",
       "545   NaN  Royal Challengers Bangalore  Rajasthan Royals  \n",
       "570   NaN  Royal Challengers Bangalore    Delhi Capitals  \n",
       "744   NaN  Royal Challengers Bangalore  Rajasthan Royals  \n",
       "\n",
       "[4 rows x 21 columns]"
      ]
     },
     "execution_count": 61,
     "metadata": {},
     "output_type": "execute_result"
    }
   ],
   "source": [
    "# Finding out the matches which had no result.\n",
    "\n",
    "matches[matches.result == \"no result\"]"
   ]
  },
  {
   "cell_type": "code",
   "execution_count": 62,
   "metadata": {
    "executionInfo": {
     "elapsed": 35,
     "status": "aborted",
     "timestamp": 1628011925362,
     "user": {
      "displayName": "Aseem Bathla",
      "photoUrl": "",
      "userId": "03429090169407160342"
     },
     "user_tz": -330
    },
    "id": "S8yOsXhB5hYl"
   },
   "outputs": [],
   "source": [
    "# Removing the matches which had \"no result\".\n",
    "\n",
    "matches_with_result = matches[matches.result != 'no result'].reset_index(drop = True)"
   ]
  },
  {
   "cell_type": "code",
   "execution_count": 63,
   "metadata": {
    "executionInfo": {
     "elapsed": 35,
     "status": "aborted",
     "timestamp": 1628011925362,
     "user": {
      "displayName": "Aseem Bathla",
      "photoUrl": "",
      "userId": "03429090169407160342"
     },
     "user_tz": -330
    },
    "id": "tiHMJPu95hYl"
   },
   "outputs": [],
   "source": [
    "# Caculating home team wins and away team wins by comparing the winner column with the home team column and away team column.\n",
    "\n",
    "home_team_wins = 0\n",
    "away_team_wins = 0\n",
    "neutral_matches= 0\n",
    "\n",
    "for i in range(752):\n",
    "    if matches_with_result.winner[i] == matches_with_result.home_team[i]:\n",
    "        home_team_wins += 1 \n",
    "    elif matches_with_result.winner[i] == matches_with_result.away_team[i]:\n",
    "        away_team_wins += 1\n",
    "    elif matches_with_result.home_team[i] == \"Neutral\":\n",
    "        neutral_matches += 1"
   ]
  },
  {
   "cell_type": "code",
   "execution_count": 64,
   "metadata": {
    "executionInfo": {
     "elapsed": 36,
     "status": "aborted",
     "timestamp": 1628011925363,
     "user": {
      "displayName": "Aseem Bathla",
      "photoUrl": "",
      "userId": "03429090169407160342"
     },
     "user_tz": -330
    },
    "id": "bbuc-xCu5hYl"
   },
   "outputs": [
    {
     "data": {
      "text/plain": [
       "293"
      ]
     },
     "execution_count": 64,
     "metadata": {},
     "output_type": "execute_result"
    }
   ],
   "source": [
    "# Number of home team wins.\n",
    "\n",
    "home_team_wins "
   ]
  },
  {
   "cell_type": "code",
   "execution_count": 65,
   "metadata": {
    "executionInfo": {
     "elapsed": 36,
     "status": "aborted",
     "timestamp": 1628011925363,
     "user": {
      "displayName": "Aseem Bathla",
      "photoUrl": "",
      "userId": "03429090169407160342"
     },
     "user_tz": -330
    },
    "id": "ll4YMpF15hYl"
   },
   "outputs": [
    {
     "data": {
      "text/plain": [
       "222"
      ]
     },
     "execution_count": 65,
     "metadata": {},
     "output_type": "execute_result"
    }
   ],
   "source": [
    "# Number of away team wins.\n",
    "\n",
    "\n",
    "away_team_wins "
   ]
  },
  {
   "cell_type": "code",
   "execution_count": 66,
   "metadata": {
    "executionInfo": {
     "elapsed": 36,
     "status": "aborted",
     "timestamp": 1628011925363,
     "user": {
      "displayName": "Aseem Bathla",
      "photoUrl": "",
      "userId": "03429090169407160342"
     },
     "user_tz": -330
    },
    "id": "y__yMOzp5hYl"
   },
   "outputs": [
    {
     "data": {
      "text/plain": [
       "237"
      ]
     },
     "execution_count": 66,
     "metadata": {},
     "output_type": "execute_result"
    }
   ],
   "source": [
    "# Number of neutral matches.\n",
    "\n",
    "neutral_matches"
   ]
  },
  {
   "cell_type": "code",
   "execution_count": 67,
   "metadata": {
    "executionInfo": {
     "elapsed": 37,
     "status": "aborted",
     "timestamp": 1628011925364,
     "user": {
      "displayName": "Aseem Bathla",
      "photoUrl": "",
      "userId": "03429090169407160342"
     },
     "user_tz": -330
    },
    "id": "1ASH28tC5hYm"
   },
   "outputs": [],
   "source": [
    "# Creating a list of team type and results to visualise.\n",
    "\n",
    "team_type = [\"Home Team\", \"Away Team\"]\n",
    "team_type_results = [home_team_wins, away_team_wins]"
   ]
  },
  {
   "cell_type": "code",
   "execution_count": 68,
   "metadata": {
    "executionInfo": {
     "elapsed": 36,
     "status": "aborted",
     "timestamp": 1628011925364,
     "user": {
      "displayName": "Aseem Bathla",
      "photoUrl": "",
      "userId": "03429090169407160342"
     },
     "user_tz": -330
    },
    "id": "8S10yIWO5hYm"
   },
   "outputs": [
    {
     "data": {
      "image/png": "[encoded data removed]",
      "text/plain": [
       "<Figure size 864x432 with 1 Axes>"
      ]
     },
     "metadata": {
      "needs_background": "light"
     },
     "output_type": "display_data"
    }
   ],
   "source": [
    "# Visualising the home team and away team wins.\n",
    "\n",
    "color = ['deepskyblue', 'red']\n",
    "plt.bar(team_type[0], team_type_results[0], color = 'deepskyblue', width = 0.5, edgecolor = 'black', linewidth = 2)\n",
    "plt.bar(team_type[1], team_type_results[1], color = 'red', width = 0.5, edgecolor = 'black', linewidth = 2)\n",
    "plt.title('Home Team Wins VS Away Team Wins', fontweight = 800, fontsize = 20, pad = 20 )\n",
    "plt.xlabel('Team Type ', fontweight = 800, labelpad = 5.5, fontsize = 15)\n",
    "plt.ylabel('Total Wins', fontweight = 800, labelpad = 15.5, fontsize = 15)\n",
    "plt.axis([-1, 2, 0 , 550])\n",
    "plt.legend(['Home Team', 'Away Team']);\n"
   ]
  },
  {
   "cell_type": "markdown",
   "metadata": {
    "id": "jWJWG81h5hYm"
   },
   "source": [
    "As we can see by the visualisation, there is only `slight advantage` to the team playing in front of their home croud and the match can go either way."
   ]
  },
  {
   "cell_type": "markdown",
   "metadata": {
    "id": "pn3j1fvK5hYm"
   },
   "source": [
    "## Deliveries DF Analysis"
   ]
  },
  {
   "cell_type": "markdown",
   "metadata": {
    "id": "QcvCrSzd5hYm"
   },
   "source": [
    "### DIfferent Kinds Of Batsmen Dismissal"
   ]
  },
  {
   "cell_type": "code",
   "execution_count": 69,
   "metadata": {
    "executionInfo": {
     "elapsed": 36,
     "status": "aborted",
     "timestamp": 1628011925364,
     "user": {
      "displayName": "Aseem Bathla",
      "photoUrl": "",
      "userId": "03429090169407160342"
     },
     "user_tz": -330
    },
    "id": "z69Zi-4M5hYm"
   },
   "outputs": [],
   "source": [
    "# Using the group by functionality of pandas to group the dataset based on dismissal kind and aggregating using count.\n",
    "\n",
    "dismissal_kind_df = deliveries_df.groupby('dismissal_kind')[['match_id']].count()"
   ]
  },
  {
   "cell_type": "code",
   "execution_count": 70,
   "metadata": {
    "executionInfo": {
     "elapsed": 37,
     "status": "aborted",
     "timestamp": 1628011925365,
     "user": {
      "displayName": "Aseem Bathla",
      "photoUrl": "",
      "userId": "03429090169407160342"
     },
     "user_tz": -330
    },
    "id": "i4g90A9-5hYn"
   },
   "outputs": [],
   "source": [
    "# Renaming the columns.\n",
    "\n",
    "dismissal_kind_df = dismissal_kind_df.rename(columns = {'dismissal_kind' : 'dismissal_type', 'match_id' : 'count'})"
   ]
  },
  {
   "cell_type": "code",
   "execution_count": 71,
   "metadata": {
    "executionInfo": {
     "elapsed": 37,
     "status": "aborted",
     "timestamp": 1628011925365,
     "user": {
      "displayName": "Aseem Bathla",
      "photoUrl": "",
      "userId": "03429090169407160342"
     },
     "user_tz": -330
    },
    "id": "l7g6gZyW5hYn"
   },
   "outputs": [],
   "source": [
    "# Sorting the values based on the amount of times batsmen have been dismissed in a certain way (descending).\n",
    "\n",
    "dismissal_kind_df = dismissal_kind_df.sort_values(by = 'count', ascending = False).reset_index()"
   ]
  },
  {
   "cell_type": "code",
   "execution_count": 72,
   "metadata": {
    "executionInfo": {
     "elapsed": 37,
     "status": "aborted",
     "timestamp": 1628011925365,
     "user": {
      "displayName": "Aseem Bathla",
      "photoUrl": "",
      "userId": "03429090169407160342"
     },
     "user_tz": -330
    },
    "id": "4mrYJdMF5hYn"
   },
   "outputs": [
    {
     "data": {
      "text/html": [
       "<div>\n",
       "<style scoped>\n",
       "    .dataframe tbody tr th:only-of-type {\n",
       "        vertical-align: middle;\n",
       "    }\n",
       "\n",
       "    .dataframe tbody tr th {\n",
       "        vertical-align: top;\n",
       "    }\n",
       "\n",
       "    .dataframe thead th {\n",
       "        text-align: right;\n",
       "    }\n",
       "</style>\n",
       "<table border=\"1\" class=\"dataframe\">\n",
       "  <thead>\n",
       "    <tr style=\"text-align: right;\">\n",
       "      <th></th>\n",
       "      <th>dismissal_kind</th>\n",
       "      <th>count</th>\n",
       "    </tr>\n",
       "  </thead>\n",
       "  <tbody>\n",
       "    <tr>\n",
       "      <th>0</th>\n",
       "      <td>caught</td>\n",
       "      <td>5348</td>\n",
       "    </tr>\n",
       "    <tr>\n",
       "      <th>1</th>\n",
       "      <td>bowled</td>\n",
       "      <td>1581</td>\n",
       "    </tr>\n",
       "    <tr>\n",
       "      <th>2</th>\n",
       "      <td>run out</td>\n",
       "      <td>852</td>\n",
       "    </tr>\n",
       "    <tr>\n",
       "      <th>3</th>\n",
       "      <td>lbw</td>\n",
       "      <td>540</td>\n",
       "    </tr>\n",
       "    <tr>\n",
       "      <th>4</th>\n",
       "      <td>stumped</td>\n",
       "      <td>278</td>\n",
       "    </tr>\n",
       "    <tr>\n",
       "      <th>5</th>\n",
       "      <td>caught and bowled</td>\n",
       "      <td>211</td>\n",
       "    </tr>\n",
       "    <tr>\n",
       "      <th>6</th>\n",
       "      <td>retired hurt</td>\n",
       "      <td>12</td>\n",
       "    </tr>\n",
       "    <tr>\n",
       "      <th>7</th>\n",
       "      <td>hit wicket</td>\n",
       "      <td>10</td>\n",
       "    </tr>\n",
       "    <tr>\n",
       "      <th>8</th>\n",
       "      <td>obstructing the field</td>\n",
       "      <td>2</td>\n",
       "    </tr>\n",
       "  </tbody>\n",
       "</table>\n",
       "</div>"
      ],
      "text/plain": [
       "          dismissal_kind  count\n",
       "0                 caught   5348\n",
       "1                 bowled   1581\n",
       "2                run out    852\n",
       "3                    lbw    540\n",
       "4                stumped    278\n",
       "5      caught and bowled    211\n",
       "6           retired hurt     12\n",
       "7             hit wicket     10\n",
       "8  obstructing the field      2"
      ]
     },
     "execution_count": 72,
     "metadata": {},
     "output_type": "execute_result"
    }
   ],
   "source": [
    "dismissal_kind_df"
   ]
  },
  {
   "cell_type": "code",
   "execution_count": 73,
   "metadata": {
    "executionInfo": {
     "elapsed": 38,
     "status": "aborted",
     "timestamp": 1628011925366,
     "user": {
      "displayName": "Aseem Bathla",
      "photoUrl": "",
      "userId": "03429090169407160342"
     },
     "user_tz": -330
    },
    "id": "kq9V8CB15hYn"
   },
   "outputs": [],
   "source": [
    "# Since the values of hit wicket, retired hurt,obstructing the field have very less values, so for better interpretation\n",
    "# of the visualisation, i decided to drop them.\n",
    "\n",
    "dismissal_kind_df_sig = dismissal_kind_df.drop([6,7,8])"
   ]
  },
  {
   "cell_type": "code",
   "execution_count": 74,
   "metadata": {
    "executionInfo": {
     "elapsed": 38,
     "status": "aborted",
     "timestamp": 1628011925366,
     "user": {
      "displayName": "Aseem Bathla",
      "photoUrl": "",
      "userId": "03429090169407160342"
     },
     "user_tz": -330
    },
    "id": "C2gKr1NE5hYn"
   },
   "outputs": [
    {
     "data": {
      "image/png": "[encoded data removed]",
      "text/plain": [
       "<Figure size 864x432 with 1 Axes>"
      ]
     },
     "metadata": {},
     "output_type": "display_data"
    }
   ],
   "source": [
    "# Visualising the dataframe.\n",
    "\n",
    "sizes = dismissal_kind_df_sig['count']\n",
    "labels = ['Caught', 'Bowled', 'Run Out', 'LBW', 'Stumped', 'Caught & Bowled']\n",
    "plt.title('Different Ways Of Batsman Dismissal', pad = 80, fontweight='bold', fontsize = 20)\n",
    "plt.axis('equal')\n",
    "patches, texts, pcts  = plt.pie(sizes, labels = labels, autopct = \"%.1f %%\", startangle = 15, counterclock = False, radius = 1.3, \n",
    "         wedgeprops = {'linewidth': 3.0, 'edgecolor': 'black'}, textprops={'fontsize': 13, 'fontweight' : 'bold'});\n",
    "plt.setp(pcts, color='white', fontweight='bold', fontsize = 10, rotation = 20);\n",
    "plt.legend(['Caught', 'Bowled', 'Run Out', 'LBW', 'Stumped', 'Caught & Bowled'], loc = 'upper left');\n"
   ]
  },
  {
   "cell_type": "markdown",
   "metadata": {
    "id": "v2q7aWVf5hYo"
   },
   "source": [
    "As seen by the visualisation, batsmen get `caught` out most often, followed by getting `bowled` and getting dismissed by `leg before wicket`."
   ]
  },
  {
   "cell_type": "markdown",
   "metadata": {
    "id": "hqBmmg-O5hYo"
   },
   "source": [
    "### Most Matches Played By Batsmen & Bowlers"
   ]
  },
  {
   "cell_type": "code",
   "execution_count": 75,
   "metadata": {
    "executionInfo": {
     "elapsed": 37,
     "status": "aborted",
     "timestamp": 1628011925366,
     "user": {
      "displayName": "Aseem Bathla",
      "photoUrl": "",
      "userId": "03429090169407160342"
     },
     "user_tz": -330
    },
    "id": "LEM2-C3D5hYo"
   },
   "outputs": [
    {
     "data": {
      "text/html": [
       "<div>\n",
       "<style scoped>\n",
       "    .dataframe tbody tr th:only-of-type {\n",
       "        vertical-align: middle;\n",
       "    }\n",
       "\n",
       "    .dataframe tbody tr th {\n",
       "        vertical-align: top;\n",
       "    }\n",
       "\n",
       "    .dataframe thead th {\n",
       "        text-align: right;\n",
       "    }\n",
       "</style>\n",
       "<table border=\"1\" class=\"dataframe\">\n",
       "  <thead>\n",
       "    <tr style=\"text-align: right;\">\n",
       "      <th></th>\n",
       "      <th>match_id</th>\n",
       "    </tr>\n",
       "    <tr>\n",
       "      <th>batsman</th>\n",
       "      <th></th>\n",
       "    </tr>\n",
       "  </thead>\n",
       "  <tbody>\n",
       "    <tr>\n",
       "      <th>SK Raina</th>\n",
       "      <td>189</td>\n",
       "    </tr>\n",
       "    <tr>\n",
       "      <th>RG Sharma</th>\n",
       "      <td>182</td>\n",
       "    </tr>\n",
       "    <tr>\n",
       "      <th>RV Uthappa</th>\n",
       "      <td>170</td>\n",
       "    </tr>\n",
       "    <tr>\n",
       "      <th>MS Dhoni</th>\n",
       "      <td>170</td>\n",
       "    </tr>\n",
       "    <tr>\n",
       "      <th>V Kohli</th>\n",
       "      <td>169</td>\n",
       "    </tr>\n",
       "    <tr>\n",
       "      <th>KD Karthik</th>\n",
       "      <td>162</td>\n",
       "    </tr>\n",
       "    <tr>\n",
       "      <th>S Dhawan</th>\n",
       "      <td>158</td>\n",
       "    </tr>\n",
       "    <tr>\n",
       "      <th>YK Pathan</th>\n",
       "      <td>153</td>\n",
       "    </tr>\n",
       "    <tr>\n",
       "      <th>G Gambhir</th>\n",
       "      <td>151</td>\n",
       "    </tr>\n",
       "    <tr>\n",
       "      <th>AB de Villiers</th>\n",
       "      <td>142</td>\n",
       "    </tr>\n",
       "    <tr>\n",
       "      <th>AT Rayudu</th>\n",
       "      <td>138</td>\n",
       "    </tr>\n",
       "    <tr>\n",
       "      <th>PA Patel</th>\n",
       "      <td>136</td>\n",
       "    </tr>\n",
       "    <tr>\n",
       "      <th>KA Pollard</th>\n",
       "      <td>132</td>\n",
       "    </tr>\n",
       "    <tr>\n",
       "      <th>AM Rahane</th>\n",
       "      <td>132</td>\n",
       "    </tr>\n",
       "    <tr>\n",
       "      <th>SR Watson</th>\n",
       "      <td>130</td>\n",
       "    </tr>\n",
       "  </tbody>\n",
       "</table>\n",
       "</div>"
      ],
      "text/plain": [
       "                match_id\n",
       "batsman                 \n",
       "SK Raina             189\n",
       "RG Sharma            182\n",
       "RV Uthappa           170\n",
       "MS Dhoni             170\n",
       "V Kohli              169\n",
       "KD Karthik           162\n",
       "S Dhawan             158\n",
       "YK Pathan            153\n",
       "G Gambhir            151\n",
       "AB de Villiers       142\n",
       "AT Rayudu            138\n",
       "PA Patel             136\n",
       "KA Pollard           132\n",
       "AM Rahane            132\n",
       "SR Watson            130"
      ]
     },
     "execution_count": 75,
     "metadata": {},
     "output_type": "execute_result"
    }
   ],
   "source": [
    "# Here we use the group by functionality of Pandas to group the dataset by batsmen, and then aggregate matchid column by using\n",
    "# lambda and creating a set (of match ids)  and then sorting it based on the length of set (descending).\n",
    "\n",
    "most_match_bats = deliveries_df.groupby(['batsman']).agg({'match_id': lambda x:len(set(x))}).sort_values(ascending = False, by = 'match_id')\n",
    "most_match_bats[:15]"
   ]
  },
  {
   "cell_type": "code",
   "execution_count": 76,
   "metadata": {
    "executionInfo": {
     "elapsed": 38,
     "status": "aborted",
     "timestamp": 1628011925367,
     "user": {
      "displayName": "Aseem Bathla",
      "photoUrl": "",
      "userId": "03429090169407160342"
     },
     "user_tz": -330
    },
    "id": "xzNdFqEk5hYo"
   },
   "outputs": [
    {
     "data": {
      "text/html": [
       "<div>\n",
       "<style scoped>\n",
       "    .dataframe tbody tr th:only-of-type {\n",
       "        vertical-align: middle;\n",
       "    }\n",
       "\n",
       "    .dataframe tbody tr th {\n",
       "        vertical-align: top;\n",
       "    }\n",
       "\n",
       "    .dataframe thead th {\n",
       "        text-align: right;\n",
       "    }\n",
       "</style>\n",
       "<table border=\"1\" class=\"dataframe\">\n",
       "  <thead>\n",
       "    <tr style=\"text-align: right;\">\n",
       "      <th></th>\n",
       "      <th>match_id</th>\n",
       "    </tr>\n",
       "    <tr>\n",
       "      <th>bowler</th>\n",
       "      <th></th>\n",
       "    </tr>\n",
       "  </thead>\n",
       "  <tbody>\n",
       "    <tr>\n",
       "      <th>Harbhajan Singh</th>\n",
       "      <td>157</td>\n",
       "    </tr>\n",
       "    <tr>\n",
       "      <th>PP Chawla</th>\n",
       "      <td>156</td>\n",
       "    </tr>\n",
       "    <tr>\n",
       "      <th>A Mishra</th>\n",
       "      <td>147</td>\n",
       "    </tr>\n",
       "    <tr>\n",
       "      <th>RA Jadeja</th>\n",
       "      <td>142</td>\n",
       "    </tr>\n",
       "    <tr>\n",
       "      <th>R Ashwin</th>\n",
       "      <td>136</td>\n",
       "    </tr>\n",
       "    <tr>\n",
       "      <th>DJ Bravo</th>\n",
       "      <td>131</td>\n",
       "    </tr>\n",
       "    <tr>\n",
       "      <th>SL Malinga</th>\n",
       "      <td>122</td>\n",
       "    </tr>\n",
       "    <tr>\n",
       "      <th>P Kumar</th>\n",
       "      <td>119</td>\n",
       "    </tr>\n",
       "    <tr>\n",
       "      <th>UT Yadav</th>\n",
       "      <td>118</td>\n",
       "    </tr>\n",
       "    <tr>\n",
       "      <th>B Kumar</th>\n",
       "      <td>117</td>\n",
       "    </tr>\n",
       "    <tr>\n",
       "      <th>SP Narine</th>\n",
       "      <td>109</td>\n",
       "    </tr>\n",
       "    <tr>\n",
       "      <th>SR Watson</th>\n",
       "      <td>105</td>\n",
       "    </tr>\n",
       "    <tr>\n",
       "      <th>R Vinay Kumar</th>\n",
       "      <td>104</td>\n",
       "    </tr>\n",
       "    <tr>\n",
       "      <th>IK Pathan</th>\n",
       "      <td>101</td>\n",
       "    </tr>\n",
       "    <tr>\n",
       "      <th>Z Khan</th>\n",
       "      <td>99</td>\n",
       "    </tr>\n",
       "  </tbody>\n",
       "</table>\n",
       "</div>"
      ],
      "text/plain": [
       "                 match_id\n",
       "bowler                   \n",
       "Harbhajan Singh       157\n",
       "PP Chawla             156\n",
       "A Mishra              147\n",
       "RA Jadeja             142\n",
       "R Ashwin              136\n",
       "DJ Bravo              131\n",
       "SL Malinga            122\n",
       "P Kumar               119\n",
       "UT Yadav              118\n",
       "B Kumar               117\n",
       "SP Narine             109\n",
       "SR Watson             105\n",
       "R Vinay Kumar         104\n",
       "IK Pathan             101\n",
       "Z Khan                 99"
      ]
     },
     "execution_count": 76,
     "metadata": {},
     "output_type": "execute_result"
    }
   ],
   "source": [
    "# Here we use the group by functionality of Pandas to group the dataset by bowlers, and then aggregate matchid column by using\n",
    "# lambda and creating a set (of match ids)  and then sorting it based on the length of set (descending).\n",
    "\n",
    "most_match_bowlers = deliveries_df.groupby(['bowler']).agg({'match_id': lambda x: len(set(x))}).sort_values(ascending = False, by = 'match_id')\n",
    "most_match_bowlers[:15]"
   ]
  },
  {
   "cell_type": "markdown",
   "metadata": {
    "id": "6vX64Und5hYo"
   },
   "source": [
    "### Most 6s &  4s Hit By Batsmen"
   ]
  },
  {
   "cell_type": "code",
   "execution_count": 77,
   "metadata": {
    "executionInfo": {
     "elapsed": 38,
     "status": "aborted",
     "timestamp": 1628011925367,
     "user": {
      "displayName": "Aseem Bathla",
      "photoUrl": "",
      "userId": "03429090169407160342"
     },
     "user_tz": -330
    },
    "id": "fxEQAh635hYp"
   },
   "outputs": [
    {
     "data": {
      "text/plain": [
       "CH Gayle          327\n",
       "AB de Villiers    214\n",
       "MS Dhoni          207\n",
       "SK Raina          195\n",
       "RG Sharma         194\n",
       "V Kohli           191\n",
       "DA Warner         181\n",
       "SR Watson         177\n",
       "KA Pollard        175\n",
       "YK Pathan         161\n",
       "RV Uthappa        156\n",
       "Yuvraj Singh      149\n",
       "BB McCullum       129\n",
       "AT Rayudu         120\n",
       "AD Russell        119\n",
       "Name: batsman, dtype: int64"
      ]
     },
     "execution_count": 77,
     "metadata": {},
     "output_type": "execute_result"
    }
   ],
   "source": [
    "# Using the value_counts functionality of pandas to count the batsmen who hit most sixes.\n",
    "\n",
    "big_hitters = deliveries_df.batsman[deliveries_df.batsman_runs == 6].value_counts()[:15]\n",
    "big_hitters"
   ]
  },
  {
   "cell_type": "code",
   "execution_count": 78,
   "metadata": {
    "executionInfo": {
     "elapsed": 38,
     "status": "aborted",
     "timestamp": 1628011925367,
     "user": {
      "displayName": "Aseem Bathla",
      "photoUrl": "",
      "userId": "03429090169407160342"
     },
     "user_tz": -330
    },
    "id": "ndpdmlNn5hYp"
   },
   "outputs": [
    {
     "data": {
      "image/png": "[encoded data removed]",
      "text/plain": [
       "<Figure size 864x432 with 1 Axes>"
      ]
     },
     "metadata": {
      "needs_background": "light"
     },
     "output_type": "display_data"
    }
   ],
   "source": [
    "# visualising the result.\n",
    "\n",
    "colors = ['darkred', 'firebrick', 'indianred', 'lightcoral', 'rosybrown', 'darkcyan', 'cyan', 'paleturquoise', 'lightcyan', 'azure', 'darkolivegreen', 'limegreen', 'lawngreen', 'lightgreen', 'mediumspringgreen']\n",
    "plt.bar(big_hitters.index,big_hitters.values, color = colors, edgecolor = 'black')\n",
    "plt.xticks(rotation = 60)\n",
    "plt.title('Batsmen Who Hit The Most 6s', pad = 20, fontweight='bold', fontsize = 20)\n",
    "plt.xlabel('Batsmen', labelpad = 10, fontweight='bold', fontsize = 15)\n",
    "plt.ylabel('Number Of Sixes Hit', labelpad = 20, fontweight='bold', fontsize = 15);"
   ]
  },
  {
   "cell_type": "code",
   "execution_count": 79,
   "metadata": {
    "executionInfo": {
     "elapsed": 39,
     "status": "aborted",
     "timestamp": 1628011925368,
     "user": {
      "displayName": "Aseem Bathla",
      "photoUrl": "",
      "userId": "03429090169407160342"
     },
     "user_tz": -330
    },
    "id": "MICUuS9Z5hYp"
   },
   "outputs": [
    {
     "data": {
      "text/plain": [
       "S Dhawan          526\n",
       "SK Raina          495\n",
       "G Gambhir         492\n",
       "V Kohli           482\n",
       "DA Warner         459\n",
       "RV Uthappa        436\n",
       "RG Sharma         431\n",
       "AM Rahane         405\n",
       "CH Gayle          376\n",
       "PA Patel          366\n",
       "KD Karthik        358\n",
       "AB de Villiers    357\n",
       "SR Watson         344\n",
       "V Sehwag          334\n",
       "MS Dhoni          297\n",
       "Name: batsman, dtype: int64"
      ]
     },
     "execution_count": 79,
     "metadata": {},
     "output_type": "execute_result"
    }
   ],
   "source": [
    "# Using the value_counts functionality of pandas to count the batsmen who hit most sixes.\n",
    "\n",
    "gap_finders = deliveries_df.batsman[deliveries_df.batsman_runs == 4].value_counts()[:15]\n",
    "gap_finders"
   ]
  },
  {
   "cell_type": "code",
   "execution_count": 80,
   "metadata": {
    "executionInfo": {
     "elapsed": 39,
     "status": "aborted",
     "timestamp": 1628011925368,
     "user": {
      "displayName": "Aseem Bathla",
      "photoUrl": "",
      "userId": "03429090169407160342"
     },
     "user_tz": -330
    },
    "id": "G2Abp5dU5hYp"
   },
   "outputs": [
    {
     "data": {
      "image/png": "[encoded data removed]",
      "text/plain": [
       "<Figure size 864x432 with 1 Axes>"
      ]
     },
     "metadata": {
      "needs_background": "light"
     },
     "output_type": "display_data"
    }
   ],
   "source": [
    "# Using the value_counts functionality of pandas to count the batsmen who hit most fours.\n",
    "\n",
    "plt.bar(gap_finders.index,gap_finders.values, color = colors, edgecolor = 'black')\n",
    "plt.xticks(rotation = 60)\n",
    "plt.title('Batsmen Who Hit The Most 4s', pad = 20, fontweight='bold', fontsize = 20)\n",
    "plt.xlabel('Batsmen', labelpad = 10, fontweight='bold', fontsize = 15)\n",
    "plt.ylabel('Number Of Fours Hit', labelpad = 20, fontweight='bold', fontsize = 15);"
   ]
  },
  {
   "cell_type": "markdown",
   "metadata": {
    "id": "IMgLPc5z5hYq"
   },
   "source": [
    "`Raina`, `Warner`, `Kohli`, `Uthappa`, `R Sharma`, `Gayle` being in top 10 of both the lists makes them the most boundary hitting and dangerous batsmen,"
   ]
  },
  {
   "cell_type": "markdown",
   "metadata": {
    "id": "ITiAdYcX5hYq"
   },
   "source": [
    "### Most Wickets Taking Bowlers"
   ]
  },
  {
   "cell_type": "code",
   "execution_count": 81,
   "metadata": {
    "executionInfo": {
     "elapsed": 40,
     "status": "aborted",
     "timestamp": 1628011925369,
     "user": {
      "displayName": "Aseem Bathla",
      "photoUrl": "",
      "userId": "03429090169407160342"
     },
     "user_tz": -330
    },
    "id": "mw7AItyW5hYq"
   },
   "outputs": [
    {
     "data": {
      "text/html": [
       "<div>\n",
       "<style scoped>\n",
       "    .dataframe tbody tr th:only-of-type {\n",
       "        vertical-align: middle;\n",
       "    }\n",
       "\n",
       "    .dataframe tbody tr th {\n",
       "        vertical-align: top;\n",
       "    }\n",
       "\n",
       "    .dataframe thead th {\n",
       "        text-align: right;\n",
       "    }\n",
       "</style>\n",
       "<table border=\"1\" class=\"dataframe\">\n",
       "  <thead>\n",
       "    <tr style=\"text-align: right;\">\n",
       "      <th></th>\n",
       "      <th>match_id</th>\n",
       "      <th>inning</th>\n",
       "      <th>batting_team</th>\n",
       "      <th>bowling_team</th>\n",
       "      <th>over</th>\n",
       "      <th>ball</th>\n",
       "      <th>batsman</th>\n",
       "      <th>non_striker</th>\n",
       "      <th>bowler</th>\n",
       "      <th>is_super_over</th>\n",
       "      <th>...</th>\n",
       "      <th>bye_runs</th>\n",
       "      <th>legbye_runs</th>\n",
       "      <th>noball_runs</th>\n",
       "      <th>penalty_runs</th>\n",
       "      <th>batsman_runs</th>\n",
       "      <th>extra_runs</th>\n",
       "      <th>total_runs</th>\n",
       "      <th>player_dismissed</th>\n",
       "      <th>dismissal_kind</th>\n",
       "      <th>fielder</th>\n",
       "    </tr>\n",
       "  </thead>\n",
       "  <tbody>\n",
       "    <tr>\n",
       "      <th>0</th>\n",
       "      <td>1</td>\n",
       "      <td>1</td>\n",
       "      <td>Sunrisers Hyderabad</td>\n",
       "      <td>Royal Challengers Bangalore</td>\n",
       "      <td>1</td>\n",
       "      <td>1</td>\n",
       "      <td>DA Warner</td>\n",
       "      <td>S Dhawan</td>\n",
       "      <td>TS Mills</td>\n",
       "      <td>0</td>\n",
       "      <td>...</td>\n",
       "      <td>0</td>\n",
       "      <td>0</td>\n",
       "      <td>0</td>\n",
       "      <td>0</td>\n",
       "      <td>0</td>\n",
       "      <td>0</td>\n",
       "      <td>0</td>\n",
       "      <td>NaN</td>\n",
       "      <td>NaN</td>\n",
       "      <td>NaN</td>\n",
       "    </tr>\n",
       "    <tr>\n",
       "      <th>1</th>\n",
       "      <td>1</td>\n",
       "      <td>1</td>\n",
       "      <td>Sunrisers Hyderabad</td>\n",
       "      <td>Royal Challengers Bangalore</td>\n",
       "      <td>1</td>\n",
       "      <td>2</td>\n",
       "      <td>DA Warner</td>\n",
       "      <td>S Dhawan</td>\n",
       "      <td>TS Mills</td>\n",
       "      <td>0</td>\n",
       "      <td>...</td>\n",
       "      <td>0</td>\n",
       "      <td>0</td>\n",
       "      <td>0</td>\n",
       "      <td>0</td>\n",
       "      <td>0</td>\n",
       "      <td>0</td>\n",
       "      <td>0</td>\n",
       "      <td>NaN</td>\n",
       "      <td>NaN</td>\n",
       "      <td>NaN</td>\n",
       "    </tr>\n",
       "    <tr>\n",
       "      <th>2</th>\n",
       "      <td>1</td>\n",
       "      <td>1</td>\n",
       "      <td>Sunrisers Hyderabad</td>\n",
       "      <td>Royal Challengers Bangalore</td>\n",
       "      <td>1</td>\n",
       "      <td>3</td>\n",
       "      <td>DA Warner</td>\n",
       "      <td>S Dhawan</td>\n",
       "      <td>TS Mills</td>\n",
       "      <td>0</td>\n",
       "      <td>...</td>\n",
       "      <td>0</td>\n",
       "      <td>0</td>\n",
       "      <td>0</td>\n",
       "      <td>0</td>\n",
       "      <td>4</td>\n",
       "      <td>0</td>\n",
       "      <td>4</td>\n",
       "      <td>NaN</td>\n",
       "      <td>NaN</td>\n",
       "      <td>NaN</td>\n",
       "    </tr>\n",
       "    <tr>\n",
       "      <th>3</th>\n",
       "      <td>1</td>\n",
       "      <td>1</td>\n",
       "      <td>Sunrisers Hyderabad</td>\n",
       "      <td>Royal Challengers Bangalore</td>\n",
       "      <td>1</td>\n",
       "      <td>4</td>\n",
       "      <td>DA Warner</td>\n",
       "      <td>S Dhawan</td>\n",
       "      <td>TS Mills</td>\n",
       "      <td>0</td>\n",
       "      <td>...</td>\n",
       "      <td>0</td>\n",
       "      <td>0</td>\n",
       "      <td>0</td>\n",
       "      <td>0</td>\n",
       "      <td>0</td>\n",
       "      <td>0</td>\n",
       "      <td>0</td>\n",
       "      <td>NaN</td>\n",
       "      <td>NaN</td>\n",
       "      <td>NaN</td>\n",
       "    </tr>\n",
       "    <tr>\n",
       "      <th>4</th>\n",
       "      <td>1</td>\n",
       "      <td>1</td>\n",
       "      <td>Sunrisers Hyderabad</td>\n",
       "      <td>Royal Challengers Bangalore</td>\n",
       "      <td>1</td>\n",
       "      <td>5</td>\n",
       "      <td>DA Warner</td>\n",
       "      <td>S Dhawan</td>\n",
       "      <td>TS Mills</td>\n",
       "      <td>0</td>\n",
       "      <td>...</td>\n",
       "      <td>0</td>\n",
       "      <td>0</td>\n",
       "      <td>0</td>\n",
       "      <td>0</td>\n",
       "      <td>0</td>\n",
       "      <td>2</td>\n",
       "      <td>2</td>\n",
       "      <td>NaN</td>\n",
       "      <td>NaN</td>\n",
       "      <td>NaN</td>\n",
       "    </tr>\n",
       "    <tr>\n",
       "      <th>...</th>\n",
       "      <td>...</td>\n",
       "      <td>...</td>\n",
       "      <td>...</td>\n",
       "      <td>...</td>\n",
       "      <td>...</td>\n",
       "      <td>...</td>\n",
       "      <td>...</td>\n",
       "      <td>...</td>\n",
       "      <td>...</td>\n",
       "      <td>...</td>\n",
       "      <td>...</td>\n",
       "      <td>...</td>\n",
       "      <td>...</td>\n",
       "      <td>...</td>\n",
       "      <td>...</td>\n",
       "      <td>...</td>\n",
       "      <td>...</td>\n",
       "      <td>...</td>\n",
       "      <td>...</td>\n",
       "      <td>...</td>\n",
       "      <td>...</td>\n",
       "    </tr>\n",
       "    <tr>\n",
       "      <th>179073</th>\n",
       "      <td>11415</td>\n",
       "      <td>2</td>\n",
       "      <td>Chennai Super Kings</td>\n",
       "      <td>Mumbai Indians</td>\n",
       "      <td>20</td>\n",
       "      <td>2</td>\n",
       "      <td>RA Jadeja</td>\n",
       "      <td>SR Watson</td>\n",
       "      <td>SL Malinga</td>\n",
       "      <td>0</td>\n",
       "      <td>...</td>\n",
       "      <td>0</td>\n",
       "      <td>0</td>\n",
       "      <td>0</td>\n",
       "      <td>0</td>\n",
       "      <td>1</td>\n",
       "      <td>0</td>\n",
       "      <td>1</td>\n",
       "      <td>NaN</td>\n",
       "      <td>NaN</td>\n",
       "      <td>NaN</td>\n",
       "    </tr>\n",
       "    <tr>\n",
       "      <th>179074</th>\n",
       "      <td>11415</td>\n",
       "      <td>2</td>\n",
       "      <td>Chennai Super Kings</td>\n",
       "      <td>Mumbai Indians</td>\n",
       "      <td>20</td>\n",
       "      <td>3</td>\n",
       "      <td>SR Watson</td>\n",
       "      <td>RA Jadeja</td>\n",
       "      <td>SL Malinga</td>\n",
       "      <td>0</td>\n",
       "      <td>...</td>\n",
       "      <td>0</td>\n",
       "      <td>0</td>\n",
       "      <td>0</td>\n",
       "      <td>0</td>\n",
       "      <td>2</td>\n",
       "      <td>0</td>\n",
       "      <td>2</td>\n",
       "      <td>NaN</td>\n",
       "      <td>NaN</td>\n",
       "      <td>NaN</td>\n",
       "    </tr>\n",
       "    <tr>\n",
       "      <th>179075</th>\n",
       "      <td>11415</td>\n",
       "      <td>2</td>\n",
       "      <td>Chennai Super Kings</td>\n",
       "      <td>Mumbai Indians</td>\n",
       "      <td>20</td>\n",
       "      <td>4</td>\n",
       "      <td>SR Watson</td>\n",
       "      <td>RA Jadeja</td>\n",
       "      <td>SL Malinga</td>\n",
       "      <td>0</td>\n",
       "      <td>...</td>\n",
       "      <td>0</td>\n",
       "      <td>0</td>\n",
       "      <td>0</td>\n",
       "      <td>0</td>\n",
       "      <td>1</td>\n",
       "      <td>0</td>\n",
       "      <td>1</td>\n",
       "      <td>SR Watson</td>\n",
       "      <td>run out</td>\n",
       "      <td>KH Pandya</td>\n",
       "    </tr>\n",
       "    <tr>\n",
       "      <th>179076</th>\n",
       "      <td>11415</td>\n",
       "      <td>2</td>\n",
       "      <td>Chennai Super Kings</td>\n",
       "      <td>Mumbai Indians</td>\n",
       "      <td>20</td>\n",
       "      <td>5</td>\n",
       "      <td>SN Thakur</td>\n",
       "      <td>RA Jadeja</td>\n",
       "      <td>SL Malinga</td>\n",
       "      <td>0</td>\n",
       "      <td>...</td>\n",
       "      <td>0</td>\n",
       "      <td>0</td>\n",
       "      <td>0</td>\n",
       "      <td>0</td>\n",
       "      <td>2</td>\n",
       "      <td>0</td>\n",
       "      <td>2</td>\n",
       "      <td>NaN</td>\n",
       "      <td>NaN</td>\n",
       "      <td>NaN</td>\n",
       "    </tr>\n",
       "    <tr>\n",
       "      <th>179077</th>\n",
       "      <td>11415</td>\n",
       "      <td>2</td>\n",
       "      <td>Chennai Super Kings</td>\n",
       "      <td>Mumbai Indians</td>\n",
       "      <td>20</td>\n",
       "      <td>6</td>\n",
       "      <td>SN Thakur</td>\n",
       "      <td>RA Jadeja</td>\n",
       "      <td>SL Malinga</td>\n",
       "      <td>0</td>\n",
       "      <td>...</td>\n",
       "      <td>0</td>\n",
       "      <td>0</td>\n",
       "      <td>0</td>\n",
       "      <td>0</td>\n",
       "      <td>0</td>\n",
       "      <td>0</td>\n",
       "      <td>0</td>\n",
       "      <td>SN Thakur</td>\n",
       "      <td>lbw</td>\n",
       "      <td>NaN</td>\n",
       "    </tr>\n",
       "  </tbody>\n",
       "</table>\n",
       "<p>179078 rows × 21 columns</p>\n",
       "</div>"
      ],
      "text/plain": [
       "        match_id  inning         batting_team                 bowling_team  \\\n",
       "0              1       1  Sunrisers Hyderabad  Royal Challengers Bangalore   \n",
       "1              1       1  Sunrisers Hyderabad  Royal Challengers Bangalore   \n",
       "2              1       1  Sunrisers Hyderabad  Royal Challengers Bangalore   \n",
       "3              1       1  Sunrisers Hyderabad  Royal Challengers Bangalore   \n",
       "4              1       1  Sunrisers Hyderabad  Royal Challengers Bangalore   \n",
       "...          ...     ...                  ...                          ...   \n",
       "179073     11415       2  Chennai Super Kings               Mumbai Indians   \n",
       "179074     11415       2  Chennai Super Kings               Mumbai Indians   \n",
       "179075     11415       2  Chennai Super Kings               Mumbai Indians   \n",
       "179076     11415       2  Chennai Super Kings               Mumbai Indians   \n",
       "179077     11415       2  Chennai Super Kings               Mumbai Indians   \n",
       "\n",
       "        over  ball    batsman non_striker      bowler  is_super_over  ...  \\\n",
       "0          1     1  DA Warner    S Dhawan    TS Mills              0  ...   \n",
       "1          1     2  DA Warner    S Dhawan    TS Mills              0  ...   \n",
       "2          1     3  DA Warner    S Dhawan    TS Mills              0  ...   \n",
       "3          1     4  DA Warner    S Dhawan    TS Mills              0  ...   \n",
       "4          1     5  DA Warner    S Dhawan    TS Mills              0  ...   \n",
       "...      ...   ...        ...         ...         ...            ...  ...   \n",
       "179073    20     2  RA Jadeja   SR Watson  SL Malinga              0  ...   \n",
       "179074    20     3  SR Watson   RA Jadeja  SL Malinga              0  ...   \n",
       "179075    20     4  SR Watson   RA Jadeja  SL Malinga              0  ...   \n",
       "179076    20     5  SN Thakur   RA Jadeja  SL Malinga              0  ...   \n",
       "179077    20     6  SN Thakur   RA Jadeja  SL Malinga              0  ...   \n",
       "\n",
       "        bye_runs  legbye_runs  noball_runs  penalty_runs  batsman_runs  \\\n",
       "0              0            0            0             0             0   \n",
       "1              0            0            0             0             0   \n",
       "2              0            0            0             0             4   \n",
       "3              0            0            0             0             0   \n",
       "4              0            0            0             0             0   \n",
       "...          ...          ...          ...           ...           ...   \n",
       "179073         0            0            0             0             1   \n",
       "179074         0            0            0             0             2   \n",
       "179075         0            0            0             0             1   \n",
       "179076         0            0            0             0             2   \n",
       "179077         0            0            0             0             0   \n",
       "\n",
       "        extra_runs  total_runs  player_dismissed dismissal_kind    fielder  \n",
       "0                0           0               NaN            NaN        NaN  \n",
       "1                0           0               NaN            NaN        NaN  \n",
       "2                0           4               NaN            NaN        NaN  \n",
       "3                0           0               NaN            NaN        NaN  \n",
       "4                2           2               NaN            NaN        NaN  \n",
       "...            ...         ...               ...            ...        ...  \n",
       "179073           0           1               NaN            NaN        NaN  \n",
       "179074           0           2               NaN            NaN        NaN  \n",
       "179075           0           1         SR Watson        run out  KH Pandya  \n",
       "179076           0           2               NaN            NaN        NaN  \n",
       "179077           0           0         SN Thakur            lbw        NaN  \n",
       "\n",
       "[179078 rows x 21 columns]"
      ]
     },
     "execution_count": 81,
     "metadata": {},
     "output_type": "execute_result"
    }
   ],
   "source": [
    "# Notice hoe there are many Nans in the player_dismissed column.\n",
    "\n",
    "deliveries_df"
   ]
  },
  {
   "cell_type": "code",
   "execution_count": 82,
   "metadata": {
    "executionInfo": {
     "elapsed": 39,
     "status": "aborted",
     "timestamp": 1628011925369,
     "user": {
      "displayName": "Aseem Bathla",
      "photoUrl": "",
      "userId": "03429090169407160342"
     },
     "user_tz": -330
    },
    "id": "z3XOXP6O5hYq"
   },
   "outputs": [],
   "source": [
    "# Replacing the NaNs in player dismissed column with zeroes.\n",
    "\n",
    "deliveries_df.player_dismissed.fillna(0, inplace = True)"
   ]
  },
  {
   "cell_type": "code",
   "execution_count": 83,
   "metadata": {
    "executionInfo": {
     "elapsed": 39,
     "status": "aborted",
     "timestamp": 1628011925369,
     "user": {
      "displayName": "Aseem Bathla",
      "photoUrl": "",
      "userId": "03429090169407160342"
     },
     "user_tz": -330
    },
    "id": "eSfeeB4W5hYq"
   },
   "outputs": [
    {
     "data": {
      "text/html": [
       "<div>\n",
       "<style scoped>\n",
       "    .dataframe tbody tr th:only-of-type {\n",
       "        vertical-align: middle;\n",
       "    }\n",
       "\n",
       "    .dataframe tbody tr th {\n",
       "        vertical-align: top;\n",
       "    }\n",
       "\n",
       "    .dataframe thead th {\n",
       "        text-align: right;\n",
       "    }\n",
       "</style>\n",
       "<table border=\"1\" class=\"dataframe\">\n",
       "  <thead>\n",
       "    <tr style=\"text-align: right;\">\n",
       "      <th></th>\n",
       "      <th>match_id</th>\n",
       "      <th>inning</th>\n",
       "      <th>batting_team</th>\n",
       "      <th>bowling_team</th>\n",
       "      <th>over</th>\n",
       "      <th>ball</th>\n",
       "      <th>batsman</th>\n",
       "      <th>non_striker</th>\n",
       "      <th>bowler</th>\n",
       "      <th>is_super_over</th>\n",
       "      <th>...</th>\n",
       "      <th>bye_runs</th>\n",
       "      <th>legbye_runs</th>\n",
       "      <th>noball_runs</th>\n",
       "      <th>penalty_runs</th>\n",
       "      <th>batsman_runs</th>\n",
       "      <th>extra_runs</th>\n",
       "      <th>total_runs</th>\n",
       "      <th>player_dismissed</th>\n",
       "      <th>dismissal_kind</th>\n",
       "      <th>fielder</th>\n",
       "    </tr>\n",
       "  </thead>\n",
       "  <tbody>\n",
       "    <tr>\n",
       "      <th>0</th>\n",
       "      <td>1</td>\n",
       "      <td>1</td>\n",
       "      <td>Sunrisers Hyderabad</td>\n",
       "      <td>Royal Challengers Bangalore</td>\n",
       "      <td>1</td>\n",
       "      <td>1</td>\n",
       "      <td>DA Warner</td>\n",
       "      <td>S Dhawan</td>\n",
       "      <td>TS Mills</td>\n",
       "      <td>0</td>\n",
       "      <td>...</td>\n",
       "      <td>0</td>\n",
       "      <td>0</td>\n",
       "      <td>0</td>\n",
       "      <td>0</td>\n",
       "      <td>0</td>\n",
       "      <td>0</td>\n",
       "      <td>0</td>\n",
       "      <td>0</td>\n",
       "      <td>NaN</td>\n",
       "      <td>NaN</td>\n",
       "    </tr>\n",
       "    <tr>\n",
       "      <th>1</th>\n",
       "      <td>1</td>\n",
       "      <td>1</td>\n",
       "      <td>Sunrisers Hyderabad</td>\n",
       "      <td>Royal Challengers Bangalore</td>\n",
       "      <td>1</td>\n",
       "      <td>2</td>\n",
       "      <td>DA Warner</td>\n",
       "      <td>S Dhawan</td>\n",
       "      <td>TS Mills</td>\n",
       "      <td>0</td>\n",
       "      <td>...</td>\n",
       "      <td>0</td>\n",
       "      <td>0</td>\n",
       "      <td>0</td>\n",
       "      <td>0</td>\n",
       "      <td>0</td>\n",
       "      <td>0</td>\n",
       "      <td>0</td>\n",
       "      <td>0</td>\n",
       "      <td>NaN</td>\n",
       "      <td>NaN</td>\n",
       "    </tr>\n",
       "    <tr>\n",
       "      <th>2</th>\n",
       "      <td>1</td>\n",
       "      <td>1</td>\n",
       "      <td>Sunrisers Hyderabad</td>\n",
       "      <td>Royal Challengers Bangalore</td>\n",
       "      <td>1</td>\n",
       "      <td>3</td>\n",
       "      <td>DA Warner</td>\n",
       "      <td>S Dhawan</td>\n",
       "      <td>TS Mills</td>\n",
       "      <td>0</td>\n",
       "      <td>...</td>\n",
       "      <td>0</td>\n",
       "      <td>0</td>\n",
       "      <td>0</td>\n",
       "      <td>0</td>\n",
       "      <td>4</td>\n",
       "      <td>0</td>\n",
       "      <td>4</td>\n",
       "      <td>0</td>\n",
       "      <td>NaN</td>\n",
       "      <td>NaN</td>\n",
       "    </tr>\n",
       "    <tr>\n",
       "      <th>3</th>\n",
       "      <td>1</td>\n",
       "      <td>1</td>\n",
       "      <td>Sunrisers Hyderabad</td>\n",
       "      <td>Royal Challengers Bangalore</td>\n",
       "      <td>1</td>\n",
       "      <td>4</td>\n",
       "      <td>DA Warner</td>\n",
       "      <td>S Dhawan</td>\n",
       "      <td>TS Mills</td>\n",
       "      <td>0</td>\n",
       "      <td>...</td>\n",
       "      <td>0</td>\n",
       "      <td>0</td>\n",
       "      <td>0</td>\n",
       "      <td>0</td>\n",
       "      <td>0</td>\n",
       "      <td>0</td>\n",
       "      <td>0</td>\n",
       "      <td>0</td>\n",
       "      <td>NaN</td>\n",
       "      <td>NaN</td>\n",
       "    </tr>\n",
       "    <tr>\n",
       "      <th>4</th>\n",
       "      <td>1</td>\n",
       "      <td>1</td>\n",
       "      <td>Sunrisers Hyderabad</td>\n",
       "      <td>Royal Challengers Bangalore</td>\n",
       "      <td>1</td>\n",
       "      <td>5</td>\n",
       "      <td>DA Warner</td>\n",
       "      <td>S Dhawan</td>\n",
       "      <td>TS Mills</td>\n",
       "      <td>0</td>\n",
       "      <td>...</td>\n",
       "      <td>0</td>\n",
       "      <td>0</td>\n",
       "      <td>0</td>\n",
       "      <td>0</td>\n",
       "      <td>0</td>\n",
       "      <td>2</td>\n",
       "      <td>2</td>\n",
       "      <td>0</td>\n",
       "      <td>NaN</td>\n",
       "      <td>NaN</td>\n",
       "    </tr>\n",
       "    <tr>\n",
       "      <th>...</th>\n",
       "      <td>...</td>\n",
       "      <td>...</td>\n",
       "      <td>...</td>\n",
       "      <td>...</td>\n",
       "      <td>...</td>\n",
       "      <td>...</td>\n",
       "      <td>...</td>\n",
       "      <td>...</td>\n",
       "      <td>...</td>\n",
       "      <td>...</td>\n",
       "      <td>...</td>\n",
       "      <td>...</td>\n",
       "      <td>...</td>\n",
       "      <td>...</td>\n",
       "      <td>...</td>\n",
       "      <td>...</td>\n",
       "      <td>...</td>\n",
       "      <td>...</td>\n",
       "      <td>...</td>\n",
       "      <td>...</td>\n",
       "      <td>...</td>\n",
       "    </tr>\n",
       "    <tr>\n",
       "      <th>179073</th>\n",
       "      <td>11415</td>\n",
       "      <td>2</td>\n",
       "      <td>Chennai Super Kings</td>\n",
       "      <td>Mumbai Indians</td>\n",
       "      <td>20</td>\n",
       "      <td>2</td>\n",
       "      <td>RA Jadeja</td>\n",
       "      <td>SR Watson</td>\n",
       "      <td>SL Malinga</td>\n",
       "      <td>0</td>\n",
       "      <td>...</td>\n",
       "      <td>0</td>\n",
       "      <td>0</td>\n",
       "      <td>0</td>\n",
       "      <td>0</td>\n",
       "      <td>1</td>\n",
       "      <td>0</td>\n",
       "      <td>1</td>\n",
       "      <td>0</td>\n",
       "      <td>NaN</td>\n",
       "      <td>NaN</td>\n",
       "    </tr>\n",
       "    <tr>\n",
       "      <th>179074</th>\n",
       "      <td>11415</td>\n",
       "      <td>2</td>\n",
       "      <td>Chennai Super Kings</td>\n",
       "      <td>Mumbai Indians</td>\n",
       "      <td>20</td>\n",
       "      <td>3</td>\n",
       "      <td>SR Watson</td>\n",
       "      <td>RA Jadeja</td>\n",
       "      <td>SL Malinga</td>\n",
       "      <td>0</td>\n",
       "      <td>...</td>\n",
       "      <td>0</td>\n",
       "      <td>0</td>\n",
       "      <td>0</td>\n",
       "      <td>0</td>\n",
       "      <td>2</td>\n",
       "      <td>0</td>\n",
       "      <td>2</td>\n",
       "      <td>0</td>\n",
       "      <td>NaN</td>\n",
       "      <td>NaN</td>\n",
       "    </tr>\n",
       "    <tr>\n",
       "      <th>179075</th>\n",
       "      <td>11415</td>\n",
       "      <td>2</td>\n",
       "      <td>Chennai Super Kings</td>\n",
       "      <td>Mumbai Indians</td>\n",
       "      <td>20</td>\n",
       "      <td>4</td>\n",
       "      <td>SR Watson</td>\n",
       "      <td>RA Jadeja</td>\n",
       "      <td>SL Malinga</td>\n",
       "      <td>0</td>\n",
       "      <td>...</td>\n",
       "      <td>0</td>\n",
       "      <td>0</td>\n",
       "      <td>0</td>\n",
       "      <td>0</td>\n",
       "      <td>1</td>\n",
       "      <td>0</td>\n",
       "      <td>1</td>\n",
       "      <td>SR Watson</td>\n",
       "      <td>run out</td>\n",
       "      <td>KH Pandya</td>\n",
       "    </tr>\n",
       "    <tr>\n",
       "      <th>179076</th>\n",
       "      <td>11415</td>\n",
       "      <td>2</td>\n",
       "      <td>Chennai Super Kings</td>\n",
       "      <td>Mumbai Indians</td>\n",
       "      <td>20</td>\n",
       "      <td>5</td>\n",
       "      <td>SN Thakur</td>\n",
       "      <td>RA Jadeja</td>\n",
       "      <td>SL Malinga</td>\n",
       "      <td>0</td>\n",
       "      <td>...</td>\n",
       "      <td>0</td>\n",
       "      <td>0</td>\n",
       "      <td>0</td>\n",
       "      <td>0</td>\n",
       "      <td>2</td>\n",
       "      <td>0</td>\n",
       "      <td>2</td>\n",
       "      <td>0</td>\n",
       "      <td>NaN</td>\n",
       "      <td>NaN</td>\n",
       "    </tr>\n",
       "    <tr>\n",
       "      <th>179077</th>\n",
       "      <td>11415</td>\n",
       "      <td>2</td>\n",
       "      <td>Chennai Super Kings</td>\n",
       "      <td>Mumbai Indians</td>\n",
       "      <td>20</td>\n",
       "      <td>6</td>\n",
       "      <td>SN Thakur</td>\n",
       "      <td>RA Jadeja</td>\n",
       "      <td>SL Malinga</td>\n",
       "      <td>0</td>\n",
       "      <td>...</td>\n",
       "      <td>0</td>\n",
       "      <td>0</td>\n",
       "      <td>0</td>\n",
       "      <td>0</td>\n",
       "      <td>0</td>\n",
       "      <td>0</td>\n",
       "      <td>0</td>\n",
       "      <td>SN Thakur</td>\n",
       "      <td>lbw</td>\n",
       "      <td>NaN</td>\n",
       "    </tr>\n",
       "  </tbody>\n",
       "</table>\n",
       "<p>179078 rows × 21 columns</p>\n",
       "</div>"
      ],
      "text/plain": [
       "        match_id  inning         batting_team                 bowling_team  \\\n",
       "0              1       1  Sunrisers Hyderabad  Royal Challengers Bangalore   \n",
       "1              1       1  Sunrisers Hyderabad  Royal Challengers Bangalore   \n",
       "2              1       1  Sunrisers Hyderabad  Royal Challengers Bangalore   \n",
       "3              1       1  Sunrisers Hyderabad  Royal Challengers Bangalore   \n",
       "4              1       1  Sunrisers Hyderabad  Royal Challengers Bangalore   \n",
       "...          ...     ...                  ...                          ...   \n",
       "179073     11415       2  Chennai Super Kings               Mumbai Indians   \n",
       "179074     11415       2  Chennai Super Kings               Mumbai Indians   \n",
       "179075     11415       2  Chennai Super Kings               Mumbai Indians   \n",
       "179076     11415       2  Chennai Super Kings               Mumbai Indians   \n",
       "179077     11415       2  Chennai Super Kings               Mumbai Indians   \n",
       "\n",
       "        over  ball    batsman non_striker      bowler  is_super_over  ...  \\\n",
       "0          1     1  DA Warner    S Dhawan    TS Mills              0  ...   \n",
       "1          1     2  DA Warner    S Dhawan    TS Mills              0  ...   \n",
       "2          1     3  DA Warner    S Dhawan    TS Mills              0  ...   \n",
       "3          1     4  DA Warner    S Dhawan    TS Mills              0  ...   \n",
       "4          1     5  DA Warner    S Dhawan    TS Mills              0  ...   \n",
       "...      ...   ...        ...         ...         ...            ...  ...   \n",
       "179073    20     2  RA Jadeja   SR Watson  SL Malinga              0  ...   \n",
       "179074    20     3  SR Watson   RA Jadeja  SL Malinga              0  ...   \n",
       "179075    20     4  SR Watson   RA Jadeja  SL Malinga              0  ...   \n",
       "179076    20     5  SN Thakur   RA Jadeja  SL Malinga              0  ...   \n",
       "179077    20     6  SN Thakur   RA Jadeja  SL Malinga              0  ...   \n",
       "\n",
       "        bye_runs  legbye_runs  noball_runs  penalty_runs  batsman_runs  \\\n",
       "0              0            0            0             0             0   \n",
       "1              0            0            0             0             0   \n",
       "2              0            0            0             0             4   \n",
       "3              0            0            0             0             0   \n",
       "4              0            0            0             0             0   \n",
       "...          ...          ...          ...           ...           ...   \n",
       "179073         0            0            0             0             1   \n",
       "179074         0            0            0             0             2   \n",
       "179075         0            0            0             0             1   \n",
       "179076         0            0            0             0             2   \n",
       "179077         0            0            0             0             0   \n",
       "\n",
       "        extra_runs  total_runs  player_dismissed dismissal_kind    fielder  \n",
       "0                0           0                 0            NaN        NaN  \n",
       "1                0           0                 0            NaN        NaN  \n",
       "2                0           4                 0            NaN        NaN  \n",
       "3                0           0                 0            NaN        NaN  \n",
       "4                2           2                 0            NaN        NaN  \n",
       "...            ...         ...               ...            ...        ...  \n",
       "179073           0           1                 0            NaN        NaN  \n",
       "179074           0           2                 0            NaN        NaN  \n",
       "179075           0           1         SR Watson        run out  KH Pandya  \n",
       "179076           0           2                 0            NaN        NaN  \n",
       "179077           0           0         SN Thakur            lbw        NaN  \n",
       "\n",
       "[179078 rows x 21 columns]"
      ]
     },
     "execution_count": 83,
     "metadata": {},
     "output_type": "execute_result"
    }
   ],
   "source": [
    "# Looking at the column to see if the changes were made.\n",
    "\n",
    "deliveries_df"
   ]
  },
  {
   "cell_type": "code",
   "execution_count": 84,
   "metadata": {
    "executionInfo": {
     "elapsed": 40,
     "status": "aborted",
     "timestamp": 1628011925370,
     "user": {
      "displayName": "Aseem Bathla",
      "photoUrl": "",
      "userId": "03429090169407160342"
     },
     "user_tz": -330
    },
    "id": "m_sGVv1B5hYr"
   },
   "outputs": [],
   "source": [
    "# Creating an empty list is_wicket, the idea is to make a column in the dataframe that shows that if a wicket was taken at\n",
    "# a particular delivery or not (did not include run out, retired hurt or obstructing the field because they are not\n",
    "# awarded to the bowler).\n",
    "\n",
    "is_wicket = []\n",
    "\n",
    "for i in range(179078):\n",
    "    if deliveries_df.player_dismissed[i] == 0:\n",
    "        is_wicket.append(0)\n",
    "    elif deliveries_df.player_dismissed[i] != 0:\n",
    "        if deliveries_df.dismissal_kind[i] != 'run out'or deliveries_df.dismissal_kind[i] != 'retired hurt' or deliveries_df.dismissal_kind[i] != 'obstructing the field':\n",
    "            is_wicket.append(1) \n",
    "\n",
    "# Adding the is_wicket list as a column to the dataset.            \n",
    "\n",
    "deliveries_df['is_wicket'] = is_wicket"
   ]
  },
  {
   "cell_type": "code",
   "execution_count": 85,
   "metadata": {
    "executionInfo": {
     "elapsed": 41,
     "status": "aborted",
     "timestamp": 1628011925371,
     "user": {
      "displayName": "Aseem Bathla",
      "photoUrl": "",
      "userId": "03429090169407160342"
     },
     "user_tz": -330
    },
    "id": "KiqxqlU-5hYr"
   },
   "outputs": [
    {
     "data": {
      "text/plain": [
       "bowler\n",
       "SL Malinga         188\n",
       "DJ Bravo           168\n",
       "A Mishra           165\n",
       "Harbhajan Singh    161\n",
       "PP Chawla          156\n",
       "B Kumar            141\n",
       "R Ashwin           138\n",
       "SP Narine          137\n",
       "UT Yadav           136\n",
       "R Vinay Kumar      127\n",
       "A Nehra            121\n",
       "Z Khan             119\n",
       "RA Jadeja          116\n",
       "SR Watson          107\n",
       "DW Steyn           104\n",
       "YS Chahal          102\n",
       "P Kumar            102\n",
       "RP Singh           100\n",
       "PP Ojha             99\n",
       "MM Sharma           99\n",
       "Name: is_wicket, dtype: int64"
      ]
     },
     "execution_count": 85,
     "metadata": {},
     "output_type": "execute_result"
    }
   ],
   "source": [
    "# Using the groupby functionality, grouping the dataset on bowlers and summing the is_wicket column for each bowler and\n",
    "# sorting it based on the sum value (descending).\n",
    "\n",
    "deliveries_df.groupby('bowler')['is_wicket'].sum().sort_values(ascending = False)[:20]"
   ]
  },
  {
   "cell_type": "markdown",
   "metadata": {
    "id": "GA-KfMRo5hYr"
   },
   "source": [
    "### Bowlers Who Bowled The Most Deliveries"
   ]
  },
  {
   "cell_type": "code",
   "execution_count": 86,
   "metadata": {
    "executionInfo": {
     "elapsed": 43,
     "status": "aborted",
     "timestamp": 1628011925373,
     "user": {
      "displayName": "Aseem Bathla",
      "photoUrl": "",
      "userId": "03429090169407160342"
     },
     "user_tz": -330
    },
    "id": "6nlfaWKs5hYr"
   },
   "outputs": [
    {
     "data": {
      "text/plain": [
       "Harbhajan Singh    3451\n",
       "A Mishra           3172\n",
       "PP Chawla          3157\n",
       "R Ashwin           3016\n",
       "SL Malinga         2974\n",
       "DJ Bravo           2711\n",
       "B Kumar            2707\n",
       "P Kumar            2637\n",
       "UT Yadav           2605\n",
       "SP Narine          2600\n",
       "RA Jadeja          2541\n",
       "Z Khan             2276\n",
       "DW Steyn           2207\n",
       "R Vinay Kumar      2186\n",
       "SR Watson          2137\n",
       "IK Pathan          2113\n",
       "I Sharma           1999\n",
       "A Nehra            1974\n",
       "PP Ojha            1945\n",
       "RP Singh           1874\n",
       "Name: bowler, dtype: int64"
      ]
     },
     "execution_count": 86,
     "metadata": {},
     "output_type": "execute_result"
    }
   ],
   "source": [
    "# Using the value_count functionality of pandas to find out the most deliveries bowled by top 20 bowlers.\n",
    "\n",
    "deliveries_df['bowler'].value_counts()[:20]"
   ]
  },
  {
   "cell_type": "code",
   "execution_count": 87,
   "metadata": {
    "executionInfo": {
     "elapsed": 42,
     "status": "aborted",
     "timestamp": 1628011925373,
     "user": {
      "displayName": "Aseem Bathla",
      "photoUrl": "",
      "userId": "03429090169407160342"
     },
     "user_tz": -330
    },
    "id": "DlHWSztC5hYr"
   },
   "outputs": [],
   "source": [
    "pd.set_option('display.max_columns', None)"
   ]
  },
  {
   "cell_type": "code",
   "execution_count": 88,
   "metadata": {
    "executionInfo": {
     "elapsed": 426,
     "status": "aborted",
     "timestamp": 1628011925757,
     "user": {
      "displayName": "Aseem Bathla",
      "photoUrl": "",
      "userId": "03429090169407160342"
     },
     "user_tz": -330
    },
    "id": "RFwHsK905hYs"
   },
   "outputs": [],
   "source": [
    "import jovian"
   ]
  },
  {
   "cell_type": "code",
   "execution_count": 89,
   "metadata": {
    "executionInfo": {
     "elapsed": 425,
     "status": "aborted",
     "timestamp": 1628011925757,
     "user": {
      "displayName": "Aseem Bathla",
      "photoUrl": "",
      "userId": "03429090169407160342"
     },
     "user_tz": -330
    },
    "id": "zS68f7wH5hYs"
   },
   "outputs": [
    {
     "data": {
      "application/javascript": [
       "window.require && require([\"base/js/namespace\"],function(Jupyter){Jupyter.notebook.save_checkpoint()})"
      ],
      "text/plain": [
       "<IPython.core.display.Javascript object>"
      ]
     },
     "metadata": {},
     "output_type": "display_data"
    },
    {
     "name": "stdout",
     "output_type": "stream",
     "text": [
      "[jovian] Updating notebook \"aseembathla19/ipl-data-analysis-2008-2019\" on https://jovian.ai\u001b[0m\n",
      "[jovian] Committed successfully! https://jovian.ai/aseembathla19/ipl-data-analysis-2008-2019\u001b[0m\n"
     ]
    },
    {
     "data": {
      "text/plain": [
       "'https://jovian.ai/aseembathla19/ipl-data-analysis-2008-2019'"
      ]
     },
     "execution_count": 89,
     "metadata": {},
     "output_type": "execute_result"
    }
   ],
   "source": [
    "jovian.commit()"
   ]
  },
  {
   "cell_type": "markdown",
   "metadata": {
    "id": "7xJ_zEc65hYs"
   },
   "source": [
    "## Asking and Answering Questions\n",
    "\n",
    "### In this section, I will try to answer some interesting questions about both the datasets.\n",
    "\n"
   ]
  },
  {
   "cell_type": "markdown",
   "metadata": {
    "id": "AsFL25SG5hYs"
   },
   "source": [
    "### Who Won The Most Man Of The Match Awards?"
   ]
  },
  {
   "cell_type": "code",
   "execution_count": 90,
   "metadata": {
    "executionInfo": {
     "elapsed": 426,
     "status": "aborted",
     "timestamp": 1628011925758,
     "user": {
      "displayName": "Aseem Bathla",
      "photoUrl": "",
      "userId": "03429090169407160342"
     },
     "user_tz": -330
    },
    "id": "Gt5YoRyj5hYs"
   },
   "outputs": [
    {
     "data": {
      "text/plain": [
       "CH Gayle          21\n",
       "AB de Villiers    20\n",
       "RG Sharma         17\n",
       "MS Dhoni          17\n",
       "DA Warner         17\n",
       "YK Pathan         16\n",
       "SR Watson         15\n",
       "SK Raina          14\n",
       "G Gambhir         13\n",
       "MEK Hussey        12\n",
       "AM Rahane         12\n",
       "V Kohli           12\n",
       "V Sehwag          11\n",
       "DR Smith          11\n",
       "AD Russell        11\n",
       "Name: Player, dtype: int64"
      ]
     },
     "execution_count": 90,
     "metadata": {},
     "output_type": "execute_result"
    }
   ],
   "source": [
    "## Using the value_counts functionality, I found the players (top 15) who won the most man of the match awards.\n",
    "\n",
    "motm = matches[['player_of_match']]\n",
    "motm = motm.rename(columns = {'player_of_match' : 'Player'})\n",
    "top_players = motm.Player.value_counts()[:15]\n",
    "top_players"
   ]
  },
  {
   "cell_type": "code",
   "execution_count": 91,
   "metadata": {
    "executionInfo": {
     "elapsed": 426,
     "status": "aborted",
     "timestamp": 1628011925758,
     "user": {
      "displayName": "Aseem Bathla",
      "photoUrl": "",
      "userId": "03429090169407160342"
     },
     "user_tz": -330
    },
    "id": "snrIn7XW5hYt"
   },
   "outputs": [
    {
     "data": {
      "image/png": "[encoded data removed]",
      "text/plain": [
       "<Figure size 864x432 with 1 Axes>"
      ]
     },
     "metadata": {},
     "output_type": "display_data"
    }
   ],
   "source": [
    "# Visualising the result.\n",
    "\n",
    "labels = top_players.index\n",
    "sizes = top_players.values\n",
    "plt.title('Most MOTM Award Winners', y = -0.3, fontweight = 'bold')\n",
    "plt.axis('equal')\n",
    "patches, texts, pcts  = plt.pie(sizes, labels = labels, autopct = \"%.1f %%\", startangle = 90, counterclock = False, radius = 1.5, \n",
    "         wedgeprops = {'linewidth': 3.0, 'edgecolor': 'black'}, textprops={'fontsize': 11});\n",
    "plt.setp(pcts, color='white', fontweight='bold');"
   ]
  },
  {
   "cell_type": "markdown",
   "metadata": {
    "id": "d6J3pSN65hYt"
   },
   "source": [
    "1. `Gayle`, `Raina`, `Kohli`, `Gambhir`, `Warner` have been in three of the most amazing stats, thus, being very scary players to face.\n",
    "\n",
    "2. Interestingly, there are `no bowlers` in this list."
   ]
  },
  {
   "cell_type": "markdown",
   "metadata": {
    "id": "Y0FLZbma5hYt"
   },
   "source": [
    "### How Many Matches Were There Where The Toss Winner Also Won The Match?\n"
   ]
  },
  {
   "cell_type": "code",
   "execution_count": 92,
   "metadata": {
    "executionInfo": {
     "elapsed": 426,
     "status": "aborted",
     "timestamp": 1628011925758,
     "user": {
      "displayName": "Aseem Bathla",
      "photoUrl": "",
      "userId": "03429090169407160342"
     },
     "user_tz": -330
    },
    "id": "AgIDi4sj5hYt"
   },
   "outputs": [],
   "source": [
    "# taking out only those records where the match winner was also the toss winner.\n",
    "\n",
    "match_and_toss_winner_df = matches[(matches.toss_winner == matches.winner)]"
   ]
  },
  {
   "cell_type": "code",
   "execution_count": 93,
   "metadata": {
    "executionInfo": {
     "elapsed": 425,
     "status": "aborted",
     "timestamp": 1628011925758,
     "user": {
      "displayName": "Aseem Bathla",
      "photoUrl": "",
      "userId": "03429090169407160342"
     },
     "user_tz": -330
    },
    "id": "QWF4eu4W5hYt"
   },
   "outputs": [
    {
     "data": {
      "text/plain": [
       "array(['normal', 'tie'], dtype=object)"
      ]
     },
     "execution_count": 93,
     "metadata": {},
     "output_type": "execute_result"
    }
   ],
   "source": [
    "# Finding out if there were any ties in the above dataframe.\n",
    "\n",
    "match_and_toss_winner_df.result.unique()"
   ]
  },
  {
   "cell_type": "code",
   "execution_count": 94,
   "metadata": {
    "executionInfo": {
     "elapsed": 426,
     "status": "aborted",
     "timestamp": 1628011925759,
     "user": {
      "displayName": "Aseem Bathla",
      "photoUrl": "",
      "userId": "03429090169407160342"
     },
     "user_tz": -330
    },
    "id": "d25zSWgk5hYt"
   },
   "outputs": [
    {
     "data": {
      "text/html": [
       "<div>\n",
       "<style scoped>\n",
       "    .dataframe tbody tr th:only-of-type {\n",
       "        vertical-align: middle;\n",
       "    }\n",
       "\n",
       "    .dataframe tbody tr th {\n",
       "        vertical-align: top;\n",
       "    }\n",
       "\n",
       "    .dataframe thead th {\n",
       "        text-align: right;\n",
       "    }\n",
       "</style>\n",
       "<table border=\"1\" class=\"dataframe\">\n",
       "  <thead>\n",
       "    <tr style=\"text-align: right;\">\n",
       "      <th></th>\n",
       "      <th>id</th>\n",
       "      <th>season</th>\n",
       "      <th>city</th>\n",
       "      <th>date</th>\n",
       "      <th>team1</th>\n",
       "      <th>team2</th>\n",
       "      <th>toss_winner</th>\n",
       "      <th>toss_decision</th>\n",
       "      <th>result</th>\n",
       "      <th>dl_applied</th>\n",
       "      <th>winner</th>\n",
       "      <th>win_by_runs</th>\n",
       "      <th>win_by_wickets</th>\n",
       "      <th>player_of_match</th>\n",
       "      <th>venue</th>\n",
       "      <th>umpire1</th>\n",
       "      <th>umpire2</th>\n",
       "      <th>umpire3</th>\n",
       "      <th>loser</th>\n",
       "      <th>home_team</th>\n",
       "      <th>away_team</th>\n",
       "    </tr>\n",
       "  </thead>\n",
       "  <tbody>\n",
       "    <tr>\n",
       "      <th>1</th>\n",
       "      <td>2</td>\n",
       "      <td>2017</td>\n",
       "      <td>Pune</td>\n",
       "      <td>2017-04-06</td>\n",
       "      <td>Mumbai Indians</td>\n",
       "      <td>Rising Pune Supergiant</td>\n",
       "      <td>Rising Pune Supergiant</td>\n",
       "      <td>field</td>\n",
       "      <td>normal</td>\n",
       "      <td>0</td>\n",
       "      <td>Rising Pune Supergiant</td>\n",
       "      <td>0</td>\n",
       "      <td>7</td>\n",
       "      <td>SPD Smith</td>\n",
       "      <td>Maharashtra Cricket Association Stadium</td>\n",
       "      <td>A Nand Kishore</td>\n",
       "      <td>S Ravi</td>\n",
       "      <td>NaN</td>\n",
       "      <td>Mumbai Indians</td>\n",
       "      <td>Rising Pune Supergiant</td>\n",
       "      <td>Mumbai Indians</td>\n",
       "    </tr>\n",
       "    <tr>\n",
       "      <th>2</th>\n",
       "      <td>3</td>\n",
       "      <td>2017</td>\n",
       "      <td>Rajkot</td>\n",
       "      <td>2017-04-07</td>\n",
       "      <td>Gujarat Lions</td>\n",
       "      <td>Kolkata Knight Riders</td>\n",
       "      <td>Kolkata Knight Riders</td>\n",
       "      <td>field</td>\n",
       "      <td>normal</td>\n",
       "      <td>0</td>\n",
       "      <td>Kolkata Knight Riders</td>\n",
       "      <td>0</td>\n",
       "      <td>10</td>\n",
       "      <td>CA Lynn</td>\n",
       "      <td>Saurashtra Cricket Association Stadium</td>\n",
       "      <td>Nitin Menon</td>\n",
       "      <td>CK Nandan</td>\n",
       "      <td>NaN</td>\n",
       "      <td>Gujarat Lions</td>\n",
       "      <td>Gujarat Lions</td>\n",
       "      <td>Kolkata Knight Riders</td>\n",
       "    </tr>\n",
       "    <tr>\n",
       "      <th>3</th>\n",
       "      <td>4</td>\n",
       "      <td>2017</td>\n",
       "      <td>Indore</td>\n",
       "      <td>2017-04-08</td>\n",
       "      <td>Rising Pune Supergiant</td>\n",
       "      <td>Kings XI Punjab</td>\n",
       "      <td>Kings XI Punjab</td>\n",
       "      <td>field</td>\n",
       "      <td>normal</td>\n",
       "      <td>0</td>\n",
       "      <td>Kings XI Punjab</td>\n",
       "      <td>0</td>\n",
       "      <td>6</td>\n",
       "      <td>GJ Maxwell</td>\n",
       "      <td>Holkar Cricket Stadium</td>\n",
       "      <td>AK Chaudhary</td>\n",
       "      <td>C Shamshuddin</td>\n",
       "      <td>NaN</td>\n",
       "      <td>Rising Pune Supergiant</td>\n",
       "      <td>Neutral</td>\n",
       "      <td>Neutral</td>\n",
       "    </tr>\n",
       "    <tr>\n",
       "      <th>4</th>\n",
       "      <td>5</td>\n",
       "      <td>2017</td>\n",
       "      <td>Bengaluru</td>\n",
       "      <td>2017-04-08</td>\n",
       "      <td>Royal Challengers Bangalore</td>\n",
       "      <td>Delhi Capitals</td>\n",
       "      <td>Royal Challengers Bangalore</td>\n",
       "      <td>bat</td>\n",
       "      <td>normal</td>\n",
       "      <td>0</td>\n",
       "      <td>Royal Challengers Bangalore</td>\n",
       "      <td>15</td>\n",
       "      <td>0</td>\n",
       "      <td>KM Jadhav</td>\n",
       "      <td>M Chinnaswamy Stadium</td>\n",
       "      <td>C Shamshuddin</td>\n",
       "      <td>CK Nandan</td>\n",
       "      <td>NaN</td>\n",
       "      <td>Delhi Capitals</td>\n",
       "      <td>Royal Challengers Bangalore</td>\n",
       "      <td>Delhi Capitals</td>\n",
       "    </tr>\n",
       "    <tr>\n",
       "      <th>5</th>\n",
       "      <td>6</td>\n",
       "      <td>2017</td>\n",
       "      <td>Hyderabad</td>\n",
       "      <td>2017-04-09</td>\n",
       "      <td>Gujarat Lions</td>\n",
       "      <td>Sunrisers Hyderabad</td>\n",
       "      <td>Sunrisers Hyderabad</td>\n",
       "      <td>field</td>\n",
       "      <td>normal</td>\n",
       "      <td>0</td>\n",
       "      <td>Sunrisers Hyderabad</td>\n",
       "      <td>0</td>\n",
       "      <td>9</td>\n",
       "      <td>Rashid Khan</td>\n",
       "      <td>Rajiv Gandhi International Stadium, Uppal</td>\n",
       "      <td>A Deshmukh</td>\n",
       "      <td>NJ Llong</td>\n",
       "      <td>NaN</td>\n",
       "      <td>Gujarat Lions</td>\n",
       "      <td>Sunrisers Hyderabad</td>\n",
       "      <td>Gujarat Lions</td>\n",
       "    </tr>\n",
       "    <tr>\n",
       "      <th>...</th>\n",
       "      <td>...</td>\n",
       "      <td>...</td>\n",
       "      <td>...</td>\n",
       "      <td>...</td>\n",
       "      <td>...</td>\n",
       "      <td>...</td>\n",
       "      <td>...</td>\n",
       "      <td>...</td>\n",
       "      <td>...</td>\n",
       "      <td>...</td>\n",
       "      <td>...</td>\n",
       "      <td>...</td>\n",
       "      <td>...</td>\n",
       "      <td>...</td>\n",
       "      <td>...</td>\n",
       "      <td>...</td>\n",
       "      <td>...</td>\n",
       "      <td>...</td>\n",
       "      <td>...</td>\n",
       "      <td>...</td>\n",
       "      <td>...</td>\n",
       "    </tr>\n",
       "    <tr>\n",
       "      <th>750</th>\n",
       "      <td>11346</td>\n",
       "      <td>2019</td>\n",
       "      <td>Mohali</td>\n",
       "      <td>2019-05-05</td>\n",
       "      <td>Chennai Super Kings</td>\n",
       "      <td>Kings XI Punjab</td>\n",
       "      <td>Kings XI Punjab</td>\n",
       "      <td>field</td>\n",
       "      <td>normal</td>\n",
       "      <td>0</td>\n",
       "      <td>Kings XI Punjab</td>\n",
       "      <td>0</td>\n",
       "      <td>6</td>\n",
       "      <td>KL Rahul</td>\n",
       "      <td>IS Bindra Stadium</td>\n",
       "      <td>KN Ananthapadmanabhan</td>\n",
       "      <td>C Shamshuddin</td>\n",
       "      <td>Bruce Oxenford</td>\n",
       "      <td>Chennai Super Kings</td>\n",
       "      <td>Kings XI Punjab</td>\n",
       "      <td>Chennai Super Kings</td>\n",
       "    </tr>\n",
       "    <tr>\n",
       "      <th>751</th>\n",
       "      <td>11347</td>\n",
       "      <td>2019</td>\n",
       "      <td>Mumbai</td>\n",
       "      <td>2019-05-05</td>\n",
       "      <td>Kolkata Knight Riders</td>\n",
       "      <td>Mumbai Indians</td>\n",
       "      <td>Mumbai Indians</td>\n",
       "      <td>field</td>\n",
       "      <td>normal</td>\n",
       "      <td>0</td>\n",
       "      <td>Mumbai Indians</td>\n",
       "      <td>0</td>\n",
       "      <td>9</td>\n",
       "      <td>HH Pandya</td>\n",
       "      <td>Wankhede Stadium</td>\n",
       "      <td>Nanda Kishore</td>\n",
       "      <td>O Nandan</td>\n",
       "      <td>S Ravi</td>\n",
       "      <td>Kolkata Knight Riders</td>\n",
       "      <td>Mumbai Indians</td>\n",
       "      <td>Kolkata Knight Riders</td>\n",
       "    </tr>\n",
       "    <tr>\n",
       "      <th>753</th>\n",
       "      <td>11413</td>\n",
       "      <td>2019</td>\n",
       "      <td>Visakhapatnam</td>\n",
       "      <td>2019-08-05</td>\n",
       "      <td>Sunrisers Hyderabad</td>\n",
       "      <td>Delhi Capitals</td>\n",
       "      <td>Delhi Capitals</td>\n",
       "      <td>field</td>\n",
       "      <td>normal</td>\n",
       "      <td>0</td>\n",
       "      <td>Delhi Capitals</td>\n",
       "      <td>0</td>\n",
       "      <td>2</td>\n",
       "      <td>RR Pant</td>\n",
       "      <td>ACA-VDCA Stadium</td>\n",
       "      <td>Bruce Oxenford</td>\n",
       "      <td>Sundaram Ravi</td>\n",
       "      <td>NaN</td>\n",
       "      <td>Sunrisers Hyderabad</td>\n",
       "      <td>Neutral</td>\n",
       "      <td>Neutral</td>\n",
       "    </tr>\n",
       "    <tr>\n",
       "      <th>754</th>\n",
       "      <td>11414</td>\n",
       "      <td>2019</td>\n",
       "      <td>Visakhapatnam</td>\n",
       "      <td>2019-10-05</td>\n",
       "      <td>Delhi Capitals</td>\n",
       "      <td>Chennai Super Kings</td>\n",
       "      <td>Chennai Super Kings</td>\n",
       "      <td>field</td>\n",
       "      <td>normal</td>\n",
       "      <td>0</td>\n",
       "      <td>Chennai Super Kings</td>\n",
       "      <td>0</td>\n",
       "      <td>6</td>\n",
       "      <td>F du Plessis</td>\n",
       "      <td>ACA-VDCA Stadium</td>\n",
       "      <td>Sundaram Ravi</td>\n",
       "      <td>Bruce Oxenford</td>\n",
       "      <td>Chettithody Shamshuddin</td>\n",
       "      <td>Delhi Capitals</td>\n",
       "      <td>Neutral</td>\n",
       "      <td>Neutral</td>\n",
       "    </tr>\n",
       "    <tr>\n",
       "      <th>755</th>\n",
       "      <td>11415</td>\n",
       "      <td>2019</td>\n",
       "      <td>Hyderabad</td>\n",
       "      <td>2019-12-05</td>\n",
       "      <td>Mumbai Indians</td>\n",
       "      <td>Chennai Super Kings</td>\n",
       "      <td>Mumbai Indians</td>\n",
       "      <td>bat</td>\n",
       "      <td>normal</td>\n",
       "      <td>0</td>\n",
       "      <td>Mumbai Indians</td>\n",
       "      <td>1</td>\n",
       "      <td>0</td>\n",
       "      <td>JJ Bumrah</td>\n",
       "      <td>Rajiv Gandhi Intl. Cricket Stadium</td>\n",
       "      <td>Nitin Menon</td>\n",
       "      <td>Ian Gould</td>\n",
       "      <td>Nigel Llong</td>\n",
       "      <td>Chennai Super Kings</td>\n",
       "      <td>Neutral</td>\n",
       "      <td>Neutral</td>\n",
       "    </tr>\n",
       "  </tbody>\n",
       "</table>\n",
       "<p>350 rows × 21 columns</p>\n",
       "</div>"
      ],
      "text/plain": [
       "        id  season           city       date                        team1  \\\n",
       "1        2    2017           Pune 2017-04-06               Mumbai Indians   \n",
       "2        3    2017         Rajkot 2017-04-07                Gujarat Lions   \n",
       "3        4    2017         Indore 2017-04-08       Rising Pune Supergiant   \n",
       "4        5    2017      Bengaluru 2017-04-08  Royal Challengers Bangalore   \n",
       "5        6    2017      Hyderabad 2017-04-09                Gujarat Lions   \n",
       "..     ...     ...            ...        ...                          ...   \n",
       "750  11346    2019         Mohali 2019-05-05          Chennai Super Kings   \n",
       "751  11347    2019         Mumbai 2019-05-05        Kolkata Knight Riders   \n",
       "753  11413    2019  Visakhapatnam 2019-08-05          Sunrisers Hyderabad   \n",
       "754  11414    2019  Visakhapatnam 2019-10-05               Delhi Capitals   \n",
       "755  11415    2019      Hyderabad 2019-12-05               Mumbai Indians   \n",
       "\n",
       "                      team2                  toss_winner toss_decision  \\\n",
       "1    Rising Pune Supergiant       Rising Pune Supergiant         field   \n",
       "2     Kolkata Knight Riders        Kolkata Knight Riders         field   \n",
       "3           Kings XI Punjab              Kings XI Punjab         field   \n",
       "4            Delhi Capitals  Royal Challengers Bangalore           bat   \n",
       "5       Sunrisers Hyderabad          Sunrisers Hyderabad         field   \n",
       "..                      ...                          ...           ...   \n",
       "750         Kings XI Punjab              Kings XI Punjab         field   \n",
       "751          Mumbai Indians               Mumbai Indians         field   \n",
       "753          Delhi Capitals               Delhi Capitals         field   \n",
       "754     Chennai Super Kings          Chennai Super Kings         field   \n",
       "755     Chennai Super Kings               Mumbai Indians           bat   \n",
       "\n",
       "     result  dl_applied                       winner  win_by_runs  \\\n",
       "1    normal           0       Rising Pune Supergiant            0   \n",
       "2    normal           0        Kolkata Knight Riders            0   \n",
       "3    normal           0              Kings XI Punjab            0   \n",
       "4    normal           0  Royal Challengers Bangalore           15   \n",
       "5    normal           0          Sunrisers Hyderabad            0   \n",
       "..      ...         ...                          ...          ...   \n",
       "750  normal           0              Kings XI Punjab            0   \n",
       "751  normal           0               Mumbai Indians            0   \n",
       "753  normal           0               Delhi Capitals            0   \n",
       "754  normal           0          Chennai Super Kings            0   \n",
       "755  normal           0               Mumbai Indians            1   \n",
       "\n",
       "     win_by_wickets player_of_match  \\\n",
       "1                 7       SPD Smith   \n",
       "2                10         CA Lynn   \n",
       "3                 6      GJ Maxwell   \n",
       "4                 0       KM Jadhav   \n",
       "5                 9     Rashid Khan   \n",
       "..              ...             ...   \n",
       "750               6        KL Rahul   \n",
       "751               9       HH Pandya   \n",
       "753               2         RR Pant   \n",
       "754               6    F du Plessis   \n",
       "755               0       JJ Bumrah   \n",
       "\n",
       "                                         venue                umpire1  \\\n",
       "1      Maharashtra Cricket Association Stadium         A Nand Kishore   \n",
       "2       Saurashtra Cricket Association Stadium            Nitin Menon   \n",
       "3                       Holkar Cricket Stadium           AK Chaudhary   \n",
       "4                        M Chinnaswamy Stadium          C Shamshuddin   \n",
       "5    Rajiv Gandhi International Stadium, Uppal             A Deshmukh   \n",
       "..                                         ...                    ...   \n",
       "750                          IS Bindra Stadium  KN Ananthapadmanabhan   \n",
       "751                           Wankhede Stadium          Nanda Kishore   \n",
       "753                           ACA-VDCA Stadium         Bruce Oxenford   \n",
       "754                           ACA-VDCA Stadium          Sundaram Ravi   \n",
       "755         Rajiv Gandhi Intl. Cricket Stadium            Nitin Menon   \n",
       "\n",
       "            umpire2                  umpire3                   loser  \\\n",
       "1            S Ravi                      NaN          Mumbai Indians   \n",
       "2         CK Nandan                      NaN           Gujarat Lions   \n",
       "3     C Shamshuddin                      NaN  Rising Pune Supergiant   \n",
       "4         CK Nandan                      NaN          Delhi Capitals   \n",
       "5          NJ Llong                      NaN           Gujarat Lions   \n",
       "..              ...                      ...                     ...   \n",
       "750   C Shamshuddin           Bruce Oxenford     Chennai Super Kings   \n",
       "751        O Nandan                   S Ravi   Kolkata Knight Riders   \n",
       "753   Sundaram Ravi                      NaN     Sunrisers Hyderabad   \n",
       "754  Bruce Oxenford  Chettithody Shamshuddin          Delhi Capitals   \n",
       "755       Ian Gould              Nigel Llong     Chennai Super Kings   \n",
       "\n",
       "                       home_team              away_team  \n",
       "1         Rising Pune Supergiant         Mumbai Indians  \n",
       "2                  Gujarat Lions  Kolkata Knight Riders  \n",
       "3                        Neutral                Neutral  \n",
       "4    Royal Challengers Bangalore         Delhi Capitals  \n",
       "5            Sunrisers Hyderabad          Gujarat Lions  \n",
       "..                           ...                    ...  \n",
       "750              Kings XI Punjab    Chennai Super Kings  \n",
       "751               Mumbai Indians  Kolkata Knight Riders  \n",
       "753                      Neutral                Neutral  \n",
       "754                      Neutral                Neutral  \n",
       "755                      Neutral                Neutral  \n",
       "\n",
       "[350 rows x 21 columns]"
      ]
     },
     "execution_count": 94,
     "metadata": {},
     "output_type": "execute_result"
    }
   ],
   "source": [
    "# Only keeping the matches that had normal (weren't tied and had a tiebreaker method to conclude the result) results.\n",
    "\n",
    "match_and_toss_winner_df = match_and_toss_winner_df[match_and_toss_winner_df['result'] == 'normal']\n",
    "match_and_toss_winner_df"
   ]
  },
  {
   "cell_type": "code",
   "execution_count": 95,
   "metadata": {
    "executionInfo": {
     "elapsed": 426,
     "status": "aborted",
     "timestamp": 1628011925759,
     "user": {
      "displayName": "Aseem Bathla",
      "photoUrl": "",
      "userId": "03429090169407160342"
     },
     "user_tz": -330
    },
    "id": "f8IB1qw_5hYu"
   },
   "outputs": [],
   "source": [
    "# Grouping the dataframe by winner and id and aggregating using count and sorting using count values.\n",
    "\n",
    "match_and_toss_winner_df = match_and_toss_winner_df.groupby('winner')[['id']].count()\n",
    "match_and_toss_winner_df = match_and_toss_winner_df.sort_values(by = 'id', ascending = False).reset_index()"
   ]
  },
  {
   "cell_type": "code",
   "execution_count": 96,
   "metadata": {
    "executionInfo": {
     "elapsed": 426,
     "status": "aborted",
     "timestamp": 1628011925759,
     "user": {
      "displayName": "Aseem Bathla",
      "photoUrl": "",
      "userId": "03429090169407160342"
     },
     "user_tz": -330
    },
    "id": "6PiKjvYf5hYu"
   },
   "outputs": [
    {
     "data": {
      "text/html": [
       "<div>\n",
       "<style scoped>\n",
       "    .dataframe tbody tr th:only-of-type {\n",
       "        vertical-align: middle;\n",
       "    }\n",
       "\n",
       "    .dataframe tbody tr th {\n",
       "        vertical-align: top;\n",
       "    }\n",
       "\n",
       "    .dataframe thead th {\n",
       "        text-align: right;\n",
       "    }\n",
       "</style>\n",
       "<table border=\"1\" class=\"dataframe\">\n",
       "  <thead>\n",
       "    <tr style=\"text-align: right;\">\n",
       "      <th></th>\n",
       "      <th>winner</th>\n",
       "      <th>id</th>\n",
       "    </tr>\n",
       "  </thead>\n",
       "  <tbody>\n",
       "    <tr>\n",
       "      <th>0</th>\n",
       "      <td>Chennai Super Kings</td>\n",
       "      <td>57</td>\n",
       "    </tr>\n",
       "    <tr>\n",
       "      <th>1</th>\n",
       "      <td>Mumbai Indians</td>\n",
       "      <td>55</td>\n",
       "    </tr>\n",
       "    <tr>\n",
       "      <th>2</th>\n",
       "      <td>Kolkata Knight Riders</td>\n",
       "      <td>53</td>\n",
       "    </tr>\n",
       "    <tr>\n",
       "      <th>3</th>\n",
       "      <td>Rajasthan Royals</td>\n",
       "      <td>41</td>\n",
       "    </tr>\n",
       "    <tr>\n",
       "      <th>4</th>\n",
       "      <td>Royal Challengers Bangalore</td>\n",
       "      <td>40</td>\n",
       "    </tr>\n",
       "    <tr>\n",
       "      <th>5</th>\n",
       "      <td>Kings XI Punjab</td>\n",
       "      <td>34</td>\n",
       "    </tr>\n",
       "    <tr>\n",
       "      <th>6</th>\n",
       "      <td>Sunrisers Hyderabad</td>\n",
       "      <td>23</td>\n",
       "    </tr>\n",
       "    <tr>\n",
       "      <th>7</th>\n",
       "      <td>Deccan Chargers</td>\n",
       "      <td>19</td>\n",
       "    </tr>\n",
       "    <tr>\n",
       "      <th>8</th>\n",
       "      <td>Gujarat Lions</td>\n",
       "      <td>10</td>\n",
       "    </tr>\n",
       "    <tr>\n",
       "      <th>9</th>\n",
       "      <td>Delhi Capitals</td>\n",
       "      <td>6</td>\n",
       "    </tr>\n",
       "    <tr>\n",
       "      <th>10</th>\n",
       "      <td>Rising Pune Supergiant</td>\n",
       "      <td>5</td>\n",
       "    </tr>\n",
       "    <tr>\n",
       "      <th>11</th>\n",
       "      <td>Kochi Tuskers Kerala</td>\n",
       "      <td>4</td>\n",
       "    </tr>\n",
       "    <tr>\n",
       "      <th>12</th>\n",
       "      <td>Pune Warriors</td>\n",
       "      <td>3</td>\n",
       "    </tr>\n",
       "  </tbody>\n",
       "</table>\n",
       "</div>"
      ],
      "text/plain": [
       "                         winner  id\n",
       "0           Chennai Super Kings  57\n",
       "1                Mumbai Indians  55\n",
       "2         Kolkata Knight Riders  53\n",
       "3              Rajasthan Royals  41\n",
       "4   Royal Challengers Bangalore  40\n",
       "5               Kings XI Punjab  34\n",
       "6           Sunrisers Hyderabad  23\n",
       "7               Deccan Chargers  19\n",
       "8                 Gujarat Lions  10\n",
       "9                Delhi Capitals   6\n",
       "10       Rising Pune Supergiant   5\n",
       "11         Kochi Tuskers Kerala   4\n",
       "12                Pune Warriors   3"
      ]
     },
     "execution_count": 96,
     "metadata": {},
     "output_type": "execute_result"
    }
   ],
   "source": [
    "match_and_toss_winner_df"
   ]
  },
  {
   "cell_type": "markdown",
   "metadata": {
    "id": "kNAhOue_5hYu"
   },
   "source": [
    "So, there are `350` matches that have happened in IPL where the toss winner has also gone on to win the match out of \n",
    "which `Chennai Super Kings` have won the most, i.e, `57` matches, followed very closely by `Mumbai Indians` which has won `55` matches, which in turn is followed very closely by `Kolkata Knight Riders` which has won `53` matches."
   ]
  },
  {
   "cell_type": "markdown",
   "metadata": {
    "id": "qdFp5oGI5hYu"
   },
   "source": [
    "### How Did The Top Bowlers Dismiss The Batsmen?"
   ]
  },
  {
   "cell_type": "code",
   "execution_count": 97,
   "metadata": {
    "executionInfo": {
     "elapsed": 427,
     "status": "aborted",
     "timestamp": 1628011925760,
     "user": {
      "displayName": "Aseem Bathla",
      "photoUrl": "",
      "userId": "03429090169407160342"
     },
     "user_tz": -330
    },
    "id": "Ciw8dhLW5hYu",
    "scrolled": true
   },
   "outputs": [
    {
     "name": "stdout",
     "output_type": "stream",
     "text": [
      "dismissal_kind   bowled  caught  caught and bowled  hit wicket  lbw  stumped\n",
      "bowler                                                                      \n",
      "SL Malinga           63      91                  5           0   11        0\n",
      "A Mishra             25      89                  3           0   13       26\n",
      "Harbhajan Singh      29      84                 10           1    8       18\n",
      "PP Chawla            43      72                  4           0   16       14\n",
      "DJ Bravo             20     113                  8           0    6        0\n",
      "B Kumar              35      84                  5           0    8        1\n",
      "R Ashwin             22      78                  3           0   14        8\n",
      "SP Narine            35      54                  7           0   16       10\n",
      "UT Yadav             21      89                  0           0    9        0\n",
      "RA Jadeja            27      59                  3           0   11        8\n"
     ]
    }
   ],
   "source": [
    "# Finding out different dismissal types.\n",
    "\n",
    "w_types = deliveries_df.dismissal_kind.unique()\n",
    "\n",
    "# Removing nan, run out, retired hurt from dismissal types list cause they are not awarded to the bowlers.\n",
    "\n",
    "w = [1, 2, 4, 5, 6, 8]\n",
    "w_types = [w_types[x] for x in w]\n",
    "\n",
    "# 1. Using indexing, first finding out only those records that have the above dismissal types.\n",
    "# 2. Then using groupby functionality, grouping the records by bowler and dismissal kind and aggregating using count.\n",
    "# 3. Then unstacking the temp df so that it becomes easier to read.\n",
    "\n",
    "temp = deliveries_df[deliveries_df['dismissal_kind'].isin(w_types)].groupby(by = ['bowler','dismissal_kind']).dismissal_kind.count().unstack(fill_value = 0)\n",
    "\n",
    "# Then summing across columns to create a column total (the idea is to sort by the total (wickets) column in desc. order).\n",
    "\n",
    "temp['total'] = temp.sum(axis=1)\n",
    "\n",
    "# Sorting by the total column in descending order and then dropping it and only keeping the top 10 bowlers.\n",
    "\n",
    "temp = temp.sort_values('total', ascending = False).drop('total', axis = 1).head(10)\n",
    "print(temp)"
   ]
  },
  {
   "cell_type": "code",
   "execution_count": 98,
   "metadata": {
    "executionInfo": {
     "elapsed": 426,
     "status": "aborted",
     "timestamp": 1628011925760,
     "user": {
      "displayName": "Aseem Bathla",
      "photoUrl": "",
      "userId": "03429090169407160342"
     },
     "user_tz": -330
    },
    "id": "adei8BaB5hYv"
   },
   "outputs": [
    {
     "data": {
      "image/png": "[encoded data removed]",
      "text/plain": [
       "<Figure size 864x432 with 1 Axes>"
      ]
     },
     "metadata": {
      "needs_background": "light"
     },
     "output_type": "display_data"
    }
   ],
   "source": [
    "# Visusalising the above dataframe using stacked barchart.\n",
    "\n",
    "x = temp.index\n",
    "y1 = temp.bowled\n",
    "y2 = temp.caught\n",
    "y3 = temp['caught and bowled']\n",
    "y4 = temp['hit wicket']\n",
    "y5 = temp.lbw\n",
    "y6 = temp.stumped\n",
    "\n",
    "plt.bar(x, y1, color = 'tab:red', edgecolor = 'black')\n",
    "plt.bar(x, y2, color = 'tab:green', bottom = y1, edgecolor = 'black')\n",
    "plt.bar(x, y3, color = 'tab:blue', bottom = y1 + y2, edgecolor = 'black')\n",
    "plt.bar(x, y4, color = 'tab:olive', bottom = y1 + y2 + y3, edgecolor = 'black')\n",
    "plt.bar(x, y5, color = 'tab:pink', bottom = y1 + y2 + y3 + y4, edgecolor = 'black')\n",
    "plt.bar(x, y6, color = 'tab:gray', bottom = y1 + y2 + y3 + y4 + y5, edgecolor = 'black')\n",
    "plt.xticks(rotation=45)\n",
    "plt.legend(w_types, loc = 1)\n",
    "plt.ylim([0, 200])\n",
    "plt.title('Top Bowlers & Dismissal Types',fontweight = 'bold', pad = 15, fontsize = 20)\n",
    "plt.xlabel('Bowlers', labelpad = -15, fontweight='bold', fontsize = 15)\n",
    "plt.ylabel('Total Wickets & Dismissal Types', labelpad = 20, fontweight='bold', fontsize = 15);"
   ]
  },
  {
   "cell_type": "markdown",
   "metadata": {
    "id": "KzgkjmG85hYv"
   },
   "source": [
    "As we can see from the above visualisation, `SL Malinga` is the most dangerous bowler who bowls dismiss his opponents a lot."
   ]
  },
  {
   "cell_type": "markdown",
   "metadata": {
    "id": "lfVG9f4N5hYv"
   },
   "source": [
    "### Who Were The Batsmen Who Struggled Against A Particular Bowler?"
   ]
  },
  {
   "cell_type": "code",
   "execution_count": 99,
   "metadata": {
    "executionInfo": {
     "elapsed": 426,
     "status": "aborted",
     "timestamp": 1628011925760,
     "user": {
      "displayName": "Aseem Bathla",
      "photoUrl": "",
      "userId": "03429090169407160342"
     },
     "user_tz": -330
    },
    "id": "SKKszN_V5hYv",
    "scrolled": true
   },
   "outputs": [
    {
     "data": {
      "text/html": [
       "<div>\n",
       "<style scoped>\n",
       "    .dataframe tbody tr th:only-of-type {\n",
       "        vertical-align: middle;\n",
       "    }\n",
       "\n",
       "    .dataframe tbody tr th {\n",
       "        vertical-align: top;\n",
       "    }\n",
       "\n",
       "    .dataframe thead th {\n",
       "        text-align: right;\n",
       "    }\n",
       "</style>\n",
       "<table border=\"1\" class=\"dataframe\">\n",
       "  <thead>\n",
       "    <tr style=\"text-align: right;\">\n",
       "      <th></th>\n",
       "      <th>Batsman</th>\n",
       "      <th>Bowler</th>\n",
       "      <th>Times_Dismissed</th>\n",
       "    </tr>\n",
       "  </thead>\n",
       "  <tbody>\n",
       "    <tr>\n",
       "      <th>0</th>\n",
       "      <td>MS Dhoni</td>\n",
       "      <td>Z Khan</td>\n",
       "      <td>7</td>\n",
       "    </tr>\n",
       "    <tr>\n",
       "      <th>1</th>\n",
       "      <td>PA Patel</td>\n",
       "      <td>B Kumar</td>\n",
       "      <td>6</td>\n",
       "    </tr>\n",
       "    <tr>\n",
       "      <th>2</th>\n",
       "      <td>AM Rahane</td>\n",
       "      <td>B Kumar</td>\n",
       "      <td>6</td>\n",
       "    </tr>\n",
       "    <tr>\n",
       "      <th>3</th>\n",
       "      <td>RG Sharma</td>\n",
       "      <td>SP Narine</td>\n",
       "      <td>6</td>\n",
       "    </tr>\n",
       "    <tr>\n",
       "      <th>4</th>\n",
       "      <td>RV Uthappa</td>\n",
       "      <td>R Ashwin</td>\n",
       "      <td>6</td>\n",
       "    </tr>\n",
       "    <tr>\n",
       "      <th>5</th>\n",
       "      <td>G Gambhir</td>\n",
       "      <td>Z Khan</td>\n",
       "      <td>6</td>\n",
       "    </tr>\n",
       "    <tr>\n",
       "      <th>6</th>\n",
       "      <td>V Kohli</td>\n",
       "      <td>A Nehra</td>\n",
       "      <td>6</td>\n",
       "    </tr>\n",
       "    <tr>\n",
       "      <th>7</th>\n",
       "      <td>AT Rayudu</td>\n",
       "      <td>MM Sharma</td>\n",
       "      <td>6</td>\n",
       "    </tr>\n",
       "    <tr>\n",
       "      <th>8</th>\n",
       "      <td>SPD Smith</td>\n",
       "      <td>RA Jadeja</td>\n",
       "      <td>5</td>\n",
       "    </tr>\n",
       "    <tr>\n",
       "      <th>9</th>\n",
       "      <td>SR Watson</td>\n",
       "      <td>A Mishra</td>\n",
       "      <td>5</td>\n",
       "    </tr>\n",
       "  </tbody>\n",
       "</table>\n",
       "</div>"
      ],
      "text/plain": [
       "      Batsman     Bowler Times_Dismissed\n",
       "0    MS Dhoni     Z Khan               7\n",
       "1    PA Patel    B Kumar               6\n",
       "2   AM Rahane    B Kumar               6\n",
       "3   RG Sharma  SP Narine               6\n",
       "4  RV Uthappa   R Ashwin               6\n",
       "5   G Gambhir     Z Khan               6\n",
       "6     V Kohli    A Nehra               6\n",
       "7   AT Rayudu  MM Sharma               6\n",
       "8   SPD Smith  RA Jadeja               5\n",
       "9   SR Watson   A Mishra               5"
      ]
     },
     "execution_count": 99,
     "metadata": {},
     "output_type": "execute_result"
    }
   ],
   "source": [
    "# Creating an empty dataframe with bowler, dismissal kind and batsman as columns.\n",
    "\n",
    "max_dismissal = pd.DataFrame(columns = [\"bowler\", \"dismissal_kind\", \"batsman\"])\n",
    "\n",
    "# Finding out all the batsmen that have played in the IPL.\n",
    "\n",
    "batsmen = deliveries_df.batsman.unique()\n",
    "\n",
    "# 1. picking out the data of each batsman from the above list one by one.\n",
    "# 2. Filtering out data based on dismissal kind of that batsman.\n",
    "# 3. Grouping by bowler and aggregating using count.\n",
    "# 4. Sorting values by dismissal kind count (descending() and then picking out the bowler at the top.\n",
    "# 5. Adding the current batsman to the column batsmen (after creating the column).\n",
    "# 6. Concatenating using concat functionality of pandas (over x axis).\n",
    "\n",
    "\n",
    "for x in batsmen:\n",
    "    current = deliveries_df[deliveries_df['batsman'] == x]\n",
    "    current = current[current['dismissal_kind'].isin(['caught', 'lbw', 'bowled', 'stumped', 'caught and bowled', \"hit wicket\"])]\n",
    "    current = current.groupby('bowler').count()\n",
    "    current = current.sort_values(by = 'dismissal_kind', ascending = 0).dismissal_kind[:1].reset_index()\n",
    "    current['batsman'] = x\n",
    "    max_dismissal = pd.concat([max_dismissal, current], ignore_index=True)\n",
    "\n",
    "# Sorting values using dismissal kind count (descending), creating a max_dismissal df, renaming the columns & showing top 10\n",
    "# bowlers who took a wicket of a particular batsman.\n",
    "    \n",
    "max_dismissal= max_dismissal.sort_values(by = 'dismissal_kind', ascending = 0, ignore_index = True)\n",
    "max_dismissal= max_dismissal[[\"batsman\", \"bowler\", \"dismissal_kind\"]]\n",
    "max_dismissal.rename(columns = {'batsman' : 'Batsman', 'bowler' : 'Bowler', 'dismissal_kind' : 'Times_Dismissed'}, inplace = True)\n",
    "max_dismissal.head(10)"
   ]
  },
  {
   "cell_type": "markdown",
   "metadata": {
    "id": "3W4KI8-g5hYw"
   },
   "source": [
    "1. As seen from the above table, `MS Dhoni` struggled against `Z Khan` the most and rest of the batsmen can be seen as well, struggling against some bowlers.\n",
    "2.  `Z Khan` & `B Kumar` are in the top 10 twice."
   ]
  },
  {
   "cell_type": "markdown",
   "metadata": {
    "id": "mFGJ6LpT5hYw"
   },
   "source": [
    "### Who Were The Top 10 Batsmen Based On Runs Scored & Who Were The Top 10 Batsmen That Were Dismissed The Most?"
   ]
  },
  {
   "cell_type": "code",
   "execution_count": 100,
   "metadata": {
    "executionInfo": {
     "elapsed": 426,
     "status": "aborted",
     "timestamp": 1628011925760,
     "user": {
      "displayName": "Aseem Bathla",
      "photoUrl": "",
      "userId": "03429090169407160342"
     },
     "user_tz": -330
    },
    "id": "1EJ7wBc05hYw"
   },
   "outputs": [
    {
     "data": {
      "text/plain": [
       "batsman\n",
       "V Kohli           5434\n",
       "SK Raina          5415\n",
       "RG Sharma         4914\n",
       "DA Warner         4741\n",
       "S Dhawan          4632\n",
       "CH Gayle          4560\n",
       "MS Dhoni          4477\n",
       "RV Uthappa        4446\n",
       "AB de Villiers    4428\n",
       "G Gambhir         4223\n",
       "Name: batsman_runs, dtype: int64"
      ]
     },
     "execution_count": 100,
     "metadata": {},
     "output_type": "execute_result"
    }
   ],
   "source": [
    "#top batsmen according to runs\n",
    "runs = deliveries_df.groupby(['batsman']).batsman_runs.sum().sort_values(ascending = False)\n",
    "runs[:10]"
   ]
  },
  {
   "cell_type": "markdown",
   "metadata": {
    "id": "CgkXyh5g5hYw"
   },
   "source": [
    "1. Interestingly, apart from `MS Dhoni`, everybody else are openers (that is they bat at positions 1, 2 or 3), which makes this a feat for Dhoni considering he bats in the middle order.\n",
    "2. `Raina`, `Kohli`, `Sharma`, `Gambhir`, `Warner`, `Uthappa`, `Gayle`have been in every good list so far."
   ]
  },
  {
   "cell_type": "code",
   "execution_count": 101,
   "metadata": {
    "executionInfo": {
     "elapsed": 427,
     "status": "aborted",
     "timestamp": 1628011925761,
     "user": {
      "displayName": "Aseem Bathla",
      "photoUrl": "",
      "userId": "03429090169407160342"
     },
     "user_tz": -330
    },
    "id": "8jsn6w-85hYw"
   },
   "outputs": [
    {
     "data": {
      "text/plain": [
       "batsman\n",
       "RG Sharma     162\n",
       "SK Raina      161\n",
       "RV Uthappa    157\n",
       "V Kohli       152\n",
       "KD Karthik    140\n",
       "S Dhawan      137\n",
       "G Gambhir     135\n",
       "PA Patel      127\n",
       "MS Dhoni      118\n",
       "AM Rahane     117\n",
       "Name: is_wicket, dtype: int64"
      ]
     },
     "execution_count": 101,
     "metadata": {},
     "output_type": "execute_result"
    }
   ],
   "source": [
    "# max number of times batsmen getting out\n",
    "out = deliveries_df.groupby(['batsman']).is_wicket.sum().sort_values(ascending = False)\n",
    "out[:10]"
   ]
  },
  {
   "cell_type": "markdown",
   "metadata": {
    "id": "2GAvx8Gs5hYx"
   },
   "source": [
    "`Raina`, `Kohli`, `Sharma`, `Gambhir`, `Warner`, `Uthappa` also get dismissed a lot too (though, after scoring a lot)."
   ]
  },
  {
   "cell_type": "markdown",
   "metadata": {
    "id": "UmklxsQJ5hYx"
   },
   "source": [
    "### Who Were The Top Batsmen Based On Batting Average?\n",
    "\n",
    "> Indented block\n",
    "\n"
   ]
  },
  {
   "cell_type": "markdown",
   "metadata": {
    "id": "JlzNv-705hYx"
   },
   "source": [
    "Batting average of a player is defined as number of runs scored divided by the amount of times dismissed."
   ]
  },
  {
   "cell_type": "code",
   "execution_count": 102,
   "metadata": {
    "executionInfo": {
     "elapsed": 427,
     "status": "aborted",
     "timestamp": 1628011925761,
     "user": {
      "displayName": "Aseem Bathla",
      "photoUrl": "",
      "userId": "03429090169407160342"
     },
     "user_tz": -330
    },
    "id": "osrqugSo5hYx"
   },
   "outputs": [
    {
     "data": {
      "text/plain": [
       "batsman\n",
       "HM Amla           44.384615\n",
       "AB de Villiers    42.576923\n",
       "JP Duminy         41.653061\n",
       "DA Warner         41.587719\n",
       "CH Gayle          41.454545\n",
       "KL Rahul          41.081633\n",
       "LMP Simmons       39.962963\n",
       "ML Hayden         39.535714\n",
       "OA Shah           38.923077\n",
       "KS Williamson     38.794118\n",
       "SE Marsh          38.292308\n",
       "MEK Hussey        38.019231\n",
       "MS Dhoni          37.940678\n",
       "JC Buttler        37.657895\n",
       "A Symonds         37.461538\n",
       "dtype: float64"
      ]
     },
     "execution_count": 102,
     "metadata": {},
     "output_type": "execute_result"
    }
   ],
   "source": [
    "# Finding top batsmen based on batting average.\n",
    "\n",
    "avg = (runs/out[:200]).sort_values(ascending = False)\n",
    "avg[:15]"
   ]
  },
  {
   "cell_type": "markdown",
   "metadata": {
    "id": "L8kUOK3y5hYy"
   },
   "source": [
    "1. `HM Amla, JP Duminy & AB de Villers` are out top batsmen based on batting average.\n",
    "2. `Gayle`, `Warner`, `Kohli` make this list, too."
   ]
  },
  {
   "cell_type": "code",
   "execution_count": 103,
   "metadata": {
    "executionInfo": {
     "elapsed": 426,
     "status": "aborted",
     "timestamp": 1628011925761,
     "user": {
      "displayName": "Aseem Bathla",
      "photoUrl": "",
      "userId": "03429090169407160342"
     },
     "user_tz": -330
    },
    "id": "0jcuA8hO5hYy"
   },
   "outputs": [
    {
     "data": {
      "application/javascript": [
       "window.require && require([\"base/js/namespace\"],function(Jupyter){Jupyter.notebook.save_checkpoint()})"
      ],
      "text/plain": [
       "<IPython.core.display.Javascript object>"
      ]
     },
     "metadata": {},
     "output_type": "display_data"
    },
    {
     "name": "stdout",
     "output_type": "stream",
     "text": [
      "[jovian] Updating notebook \"aseembathla19/ipl-data-analysis-2008-2019\" on https://jovian.ai\u001b[0m\n",
      "[jovian] Committed successfully! https://jovian.ai/aseembathla19/ipl-data-analysis-2008-2019\u001b[0m\n"
     ]
    },
    {
     "data": {
      "text/plain": [
       "'https://jovian.ai/aseembathla19/ipl-data-analysis-2008-2019'"
      ]
     },
     "execution_count": 103,
     "metadata": {},
     "output_type": "execute_result"
    }
   ],
   "source": [
    "jovian.commit()"
   ]
  },
  {
   "cell_type": "markdown",
   "metadata": {
    "id": "mcGvdV4X5hYy"
   },
   "source": [
    "## Inferences & Conclusion\n",
    "\n",
    "The above analysis gives us an overview of the IPL matches, stats of different players and some more enjoyable and knowledge facts about IPL from the Starting of IPL in the year 2008 upto 2019. The above observations contain a lot of information about a player in particular or a team as a whole.\n",
    "\n",
    "With that, we’ve come to the end of this analysis. If you are a cricket lover, I am sure you have heard about IPL before, and for many of you it is one of the favourite games to enjoy with your family. It's fun as well exciting to discuss the results of the games you love and tell others the stories of the same, after going through this notebook you will have a lot more stories to tell about IPL and brag about your knowledge on the game. Hope you enjoyed!"
   ]
  },
  {
   "cell_type": "code",
   "execution_count": 104,
   "metadata": {
    "executionInfo": {
     "elapsed": 426,
     "status": "aborted",
     "timestamp": 1628011925761,
     "user": {
      "displayName": "Aseem Bathla",
      "photoUrl": "",
      "userId": "03429090169407160342"
     },
     "user_tz": -330
    },
    "id": "XoLbywQS5hYy"
   },
   "outputs": [],
   "source": [
    "import jovian"
   ]
  },
  {
   "cell_type": "code",
   "execution_count": 105,
   "metadata": {
    "executionInfo": {
     "elapsed": 427,
     "status": "aborted",
     "timestamp": 1628011925762,
     "user": {
      "displayName": "Aseem Bathla",
      "photoUrl": "",
      "userId": "03429090169407160342"
     },
     "user_tz": -330
    },
    "id": "wntDkMgM5hYy"
   },
   "outputs": [
    {
     "data": {
      "application/javascript": [
       "window.require && require([\"base/js/namespace\"],function(Jupyter){Jupyter.notebook.save_checkpoint()})"
      ],
      "text/plain": [
       "<IPython.core.display.Javascript object>"
      ]
     },
     "metadata": {},
     "output_type": "display_data"
    },
    {
     "name": "stdout",
     "output_type": "stream",
     "text": [
      "[jovian] Updating notebook \"aseembathla19/ipl-data-analysis-2008-2019\" on https://jovian.ai\u001b[0m\n",
      "[jovian] Committed successfully! https://jovian.ai/aseembathla19/ipl-data-analysis-2008-2019\u001b[0m\n"
     ]
    },
    {
     "data": {
      "text/plain": [
       "'https://jovian.ai/aseembathla19/ipl-data-analysis-2008-2019'"
      ]
     },
     "execution_count": 105,
     "metadata": {},
     "output_type": "execute_result"
    }
   ],
   "source": [
    "jovian.commit()"
   ]
  },
  {
   "cell_type": "markdown",
   "metadata": {
    "id": "4g-wQaRh5hYz"
   },
   "source": [
    "## References & Future Works\n",
    "Thank you for coming this far, I hope you enjoyed my analysis on IPL matches and it helped you to learn a lot more about the game you love.\n",
    "\n",
    "This Project is a part of the Course DATA SCIENCE WITH PYTHON (ZERO_TO_PANDAS), I would like to express my gratitude towards the Jovian.ml Course Team and the Instructor Aakash NS for giving me an Oppurtunity to do a project like this. To know more about the course follow the link here.\n",
    "\n",
    "I would like to express my gratitude to Aakash NS and the whole Jovian.ml team for giving me an Oppurtunity to make such an wonderful data exploratory project. Follow Jovian forum to know more about different courses on Data Science, ML etc. and connect with a huge community of students and enthusiasts.\n",
    "\n",
    "## Future Work\n",
    "\n",
    "There are lot of scopes of improvement and/or addition in this project in future, with the data provided and adding extra datasets we can,\n",
    "\n",
    "Make a better team statistics which shows Run Rate of each team and overall position or value the team has in IPL.\n",
    "Predict the costs of players in next seasons of ipl using the data of the players and with the knowledge of the cost of the players in the previous seasons.\n",
    "Add observation for peak over to score in IPL and overs in which most dismissals takes place can be made using data manipulations.\n",
    "Also we can add the dataset of 2020 IPL, observe and compare how the performance of players and teams changes by modifying only few lines of code (more the data, merrier the visualization).\n",
    "\n",
    "\n",
    "## REFERENCES\n",
    "\n",
    "IPL 2008-2019 Dataset: https://www.kaggle.com/nowke9/ipldata\n",
    "\n",
    "Kaggle Datasets (Choose Dataset of your choice): https://www.kaggle.com/datasets\n",
    "\n",
    "Pandas user guide: https://pandas.pydata.org/docs/user_guide/index.html\n",
    "\n",
    "Matplotlib user guide: https://matplotlib.org/3.3.1/users/index.html\n",
    "\n",
    "Seaborn user guide & tutorial: https://seaborn.pydata.org/tutorial.html\n",
    "\n",
    "Data analysis guide(https://jovian.ml/aakashns/python-pandas-data-analysis)\n",
    "\n",
    "Jovian Forum (Ask Questions in this great community): https://jovian.ml/forum/\n",
    "\n",
    "Stackoverflow Community (Get answers of any problems): https://stackoverflow.com/questions\n",
    "\n",
    "Python solutions in Geeksforgeeks (Solutions made easy): https://www.geeksforgeeks.org/python-programming-language/\n",
    "\n",
    "opendatasets Python library (Choosing and using datasets in python made easy): https://github.com/JovianML/opendatasets"
   ]
  },
  {
   "cell_type": "markdown",
   "metadata": {
    "id": "pb_stC1i5hYz"
   },
   "source": [
    "### How to run the code\n",
    "\n",
    "This is an executable [*Jupyter notebook*](https://jupyter.org) hosted on [Jovian.ml](https://www.jovian.ml), a platform for sharing data science projects. You can run and experiment with the code in a couple of ways: *using free online resources* (recommended) or *on your own computer*.\n",
    "\n",
    "#### Option 1: Running using free online resources (1-click, recommended)\n",
    "\n",
    "The easiest way to start executing this notebook is to click the \"Run\" button at the top of this page, and select \"Run on Binder\". This will run the notebook on [mybinder.org](https://mybinder.org), a free online service for running Jupyter notebooks. You can also select \"Run on Colab\" or \"Run on Kaggle\".\n",
    "\n",
    "\n",
    "#### Option 2: Running on your computer locally\n",
    "\n",
    "1. Install Conda by [following these instructions](https://conda.io/projects/conda/en/latest/user-guide/install/index.html). Add Conda binaries to your system `PATH`, so you can use the `conda` command on your terminal.\n",
    "\n",
    "2. Create a Conda environment and install the required libraries by running these commands on the terminal:\n",
    "\n",
    "```\n",
    "conda create -n zerotopandas -y python=3.8 \n",
    "conda activate zerotopandas\n",
    "pip install jovian jupyter numpy pandas matplotlib seaborn opendatasets --upgrade\n",
    "```\n",
    "\n",
    "3. Press the \"Clone\" button above to copy the command for downloading the notebook, and run it on the terminal. This will create a new directory and download the notebook. The command will look something like this:\n",
    "\n",
    "```\n",
    "jovian clone notebook-owner/notebook-id\n",
    "```\n",
    "\n",
    "\n",
    "\n",
    "4. Enter the newly created directory using `cd directory-name` and start the Jupyter notebook.\n",
    "\n",
    "```\n",
    "jupyter notebook\n",
    "```\n",
    "\n",
    "You can now access Jupyter's web interface by clicking the link that shows up on the terminal or by visiting http://localhost:8888 on your browser. Click on the notebook file (it has a `.ipynb` extension) to open it.\n"
   ]
  },
  {
   "cell_type": "code",
   "execution_count": null,
   "metadata": {
    "executionInfo": {
     "elapsed": 427,
     "status": "aborted",
     "timestamp": 1628011925762,
     "user": {
      "displayName": "Aseem Bathla",
      "photoUrl": "",
      "userId": "03429090169407160342"
     },
     "user_tz": -330
    },
    "id": "Hb8WuW5B5hY0"
   },
   "outputs": [
    {
     "data": {
      "application/javascript": [
       "window.require && require([\"base/js/namespace\"],function(Jupyter){Jupyter.notebook.save_checkpoint()})"
      ],
      "text/plain": [
       "<IPython.core.display.Javascript object>"
      ]
     },
     "metadata": {},
     "output_type": "display_data"
    }
   ],
   "source": [
    "jovian.commit()"
   ]
  }
 ],
 "metadata": {
  "colab": {
   "name": "zerotopandas-course-project.ipynb",
   "provenance": []
  },
  "kernelspec": {
   "display_name": "Python 3 (ipykernel)",
   "language": "python",
   "name": "python3"
  },
  "language_info": {
   "codemirror_mode": {
    "name": "ipython",
    "version": 3
   },
   "file_extension": ".py",
   "mimetype": "text/x-python",
   "name": "python",
   "nbconvert_exporter": "python",
   "pygments_lexer": "ipython3",
   "version": "3.9.6"
  }
 },
 "nbformat": 4,
 "nbformat_minor": 1
}
